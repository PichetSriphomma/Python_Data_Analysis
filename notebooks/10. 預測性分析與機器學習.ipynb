{
 "cells": [
  {
   "cell_type": "markdown",
   "metadata": {},
   "source": [
    "# 10. 預測性分析與機器學習"
   ]
  },
  {
   "cell_type": "code",
   "execution_count": 2,
   "metadata": {},
   "outputs": [
    {
     "name": "stdout",
     "output_type": "stream",
     "text": [
      "Populating the interactive namespace from numpy and matplotlib\n"
     ]
    }
   ],
   "source": [
    "%pylab inline"
   ]
  },
  {
   "cell_type": "code",
   "execution_count": 3,
   "metadata": {
    "collapsed": true
   },
   "outputs": [],
   "source": [
    "import pandas as pd\n",
    "from pandas import Series, DataFrame"
   ]
  },
  {
   "cell_type": "markdown",
   "metadata": {},
   "source": [
    "## 10.1 scikit-learn 概貌"
   ]
  },
  {
   "cell_type": "code",
   "execution_count": 3,
   "metadata": {},
   "outputs": [
    {
     "name": "stdout",
     "output_type": "stream",
     "text": [
      "sklearn version 0.18.1\n",
      "sklearn.__check_build DESCRIPTION Module to give helpful messages to the user that did not compile the scikit properly. PACKAGE CONTENTS _check_build setup FUNCTI\n",
      "sklearn._build_utils \n",
      "sklearn.cluster DESCRIPTION The :mod:`sklearn.cluster` module gathers popular unsupervised clustering algorithms. PACKAGE CONTENTS _dbscan_inner _feature_ag\n",
      "sklearn.covariance DESCRIPTION The :mod:`sklearn.covariance` module includes methods and algorithms to robustly estimate the covariance of features given a set\n",
      "sklearn.cross_decomposition \n",
      "sklearn.datasets DESCRIPTION The :mod:`sklearn.datasets` module includes utilities to load datasets, including methods to load and fetch popular reference da\n",
      "sklearn.decomposition DESCRIPTION The :mod:`sklearn.decomposition` module includes matrix decomposition algorithms, including among others PCA, NMF or ICA. Most o\n",
      "sklearn.ensemble DESCRIPTION The :mod:`sklearn.ensemble` module includes ensemble-based methods for classification, regression and anomaly detection. PACKAGE\n",
      "sklearn.externals \n",
      "sklearn.feature_extraction DESCRIPTION The :mod:`sklearn.feature_extraction` module deals with feature extraction from raw data. It currently includes methods to extra\n",
      "sklearn.feature_selection DESCRIPTION The :mod:`sklearn.feature_selection` module implements feature selection algorithms. It currently includes univariate filter sel\n",
      "sklearn.gaussian_process DESCRIPTION The :mod:`sklearn.gaussian_process` module implements Gaussian Process based regression and classification. PACKAGE CONTENTS cor\n",
      "sklearn.linear_model DESCRIPTION The :mod:`sklearn.linear_model` module implements generalized linear models. It includes Ridge regression, Bayesian Regression, \n",
      "sklearn.manifold \n",
      "sklearn.metrics DESCRIPTION The :mod:`sklearn.metrics` module includes score functions, performance metrics and pairwise metrics and distance computations. \n",
      "sklearn.mixture \n",
      "sklearn.model_selection \n",
      "sklearn.neighbors DESCRIPTION The :mod:`sklearn.neighbors` module implements the k-nearest neighbors algorithm. PACKAGE CONTENTS approximate ball_tree base cl\n",
      "sklearn.neural_network DESCRIPTION The :mod:`sklearn.neural_network` module includes models based on neural networks. PACKAGE CONTENTS _base _stochastic_optimizers\n",
      "sklearn.preprocessing DESCRIPTION The :mod:`sklearn.preprocessing` module includes scaling, centering, normalization, binarization and imputation methods. PACKAGE\n",
      "sklearn.semi_supervised DESCRIPTION The :mod:`sklearn.semi_supervised` module implements semi-supervised learning algorithms. These algorithms utilized small amount\n",
      "sklearn.svm \n",
      "sklearn.tests \n",
      "sklearn.utils \n"
     ]
    }
   ],
   "source": [
    "import pkgutil as pu\n",
    "import pydoc\n",
    "import sklearn\n",
    "\n",
    "print(\"sklearn version\", sklearn.__version__)\n",
    "\n",
    "def clean(astr):\n",
    "    s = astr\n",
    "    # remove multiple spaces\n",
    "    s = ' '.join(s.split())\n",
    "    s = s.replace('=','')\n",
    "    return s\n",
    "\n",
    "def print_desc(prefix, pkg_path):\n",
    "    for pkg in pu.iter_modules(path=pkg_path):\n",
    "        name = prefix + \".\" + pkg[1]\n",
    "\n",
    "        if pkg[2] == True:\n",
    "            try:\n",
    "                docstr = pydoc.plain(pydoc.render_doc(name))\n",
    "                docstr = clean(docstr)\n",
    "                start = docstr.find(\"DESCRIPTION\")\n",
    "                docstr = docstr[start: start + 140]\n",
    "                print(name, docstr)\n",
    "            except:\n",
    "                continue\n",
    "\n",
    "print_desc(\"sklearn\", sklearn.__path__)"
   ]
  },
  {
   "cell_type": "markdown",
   "metadata": {
    "collapsed": true
   },
   "source": [
    "## 10.2 預處理"
   ]
  },
  {
   "cell_type": "code",
   "execution_count": 169,
   "metadata": {
    "collapsed": true
   },
   "outputs": [],
   "source": [
    "# 原始資料來源: https://www.knmi.nl/nederland-nu/klimatologie/daggegevens 之下的 \"260\"\n",
    "# f = 'etmgeg_260.txt'\n",
    "# df = pd.read_csv(f, skiprows = 47, header=0, low_memory=False)\n",
    "# df.columns = [c.strip() for c in df.columns]\n",
    "# df.tail()"
   ]
  },
  {
   "cell_type": "code",
   "execution_count": 170,
   "metadata": {
    "collapsed": true
   },
   "outputs": [],
   "source": [
    "# rain = df[['DR', 'RH', 'RHX']] \n",
    "\n",
    "# def to_float(v):\n",
    "#     v = v.strip()\n",
    "#     try: \n",
    "#         return  float(v) \n",
    "#     except:\n",
    "#         return np.nan\n",
    "\n",
    "# rain = rain.applymap(to_float)\n",
    "# rain = pd.concat([df['YYYYMMDD'], rain], axis = 1)\n",
    "# rain.dropna(inplace = True)\n",
    "# rain.index = Series(range(len(rain)))\n",
    "# rain.to_csv('rain.csv')\n",
    "# rain.tail() "
   ]
  },
  {
   "cell_type": "code",
   "execution_count": 4,
   "metadata": {},
   "outputs": [
    {
     "data": {
      "text/plain": [
       "31863     2.0\n",
       "31864    19.0\n",
       "31865    -1.0\n",
       "31866     0.0\n",
       "31867     9.0\n",
       "Name: RH, dtype: float64"
      ]
     },
     "execution_count": 4,
     "metadata": {},
     "output_type": "execute_result"
    }
   ],
   "source": [
    "df = pd.read_csv('rain.csv')\n",
    "rain = df['RH']\n",
    "dates = df['YYYYMMDD']\n",
    "rain.tail()"
   ]
  },
  {
   "cell_type": "code",
   "execution_count": 5,
   "metadata": {},
   "outputs": [
    {
     "name": "stdout",
     "output_type": "stream",
     "text": [
      "Rain mean 2.2117225743693067\n",
      "Rain variance 19.687869586540586\n",
      "Anderson rain AndersonResult(statistic=4706.3535591176333, critical_values=array([ 0.576,  0.656,  0.787,  0.918,  1.092]), significance_level=array([ 15. ,  10. ,   5. ,   2.5,   1. ]))\n",
      "Scaled mean -2.67557199357e-17\n",
      "Scaled variance 1.0\n",
      "Anderson scaled AndersonResult(statistic=4706.3535591175969, critical_values=array([ 0.576,  0.656,  0.787,  0.918,  1.092]), significance_level=array([ 15. ,  10. ,   5. ,   2.5,   1. ]))\n",
      "0\n",
      "[ 0.  1.] 20539.0\n",
      "[ 0  1  2  3  4  5  6  7  8  9 10 11 12 13 14 15 16 17 18 19 20 21 22 23 24\n",
      " 25 26 27 28 29 30 31 32 33 34 35 36 37 38 39 40 41 42 43 44 45 46 47 48 49\n",
      " 50 52 53 55 58 61 63]\n"
     ]
    },
    {
     "name": "stderr",
     "output_type": "stream",
     "text": [
      "D:\\Python\\lib\\site-packages\\sklearn\\utils\\validation.py:395: DeprecationWarning: Passing 1d arrays as data is deprecated in 0.17 and will raise ValueError in 0.19. Reshape your data either using X.reshape(-1, 1) if your data has a single feature or X.reshape(1, -1) if it contains a single sample.\n",
      "  DeprecationWarning)\n"
     ]
    }
   ],
   "source": [
    "import numpy as np\n",
    "from sklearn import preprocessing\n",
    "from scipy.stats import anderson\n",
    "\n",
    "\n",
    "# rain = np.load('rain.npy')\n",
    "rain = .1 * rain\n",
    "rain[rain < 0] = .05/2\n",
    "print(\"Rain mean\", rain.mean())\n",
    "print(\"Rain variance\", rain.var())\n",
    "print(\"Anderson rain\", anderson(rain))\n",
    "\n",
    "scaled = preprocessing.scale(rain)\n",
    "print(\"Scaled mean\", scaled.mean())\n",
    "print(\"Scaled variance\", scaled.var())\n",
    "print(\"Anderson scaled\", anderson(scaled))\n",
    "\n",
    "print(len(rain[rain < 0]))\n",
    "binarized = preprocessing.binarize(rain)\n",
    "print(np.unique(binarized), binarized.sum())\n",
    "\n",
    "lb = preprocessing.LabelBinarizer()\n",
    "lb.fit(rain.astype(int))\n",
    "print(lb.classes_)"
   ]
  },
  {
   "cell_type": "markdown",
   "metadata": {},
   "source": [
    "## 10.3 基於邏輯回歸的分類"
   ]
  },
  {
   "cell_type": "code",
   "execution_count": 6,
   "metadata": {},
   "outputs": [
    {
     "ename": "ValueError",
     "evalue": "Can't handle mix of continuous and binary",
     "output_type": "error",
     "traceback": [
      "\u001b[1;31m---------------------------------------------------------------------------\u001b[0m",
      "\u001b[1;31mValueError\u001b[0m                                Traceback (most recent call last)",
      "\u001b[1;32m<ipython-input-6-1a1091095d99>\u001b[0m in \u001b[0;36m<module>\u001b[1;34m()\u001b[0m\n\u001b[0;32m     20\u001b[0m \u001b[0mx\u001b[0m \u001b[1;33m=\u001b[0m \u001b[0mnp\u001b[0m\u001b[1;33m.\u001b[0m\u001b[0mvstack\u001b[0m\u001b[1;33m(\u001b[0m\u001b[1;33m(\u001b[0m\u001b[0mdates\u001b[0m\u001b[1;33m[\u001b[0m\u001b[1;33m:\u001b[0m\u001b[1;33m-\u001b[0m\u001b[1;36m1\u001b[0m\u001b[1;33m]\u001b[0m\u001b[1;33m,\u001b[0m \u001b[0mrain\u001b[0m\u001b[1;33m[\u001b[0m\u001b[1;33m:\u001b[0m\u001b[1;33m-\u001b[0m\u001b[1;36m1\u001b[0m\u001b[1;33m]\u001b[0m\u001b[1;33m)\u001b[0m\u001b[1;33m)\u001b[0m\u001b[1;33m\u001b[0m\u001b[0m\n\u001b[0;32m     21\u001b[0m \u001b[0my\u001b[0m \u001b[1;33m=\u001b[0m \u001b[0mnp\u001b[0m\u001b[1;33m.\u001b[0m\u001b[0msign\u001b[0m\u001b[1;33m(\u001b[0m\u001b[0mrain\u001b[0m\u001b[1;33m[\u001b[0m\u001b[1;36m1\u001b[0m\u001b[1;33m:\u001b[0m\u001b[1;33m]\u001b[0m\u001b[1;33m)\u001b[0m\u001b[1;33m\u001b[0m\u001b[0m\n\u001b[1;32m---> 22\u001b[1;33m \u001b[0mclassify\u001b[0m\u001b[1;33m(\u001b[0m\u001b[0mx\u001b[0m\u001b[1;33m.\u001b[0m\u001b[0mT\u001b[0m\u001b[1;33m,\u001b[0m \u001b[0my\u001b[0m\u001b[1;33m)\u001b[0m\u001b[1;33m\u001b[0m\u001b[0m\n\u001b[0m\u001b[0;32m     23\u001b[0m \u001b[1;33m\u001b[0m\u001b[0m\n\u001b[0;32m     24\u001b[0m \u001b[1;31m#iris example\u001b[0m\u001b[1;33m\u001b[0m\u001b[1;33m\u001b[0m\u001b[0m\n",
      "\u001b[1;32m<ipython-input-6-1a1091095d99>\u001b[0m in \u001b[0;36mclassify\u001b[1;34m(x, y)\u001b[0m\n\u001b[0;32m     11\u001b[0m     \u001b[1;32mfor\u001b[0m \u001b[0mtrain\u001b[0m\u001b[1;33m,\u001b[0m\u001b[0mtest\u001b[0m \u001b[1;32min\u001b[0m \u001b[0mkf\u001b[0m\u001b[1;33m:\u001b[0m\u001b[1;33m\u001b[0m\u001b[0m\n\u001b[0;32m     12\u001b[0m         \u001b[0mclf\u001b[0m\u001b[1;33m.\u001b[0m\u001b[0mfit\u001b[0m\u001b[1;33m(\u001b[0m\u001b[0mx\u001b[0m\u001b[1;33m[\u001b[0m\u001b[0mtrain\u001b[0m\u001b[1;33m]\u001b[0m\u001b[1;33m,\u001b[0m \u001b[0my\u001b[0m\u001b[1;33m[\u001b[0m\u001b[0mtrain\u001b[0m\u001b[1;33m]\u001b[0m\u001b[1;33m)\u001b[0m\u001b[1;33m\u001b[0m\u001b[0m\n\u001b[1;32m---> 13\u001b[1;33m         \u001b[0mscores\u001b[0m\u001b[1;33m.\u001b[0m\u001b[0mappend\u001b[0m\u001b[1;33m(\u001b[0m\u001b[0mclf\u001b[0m\u001b[1;33m.\u001b[0m\u001b[0mscore\u001b[0m\u001b[1;33m(\u001b[0m\u001b[0mx\u001b[0m\u001b[1;33m[\u001b[0m\u001b[0mtest\u001b[0m\u001b[1;33m]\u001b[0m\u001b[1;33m,\u001b[0m \u001b[0my\u001b[0m\u001b[1;33m[\u001b[0m\u001b[0mtest\u001b[0m\u001b[1;33m]\u001b[0m\u001b[1;33m)\u001b[0m\u001b[1;33m)\u001b[0m\u001b[1;33m\u001b[0m\u001b[0m\n\u001b[0m\u001b[0;32m     14\u001b[0m \u001b[1;33m\u001b[0m\u001b[0m\n\u001b[0;32m     15\u001b[0m     \u001b[0mprint\u001b[0m\u001b[1;33m(\u001b[0m\u001b[0mnp\u001b[0m\u001b[1;33m.\u001b[0m\u001b[0mmean\u001b[0m\u001b[1;33m(\u001b[0m\u001b[0mscores\u001b[0m\u001b[1;33m)\u001b[0m\u001b[1;33m)\u001b[0m\u001b[1;33m\u001b[0m\u001b[0m\n",
      "\u001b[1;32mD:\\Python\\lib\\site-packages\\sklearn\\base.py\u001b[0m in \u001b[0;36mscore\u001b[1;34m(self, X, y, sample_weight)\u001b[0m\n\u001b[0;32m    347\u001b[0m         \"\"\"\n\u001b[0;32m    348\u001b[0m         \u001b[1;32mfrom\u001b[0m \u001b[1;33m.\u001b[0m\u001b[0mmetrics\u001b[0m \u001b[1;32mimport\u001b[0m \u001b[0maccuracy_score\u001b[0m\u001b[1;33m\u001b[0m\u001b[0m\n\u001b[1;32m--> 349\u001b[1;33m         \u001b[1;32mreturn\u001b[0m \u001b[0maccuracy_score\u001b[0m\u001b[1;33m(\u001b[0m\u001b[0my\u001b[0m\u001b[1;33m,\u001b[0m \u001b[0mself\u001b[0m\u001b[1;33m.\u001b[0m\u001b[0mpredict\u001b[0m\u001b[1;33m(\u001b[0m\u001b[0mX\u001b[0m\u001b[1;33m)\u001b[0m\u001b[1;33m,\u001b[0m \u001b[0msample_weight\u001b[0m\u001b[1;33m=\u001b[0m\u001b[0msample_weight\u001b[0m\u001b[1;33m)\u001b[0m\u001b[1;33m\u001b[0m\u001b[0m\n\u001b[0m\u001b[0;32m    350\u001b[0m \u001b[1;33m\u001b[0m\u001b[0m\n\u001b[0;32m    351\u001b[0m \u001b[1;33m\u001b[0m\u001b[0m\n",
      "\u001b[1;32mD:\\Python\\lib\\site-packages\\sklearn\\metrics\\classification.py\u001b[0m in \u001b[0;36maccuracy_score\u001b[1;34m(y_true, y_pred, normalize, sample_weight)\u001b[0m\n\u001b[0;32m    170\u001b[0m \u001b[1;33m\u001b[0m\u001b[0m\n\u001b[0;32m    171\u001b[0m     \u001b[1;31m# Compute accuracy for each possible representation\u001b[0m\u001b[1;33m\u001b[0m\u001b[1;33m\u001b[0m\u001b[0m\n\u001b[1;32m--> 172\u001b[1;33m     \u001b[0my_type\u001b[0m\u001b[1;33m,\u001b[0m \u001b[0my_true\u001b[0m\u001b[1;33m,\u001b[0m \u001b[0my_pred\u001b[0m \u001b[1;33m=\u001b[0m \u001b[0m_check_targets\u001b[0m\u001b[1;33m(\u001b[0m\u001b[0my_true\u001b[0m\u001b[1;33m,\u001b[0m \u001b[0my_pred\u001b[0m\u001b[1;33m)\u001b[0m\u001b[1;33m\u001b[0m\u001b[0m\n\u001b[0m\u001b[0;32m    173\u001b[0m     \u001b[1;32mif\u001b[0m \u001b[0my_type\u001b[0m\u001b[1;33m.\u001b[0m\u001b[0mstartswith\u001b[0m\u001b[1;33m(\u001b[0m\u001b[1;34m'multilabel'\u001b[0m\u001b[1;33m)\u001b[0m\u001b[1;33m:\u001b[0m\u001b[1;33m\u001b[0m\u001b[0m\n\u001b[0;32m    174\u001b[0m         \u001b[0mdiffering_labels\u001b[0m \u001b[1;33m=\u001b[0m \u001b[0mcount_nonzero\u001b[0m\u001b[1;33m(\u001b[0m\u001b[0my_true\u001b[0m \u001b[1;33m-\u001b[0m \u001b[0my_pred\u001b[0m\u001b[1;33m,\u001b[0m \u001b[0maxis\u001b[0m\u001b[1;33m=\u001b[0m\u001b[1;36m1\u001b[0m\u001b[1;33m)\u001b[0m\u001b[1;33m\u001b[0m\u001b[0m\n",
      "\u001b[1;32mD:\\Python\\lib\\site-packages\\sklearn\\metrics\\classification.py\u001b[0m in \u001b[0;36m_check_targets\u001b[1;34m(y_true, y_pred)\u001b[0m\n\u001b[0;32m     80\u001b[0m     \u001b[1;32mif\u001b[0m \u001b[0mlen\u001b[0m\u001b[1;33m(\u001b[0m\u001b[0my_type\u001b[0m\u001b[1;33m)\u001b[0m \u001b[1;33m>\u001b[0m \u001b[1;36m1\u001b[0m\u001b[1;33m:\u001b[0m\u001b[1;33m\u001b[0m\u001b[0m\n\u001b[0;32m     81\u001b[0m         raise ValueError(\"Can't handle mix of {0} and {1}\"\n\u001b[1;32m---> 82\u001b[1;33m                          \"\".format(type_true, type_pred))\n\u001b[0m\u001b[0;32m     83\u001b[0m \u001b[1;33m\u001b[0m\u001b[0m\n\u001b[0;32m     84\u001b[0m     \u001b[1;31m# We can't have more than one value on y_type => The set is no more needed\u001b[0m\u001b[1;33m\u001b[0m\u001b[1;33m\u001b[0m\u001b[0m\n",
      "\u001b[1;31mValueError\u001b[0m: Can't handle mix of continuous and binary"
     ]
    }
   ],
   "source": [
    "from sklearn.linear_model import LogisticRegression\n",
    "from sklearn.cross_validation import KFold\n",
    "from sklearn import datasets\n",
    "import numpy as np\n",
    "\n",
    "def classify(x, y):\n",
    "    clf = LogisticRegression(random_state=12)\n",
    "    scores = []\n",
    "    kf = KFold(len(y), n_folds=10)\n",
    "\n",
    "    for train,test in kf:\n",
    "        clf.fit(x[train], y[train])\n",
    "        scores.append(clf.score(x[test], y[test]))\n",
    "\n",
    "    print(np.mean(scores))\n",
    "\n",
    "# rain = np.load('rain.npy')\n",
    "# dates = np.load('doy.npy')\n",
    "\n",
    "x = np.vstack((dates[:-1], rain[:-1]))\n",
    "y = np.sign(rain[1:])\n",
    "classify(x.T, y)\n",
    "\n",
    "#iris example\n",
    "iris = datasets.load_iris()\n",
    "x = iris.data[:, :2]\n",
    "y = iris.target\n",
    "classify(x, y)"
   ]
  },
  {
   "cell_type": "markdown",
   "metadata": {},
   "source": [
    "## 10.4 SVM (Support Vector Machines)"
   ]
  },
  {
   "cell_type": "code",
   "execution_count": 8,
   "metadata": {},
   "outputs": [
    {
     "name": "stderr",
     "output_type": "stream",
     "text": [
      "D:\\Python\\lib\\site-packages\\sklearn\\svm\\base.py:220: ConvergenceWarning: Solver terminated early (max_iter=100).  Consider pre-processing your data with StandardScaler or MinMaxScaler.\n",
      "  % self.max_iter, ConvergenceWarning)\n",
      "D:\\Python\\lib\\site-packages\\sklearn\\svm\\base.py:220: ConvergenceWarning: Solver terminated early (max_iter=100).  Consider pre-processing your data with StandardScaler or MinMaxScaler.\n",
      "  % self.max_iter, ConvergenceWarning)\n",
      "D:\\Python\\lib\\site-packages\\sklearn\\svm\\base.py:220: ConvergenceWarning: Solver terminated early (max_iter=100).  Consider pre-processing your data with StandardScaler or MinMaxScaler.\n",
      "  % self.max_iter, ConvergenceWarning)\n",
      "D:\\Python\\lib\\site-packages\\sklearn\\svm\\base.py:220: ConvergenceWarning: Solver terminated early (max_iter=100).  Consider pre-processing your data with StandardScaler or MinMaxScaler.\n",
      "  % self.max_iter, ConvergenceWarning)\n",
      "D:\\Python\\lib\\site-packages\\sklearn\\svm\\base.py:220: ConvergenceWarning: Solver terminated early (max_iter=100).  Consider pre-processing your data with StandardScaler or MinMaxScaler.\n",
      "  % self.max_iter, ConvergenceWarning)\n",
      "D:\\Python\\lib\\site-packages\\sklearn\\svm\\base.py:220: ConvergenceWarning: Solver terminated early (max_iter=100).  Consider pre-processing your data with StandardScaler or MinMaxScaler.\n",
      "  % self.max_iter, ConvergenceWarning)\n",
      "D:\\Python\\lib\\site-packages\\sklearn\\svm\\base.py:220: ConvergenceWarning: Solver terminated early (max_iter=100).  Consider pre-processing your data with StandardScaler or MinMaxScaler.\n",
      "  % self.max_iter, ConvergenceWarning)\n",
      "D:\\Python\\lib\\site-packages\\sklearn\\svm\\base.py:220: ConvergenceWarning: Solver terminated early (max_iter=100).  Consider pre-processing your data with StandardScaler or MinMaxScaler.\n",
      "  % self.max_iter, ConvergenceWarning)\n",
      "D:\\Python\\lib\\site-packages\\sklearn\\svm\\base.py:220: ConvergenceWarning: Solver terminated early (max_iter=100).  Consider pre-processing your data with StandardScaler or MinMaxScaler.\n",
      "  % self.max_iter, ConvergenceWarning)\n",
      "D:\\Python\\lib\\site-packages\\sklearn\\svm\\base.py:220: ConvergenceWarning: Solver terminated early (max_iter=100).  Consider pre-processing your data with StandardScaler or MinMaxScaler.\n",
      "  % self.max_iter, ConvergenceWarning)\n",
      "D:\\Python\\lib\\site-packages\\sklearn\\svm\\base.py:220: ConvergenceWarning: Solver terminated early (max_iter=100).  Consider pre-processing your data with StandardScaler or MinMaxScaler.\n",
      "  % self.max_iter, ConvergenceWarning)\n",
      "D:\\Python\\lib\\site-packages\\sklearn\\svm\\base.py:220: ConvergenceWarning: Solver terminated early (max_iter=100).  Consider pre-processing your data with StandardScaler or MinMaxScaler.\n",
      "  % self.max_iter, ConvergenceWarning)\n",
      "D:\\Python\\lib\\site-packages\\sklearn\\svm\\base.py:220: ConvergenceWarning: Solver terminated early (max_iter=100).  Consider pre-processing your data with StandardScaler or MinMaxScaler.\n",
      "  % self.max_iter, ConvergenceWarning)\n"
     ]
    },
    {
     "name": "stdout",
     "output_type": "stream",
     "text": [
      "Score 0.648821665045\n",
      "[mean: 0.51680, std: 0.10622, params: {'kernel': 'linear', 'C': 1},\n",
      " mean: 0.64449, std: 0.00003, params: {'kernel': 'poly', 'C': 1},\n",
      " mean: 0.64452, std: 0.00006, params: {'kernel': 'rbf', 'C': 1},\n",
      " mean: 0.51602, std: 0.10720, params: {'kernel': 'linear', 'C': 10},\n",
      " mean: 0.64449, std: 0.00003, params: {'kernel': 'poly', 'C': 10},\n",
      " mean: 0.35554, std: 0.00004, params: {'kernel': 'rbf', 'C': 10}]\n",
      "Score 0.82\n",
      "[mean: 0.80000, std: 0.03949, params: {'kernel': 'linear', 'C': 1},\n",
      " mean: 0.58667, std: 0.12603, params: {'kernel': 'poly', 'C': 1},\n",
      " mean: 0.80000, std: 0.03254, params: {'kernel': 'rbf', 'C': 1},\n",
      " mean: 0.74667, std: 0.07391, params: {'kernel': 'linear', 'C': 10},\n",
      " mean: 0.56667, std: 0.13132, params: {'kernel': 'poly', 'C': 10},\n",
      " mean: 0.79333, std: 0.03467, params: {'kernel': 'rbf', 'C': 10}]\n"
     ]
    },
    {
     "name": "stderr",
     "output_type": "stream",
     "text": [
      "D:\\Python\\lib\\site-packages\\sklearn\\svm\\base.py:220: ConvergenceWarning: Solver terminated early (max_iter=100).  Consider pre-processing your data with StandardScaler or MinMaxScaler.\n",
      "  % self.max_iter, ConvergenceWarning)\n",
      "D:\\Python\\lib\\site-packages\\sklearn\\svm\\base.py:220: ConvergenceWarning: Solver terminated early (max_iter=100).  Consider pre-processing your data with StandardScaler or MinMaxScaler.\n",
      "  % self.max_iter, ConvergenceWarning)\n",
      "D:\\Python\\lib\\site-packages\\sklearn\\svm\\base.py:220: ConvergenceWarning: Solver terminated early (max_iter=100).  Consider pre-processing your data with StandardScaler or MinMaxScaler.\n",
      "  % self.max_iter, ConvergenceWarning)\n",
      "D:\\Python\\lib\\site-packages\\sklearn\\svm\\base.py:220: ConvergenceWarning: Solver terminated early (max_iter=100).  Consider pre-processing your data with StandardScaler or MinMaxScaler.\n",
      "  % self.max_iter, ConvergenceWarning)\n",
      "D:\\Python\\lib\\site-packages\\sklearn\\svm\\base.py:220: ConvergenceWarning: Solver terminated early (max_iter=100).  Consider pre-processing your data with StandardScaler or MinMaxScaler.\n",
      "  % self.max_iter, ConvergenceWarning)\n",
      "D:\\Python\\lib\\site-packages\\sklearn\\svm\\base.py:220: ConvergenceWarning: Solver terminated early (max_iter=100).  Consider pre-processing your data with StandardScaler or MinMaxScaler.\n",
      "  % self.max_iter, ConvergenceWarning)\n",
      "D:\\Python\\lib\\site-packages\\sklearn\\svm\\base.py:220: ConvergenceWarning: Solver terminated early (max_iter=100).  Consider pre-processing your data with StandardScaler or MinMaxScaler.\n",
      "  % self.max_iter, ConvergenceWarning)\n",
      "D:\\Python\\lib\\site-packages\\sklearn\\svm\\base.py:220: ConvergenceWarning: Solver terminated early (max_iter=100).  Consider pre-processing your data with StandardScaler or MinMaxScaler.\n",
      "  % self.max_iter, ConvergenceWarning)\n",
      "D:\\Python\\lib\\site-packages\\sklearn\\svm\\base.py:220: ConvergenceWarning: Solver terminated early (max_iter=100).  Consider pre-processing your data with StandardScaler or MinMaxScaler.\n",
      "  % self.max_iter, ConvergenceWarning)\n"
     ]
    }
   ],
   "source": [
    "from sklearn.svm import SVC\n",
    "from sklearn.grid_search import GridSearchCV\n",
    "from sklearn import datasets\n",
    "import numpy as np\n",
    "from pprint import PrettyPrinter\n",
    "\n",
    "def classify(x, y):\n",
    "    clf = GridSearchCV(SVC(random_state=42, max_iter=100), {'kernel': ['linear', 'poly', 'rbf'], 'C':[1, 10]})\n",
    "\n",
    "    clf.fit(x, y)\n",
    "    print(\"Score\", clf.score(x, y))\n",
    "    PrettyPrinter().pprint(clf.grid_scores_)\n",
    "\n",
    "# rain = np.load('rain.npy')\n",
    "# dates = np.load('doy.npy')\n",
    "\n",
    "x = np.vstack((dates[:-1], rain[:-1]))\n",
    "y = np.sign(rain[1:])\n",
    "classify(x.T, y)\n",
    "\n",
    "#iris example\n",
    "iris = datasets.load_iris()\n",
    "x = iris.data[:, :2]\n",
    "y = iris.target\n",
    "classify(x, y)"
   ]
  },
  {
   "cell_type": "markdown",
   "metadata": {},
   "source": [
    "## 10.5 基於 ElasticNetCV 的回歸分析"
   ]
  },
  {
   "cell_type": "code",
   "execution_count": 10,
   "metadata": {},
   "outputs": [
    {
     "name": "stdout",
     "output_type": "stream",
     "text": [
      "Score 0.000330872759207\n"
     ]
    },
    {
     "data": {
      "image/png": "[encoded data removed]",
      "text/plain": [
       "<matplotlib.figure.Figure at 0xc6a9f98>"
      ]
     },
     "metadata": {},
     "output_type": "display_data"
    },
    {
     "name": "stdout",
     "output_type": "stream",
     "text": [
      "Score 0.683143903455\n"
     ]
    },
    {
     "data": {
      "image/png": "[encoded data removed]",
      "text/plain": [
       "<matplotlib.figure.Figure at 0xc72b358>"
      ]
     },
     "metadata": {},
     "output_type": "display_data"
    }
   ],
   "source": [
    "from sklearn.linear_model import ElasticNetCV\n",
    "import numpy as np\n",
    "from sklearn import datasets\n",
    "import matplotlib.pyplot as plt\n",
    "\n",
    "\n",
    "def regress(x, y, title):\n",
    "    clf = ElasticNetCV(max_iter=200, cv=10, l1_ratio = [.1, .5, .7, .9, .95, .99, 1])\n",
    "\n",
    "    clf.fit(x, y)\n",
    "    print(\"Score\", clf.score(x, y))\n",
    "\n",
    "    pred = clf.predict(x)\n",
    "    plt.title(\"Scatter plot of prediction and \" + title)\n",
    "    plt.xlabel(\"Prediction\")\n",
    "    plt.ylabel(\"Target\")\n",
    "    plt.scatter(y, pred)\n",
    "\n",
    "    # Show perfect fit line\n",
    "    if \"Boston\" in title:\n",
    "        plt.plot(y, y, label=\"Perfect Fit\")\n",
    "        plt.legend()\n",
    "\n",
    "    plt.grid(True)\n",
    "    plt.show()\n",
    "\n",
    "# rain = .1 * np.load('rain.npy')\n",
    "rain[rain < 0] = .05/2\n",
    "# dates = np.load('doy.npy')\n",
    "\n",
    "x = np.vstack((dates[:-1], rain[:-1]))\n",
    "y = rain[1:]\n",
    "regress(x.T, y, \"rain data\")\n",
    "\n",
    "boston = datasets.load_boston()\n",
    "x = boston.data\n",
    "y = boston.target\n",
    "regress(x, y, \"Boston house prices\")"
   ]
  },
  {
   "cell_type": "markdown",
   "metadata": {},
   "source": [
    "## 10.6 支持向量回歸"
   ]
  },
  {
   "cell_type": "code",
   "execution_count": 11,
   "metadata": {},
   "outputs": [
    {
     "name": "stderr",
     "output_type": "stream",
     "text": [
      "D:\\Python\\lib\\site-packages\\sklearn\\learning_curve.py:23: DeprecationWarning: This module was deprecated in version 0.18 in favor of the model_selection module into which all the functions are moved. This module will be removed in 0.20\n",
      "  DeprecationWarning)\n"
     ]
    },
    {
     "name": "stdout",
     "output_type": "stream",
     "text": [
      "Max test score Rain -0.00554889727415\n"
     ]
    },
    {
     "data": {
      "image/png": "[encoded data removed]",
      "text/plain": [
       "<matplotlib.figure.Figure at 0x6008cf8>"
      ]
     },
     "metadata": {},
     "output_type": "display_data"
    },
    {
     "name": "stdout",
     "output_type": "stream",
     "text": [
      "Max test score Boston 0.662092301104\n"
     ]
    },
    {
     "data": {
      "image/png": "[encoded data removed]",
      "text/plain": [
       "<matplotlib.figure.Figure at 0xae8ebe0>"
      ]
     },
     "metadata": {},
     "output_type": "display_data"
    }
   ],
   "source": [
    "import numpy as np\n",
    "from sklearn import datasets\n",
    "from sklearn.learning_curve import learning_curve\n",
    "from sklearn.svm import SVR\n",
    "from sklearn import preprocessing\n",
    "import multiprocessing\n",
    "import matplotlib.pyplot as plt\n",
    "\n",
    "\n",
    "def regress(x, y, ncpus, title):\n",
    "    X = preprocessing.scale(x)\n",
    "    Y = preprocessing.scale(y)\n",
    "    clf = SVR(max_iter=ncpus * 200)\n",
    "\n",
    "    train_sizes, train_scores, test_scores = learning_curve(clf, X, Y, n_jobs=ncpus) \n",
    "\n",
    "    plt.figure()\n",
    "    plt.title(title)\n",
    "    plt.plot(train_sizes, train_scores.mean(axis=1), label=\"Train score\")\n",
    "    plt.plot(train_sizes, test_scores.mean(axis=1), '--', label=\"Test score\")\n",
    "    print(\"Max test score \" + title, test_scores.max())\n",
    "    plt.grid(True)\n",
    "    plt.legend(loc='best')\n",
    "    plt.show()\n",
    "\n",
    "# rain = .1 * np.load('rain.npy')\n",
    "rain[rain < 0] = .05/2\n",
    "# dates = np.load('doy.npy')\n",
    "\n",
    "x = np.vstack((dates[:-1], rain[:-1]))\n",
    "y = rain[1:]\n",
    "ncpus = multiprocessing.cpu_count()\n",
    "regress(x.T, y, ncpus, \"Rain\")\n",
    "\n",
    "boston = datasets.load_boston()\n",
    "x = boston.data\n",
    "y = boston.target\n",
    "regress(x, y, ncpus, \"Boston\")"
   ]
  },
  {
   "cell_type": "markdown",
   "metadata": {},
   "source": [
    "## 10.7 基於相似性傳播算法的聚類分析"
   ]
  },
  {
   "cell_type": "code",
   "execution_count": 12,
   "metadata": {},
   "outputs": [
    {
     "name": "stdout",
     "output_type": "stream",
     "text": [
      "0\n",
      "1\n",
      "2\n"
     ]
    },
    {
     "data": {
      "image/png": "[encoded data removed]",
      "text/plain": [
       "<matplotlib.figure.Figure at 0xc67f7f0>"
      ]
     },
     "metadata": {},
     "output_type": "display_data"
    }
   ],
   "source": [
    "from sklearn import datasets\n",
    "from sklearn import cluster\n",
    "import numpy as np\n",
    "import matplotlib.pyplot as plt\n",
    "from sklearn.metrics import euclidean_distances\n",
    "\n",
    "\n",
    "x, _ = datasets.make_blobs(n_samples=100, centers=3, n_features=2, random_state=10)\n",
    "S = euclidean_distances(x)\n",
    "\n",
    "aff_pro = cluster.AffinityPropagation().fit(S)\n",
    "labels = aff_pro.labels_\n",
    "\n",
    "styles = ['o', 'x', '^']\n",
    "\n",
    "for style, label in zip(styles, np.unique(labels)):\n",
    "    print(label)\n",
    "    plt.plot(x[labels == label], style, label=label)\n",
    "\n",
    "plt.title(\"Clustering Blobs\")\n",
    "plt.grid(True)\n",
    "plt.legend(loc='best')\n",
    "plt.show()"
   ]
  },
  {
   "cell_type": "markdown",
   "metadata": {},
   "source": [
    "## 10.8 均值飄移算法"
   ]
  },
  {
   "cell_type": "code",
   "execution_count": 13,
   "metadata": {},
   "outputs": [
    {
     "data": {
      "image/png": "[encoded data removed]",
      "text/plain": [
       "<matplotlib.figure.Figure at 0x9cce0b8>"
      ]
     },
     "metadata": {},
     "output_type": "display_data"
    },
    {
     "data": {
      "image/png": "[encoded data removed]",
      "text/plain": [
       "<matplotlib.figure.Figure at 0xc6b05c0>"
      ]
     },
     "metadata": {},
     "output_type": "display_data"
    }
   ],
   "source": [
    "import numpy as np\n",
    "from sklearn import cluster\n",
    "import matplotlib.pyplot as plt\n",
    "import pandas as pd\n",
    "\n",
    "\n",
    "# rain = .1 * np.load('rain.npy')\n",
    "rain[rain < 0] = .05/2\n",
    "# dates = np.load('doy.npy')\n",
    "x = np.vstack((dates, rain))\n",
    "df = pd.DataFrame.from_records(x.T, columns=['dates', 'rain'])\n",
    "df = df.groupby('dates').mean()\n",
    "\n",
    "df.plot()\n",
    "x = np.vstack((np.arange(1, len(df) + 1) , df.as_matrix().ravel()))\n",
    "x = x.T\n",
    "ms = cluster.MeanShift()\n",
    "ms.fit(x)\n",
    "labels = ms.predict(x)\n",
    "\n",
    "plt.figure()\n",
    "grays = ['0', '0.5', '0.75']\n",
    "\n",
    "for gray, label in zip(grays, np.unique(labels)):\n",
    "    match = labels == label\n",
    "    x0 = x[:, 0]\n",
    "    x1 = x[:, 1]\n",
    "    plt.plot(x0[match], x1[match], lw=label+1, label=label)\n",
    "    plt.fill_between(x0, x1, where=match, color=gray)\n",
    "\n",
    "plt.grid(True)\n",
    "plt.legend()\n",
    "plt.show()"
   ]
  },
  {
   "cell_type": "markdown",
   "metadata": {},
   "source": [
    "## 10.9 遺傳算法"
   ]
  },
  {
   "cell_type": "code",
   "execution_count": 15,
   "metadata": {},
   "outputs": [],
   "source": [
    "# import array\n",
    "# import random\n",
    "# import numpy as np\n",
    "# from deap import algorithms\n",
    "# from deap import base\n",
    "# from deap import creator\n",
    "# from deap import tools\n",
    "# from scipy.stats import shapiro\n",
    "# import matplotlib.pyplot as plt\n",
    "\n",
    "\n",
    "# creator.create(\"FitnessMax\", base.Fitness, weights=(1.0,))\n",
    "# creator.create(\"Individual\", array.array, typecode='d', fitness=creator.FitnessMax)\n",
    "\n",
    "# toolbox = base.Toolbox()\n",
    "# toolbox.register(\"attr_float\", random.random)\n",
    "# toolbox.register(\"individual\", tools.initRepeat, creator.Individual, toolbox.attr_float, 200)\n",
    "# toolbox.register(\"populate\", tools.initRepeat, list, toolbox.individual)\n",
    "\n",
    "# def eval(individual):\n",
    "#     return shapiro(individual)[1],\n",
    "\n",
    "# toolbox.register(\"evaluate\", eval)\n",
    "# toolbox.register(\"mate\", tools.cxTwoPoint)\n",
    "# toolbox.register(\"mutate\", tools.mutFlipBit, indpb=0.1)\n",
    "# toolbox.register(\"select\", tools.selTournament, tournsize=4)\n",
    "\n",
    "# random.seed(42)\n",
    "\n",
    "# pop = toolbox.populate(n=400)\n",
    "# hof = tools.HallOfFame(1)\n",
    "# stats = tools.Statistics(key=lambda ind: ind.fitness.values)\n",
    "# stats.register(\"max\", np.max)\n",
    "\n",
    "# algorithms.eaSimple(pop, toolbox, cxpb=0.5, mutpb=0.2, ngen=80, stats=stats, halloffame=hof)\n",
    "\n",
    "# print(shapiro(hof[0])[1])\n",
    "# plt.hist(hof[0])\n",
    "# plt.grid(True)\n",
    "# plt.show()"
   ]
  },
  {
   "cell_type": "markdown",
   "metadata": {},
   "source": [
    "## 10.10 神經網路"
   ]
  },
  {
   "cell_type": "code",
   "execution_count": 18,
   "metadata": {},
   "outputs": [],
   "source": [
    "# import numpy as np\n",
    "# import theanets\n",
    "# import multiprocessing\n",
    "# from sklearn import datasets\n",
    "# from sklearn.metrics import accuracy_score\n",
    "\n",
    "\n",
    "# rain = .1 * np.load('rain.npy')\n",
    "# rain[rain < 0] = .05/2\n",
    "# dates = np.load('doy.npy')\n",
    "# x = np.vstack((dates[:-1], np.sign(rain[:-1])))\n",
    "# x = x.T\n",
    "\n",
    "# y = np.vstack(np.sign(rain[1:]),)\n",
    "# N = int(.9 * len(x))\n",
    "\n",
    "# e = theanets.Experiment(theanets.Regressor,\n",
    "#                         layers=(2, 3, 1),\n",
    "#                         learning_rate=0.1,\n",
    "#                         momentum=0.5,\n",
    "#                         patience=300,\n",
    "#                         train_batches=multiprocessing.cpu_count(),\n",
    "#                         num_updates=500)\n",
    "\n",
    "# train = [x[:N], y[:N]]\n",
    "# valid = [x[N:], y[N:]]\n",
    "# e.run(train, valid)\n",
    "\n",
    "# pred = e.network(x[N:]).ravel()\n",
    "# print(\"Pred Min\", pred.min(), \"Max\", pred.max())\n",
    "# print(\"Y Min\", y.min(), \"Max\", y.max())\n",
    "# print(\"Accuracy\", accuracy_score(y[N:], pred >= .5))"
   ]
  },
  {
   "cell_type": "markdown",
   "metadata": {},
   "source": [
    "## 10.11 決策樹"
   ]
  },
  {
   "cell_type": "code",
   "execution_count": 21,
   "metadata": {},
   "outputs": [
    {
     "ename": "ImportError",
     "evalue": "No module named 'pydot'",
     "output_type": "error",
     "traceback": [
      "\u001b[1;31m---------------------------------------------------------------------------\u001b[0m",
      "\u001b[1;31mImportError\u001b[0m                               Traceback (most recent call last)",
      "\u001b[1;32m<ipython-input-21-49f2496e68b8>\u001b[0m in \u001b[0;36m<module>\u001b[1;34m()\u001b[0m\n\u001b[0;32m      3\u001b[0m \u001b[1;32mfrom\u001b[0m \u001b[0msklearn\u001b[0m\u001b[1;33m.\u001b[0m\u001b[0mgrid_search\u001b[0m \u001b[1;32mimport\u001b[0m \u001b[0mRandomizedSearchCV\u001b[0m\u001b[1;33m\u001b[0m\u001b[0m\n\u001b[0;32m      4\u001b[0m \u001b[1;32mfrom\u001b[0m \u001b[0mscipy\u001b[0m\u001b[1;33m.\u001b[0m\u001b[0mstats\u001b[0m \u001b[1;32mimport\u001b[0m \u001b[0mrandint\u001b[0m \u001b[1;32mas\u001b[0m \u001b[0msp_randint\u001b[0m\u001b[1;33m\u001b[0m\u001b[0m\n\u001b[1;32m----> 5\u001b[1;33m \u001b[1;32mimport\u001b[0m \u001b[0mpydot\u001b[0m\u001b[1;33m\u001b[0m\u001b[0m\n\u001b[0m\u001b[0;32m      6\u001b[0m \u001b[1;32mimport\u001b[0m \u001b[0mio\u001b[0m\u001b[1;33m\u001b[0m\u001b[0m\n\u001b[0;32m      7\u001b[0m \u001b[1;32mimport\u001b[0m \u001b[0mnumpy\u001b[0m \u001b[1;32mas\u001b[0m \u001b[0mnp\u001b[0m\u001b[1;33m\u001b[0m\u001b[0m\n",
      "\u001b[1;31mImportError\u001b[0m: No module named 'pydot'"
     ]
    }
   ],
   "source": [
    "from sklearn.cross_validation import train_test_split\n",
    "from sklearn import tree\n",
    "from sklearn.grid_search import RandomizedSearchCV\n",
    "from scipy.stats import randint as sp_randint\n",
    "import pydot\n",
    "import io\n",
    "import numpy as np\n",
    "from tempfile import NamedTemporaryFile\n",
    "\n",
    "# rain = .1 * np.load('rain.npy')\n",
    "rain[rain < 0] = .05/2\n",
    "# dates = np.load('doy.npy').astype(int)\n",
    "x = np.vstack((dates[:-1], np.sign(rain[:-1])))\n",
    "x = x.T\n",
    "\n",
    "y = np.sign(rain[1:])\n",
    "\n",
    "x_train, x_test, y_train, y_test = train_test_split(x, y, random_state=37)\n",
    "\n",
    "clf = tree.DecisionTreeClassifier(random_state=37)\n",
    "params = {\"max_depth\": [2, None],\n",
    "              \"min_samples_leaf\": sp_randint(1, 5),\n",
    "              \"criterion\": [\"gini\", \"entropy\"]}\n",
    "rscv = RandomizedSearchCV(clf, params)\n",
    "rscv.fit(x_train,y_train)\n",
    "\n",
    "sio = io.StringIO()\n",
    "tree.export_graphviz(rscv.best_estimator_, out_file=sio, feature_names=['day-of-year','yest'])\n",
    "dec_tree = pydot.graph_from_dot_data(sio.getvalue())\n",
    "\n",
    "with NamedTemporaryFile(prefix='rain', suffix='.png', delete=False) as f:\n",
    "    dec_tree.write_png(f.name)\n",
    "    print(\"Written figure to\", f.name)\n",
    "\n",
    "print(\"Best Train Score\", rscv.best_score_)\n",
    "print(\"Test Score\", rscv.score(x_test, y_test))\n",
    "print(\"Best params\", rscv.best_params_)"
   ]
  }
 ],
 "metadata": {
  "kernelspec": {
   "display_name": "Python 3",
   "language": "python",
   "name": "python3"
  },
  "language_info": {
   "codemirror_mode": {
    "name": "ipython",
    "version": 3
   },
   "file_extension": ".py",
   "mimetype": "text/x-python",
   "name": "python",
   "nbconvert_exporter": "python",
   "pygments_lexer": "ipython3",
   "version": "3.5.3"
  }
 },
 "nbformat": 4,
 "nbformat_minor": 2
}
