{
 "cells": [
  {
   "cell_type": "markdown",
   "metadata": {},
   "source": [
    "# 8. 應用數據庫"
   ]
  },
  {
   "cell_type": "code",
   "execution_count": 1,
   "metadata": {},
   "outputs": [
    {
     "name": "stdout",
     "output_type": "stream",
     "text": [
      "Populating the interactive namespace from numpy and matplotlib\n"
     ]
    }
   ],
   "source": [
    "%pylab inline"
   ]
  },
  {
   "cell_type": "code",
   "execution_count": 2,
   "metadata": {
    "collapsed": true
   },
   "outputs": [],
   "source": [
    "import pandas as pd\n",
    "from pandas import Series, DataFrame"
   ]
  },
  {
   "cell_type": "markdown",
   "metadata": {
    "collapsed": true
   },
   "source": [
    "## 8.1 基於 SQLite3 的輕量級訪問"
   ]
  },
  {
   "cell_type": "code",
   "execution_count": 3,
   "metadata": {},
   "outputs": [
    {
     "name": "stdout",
     "output_type": "stream",
     "text": [
      "Table sensors\n",
      "('2016-11-05', 'Utrecht', 'Red', 42.0, 15.14)\n",
      "# of tables 0\n"
     ]
    }
   ],
   "source": [
    "import sqlite3\n",
    "\n",
    "with sqlite3.connect(\":memory:\") as con:\n",
    "    c = con.cursor()\n",
    "    c.execute('''CREATE TABLE sensors\n",
    "                 (date text, city text, code text, sensor_id real, temperature real)''')\n",
    "\n",
    "    for table in c.execute(\"SELECT name FROM sqlite_master WHERE type = 'table'\"):\n",
    "        print(\"Table\", table[0])\n",
    "\n",
    "    c.execute(\"INSERT INTO sensors VALUES ('2016-11-05','Utrecht','Red',42,15.14)\")\n",
    "    c.execute(\"SELECT * FROM sensors\")\n",
    "    print(c.fetchone())\n",
    "\n",
    "\n",
    "    con.execute(\"DROP TABLE sensors\")\n",
    "\n",
    "    print(\"# of tables\", c.execute(\"SELECT COUNT(*) FROM sqlite_master WHERE type = 'table'\").fetchone()[0])\n",
    "\n",
    "    c.close()"
   ]
  },
  {
   "cell_type": "markdown",
   "metadata": {},
   "source": [
    "## 8.2 通過 pandas 訪問數據庫"
   ]
  },
  {
   "cell_type": "code",
   "execution_count": 4,
   "metadata": {},
   "outputs": [
    {
     "name": "stdout",
     "output_type": "stream",
     "text": [
      "(309,)\n",
      "Deleted 217 rows\n",
      "      year  sunactivity\n",
      "0   1700.0          5.0\n",
      "1   1701.0         11.0\n",
      "2   1702.0         16.0\n",
      "3   1707.0         20.0\n",
      "4   1708.0         10.0\n",
      "5   1709.0          8.0\n",
      "6   1710.0          3.0\n",
      "7   1711.0          0.0\n",
      "8   1712.0          0.0\n",
      "9   1713.0          2.0\n",
      "10  1714.0         11.0\n",
      "11  1723.0         11.0\n"
     ]
    }
   ],
   "source": [
    "import statsmodels\n",
    "from pandas.io.sql import read_sql\n",
    "import sqlite3\n",
    "\n",
    "with sqlite3.connect(\":memory:\") as con:\n",
    "    c = con.cursor()\n",
    "\n",
    "    data_loader = statsmodels.datasets.sunspots.load_pandas()\n",
    "    df = data_loader.data\n",
    "    rows = [tuple(x) for x in df.values]  # 由 DataFrame 中提取資料，準備寫入資料庫\n",
    "\n",
    "    con.execute(\"CREATE TABLE sunspots(year, sunactivity)\")\n",
    "    con.executemany(\"INSERT INTO sunspots(year, sunactivity) VALUES (?, ?)\", rows)  # executemany 寫入多筆資料到資料庫\n",
    "    c.execute(\"SELECT COUNT(*) FROM sunspots\")  # 查看總共有多少筆資料\n",
    "    print(c.fetchone()) \n",
    "    print(\"Deleted\", con.execute(\"DELETE FROM sunspots where sunactivity > 20\").rowcount, \"rows\")  # 刪除 sunactivity > 20 的資料\n",
    "\n",
    "    print(read_sql(\"SELECT * FROM sunspots where year < 1732\", con))  # 列出 year < 1732 的資料\n",
    "    con.execute(\"DROP TABLE sunspots\")  # 刪除 table\n",
    "\n",
    "    c.close()"
   ]
  },
  {
   "cell_type": "markdown",
   "metadata": {},
   "source": [
    "## 8.3 SQLAlchemy"
   ]
  },
  {
   "cell_type": "code",
   "execution_count": 5,
   "metadata": {},
   "outputs": [
    {
     "name": "stdout",
     "output_type": "stream",
     "text": [
      "sqlalchemy version 1.1.9\n",
      "sqlalchemy.connectors DESCRIPTION # connectors/__init__.py # Copyright (C) 2005-2017 the SQLAlchemy authors and contributors # <see AUTHORS file> # # This module \n",
      "sqlalchemy.databases DESCRIPTION Include imports from the sqlalchemy.dialects package for backwards compatibility with pre 0.6 versions. PACKAGE CONTENTS DATA __\n",
      "sqlalchemy.dialects DESCRIPTION # dialects/__init__.py # Copyright (C) 2005-2017 the SQLAlchemy authors and contributors # <see AUTHORS file> # # This module is\n",
      "sqlalchemy.engine DESCRIPTION The engine package defines the basic components used to interface DB-API modules with higher-level statement construction, conne\n",
      "sqlalchemy.event DESCRIPTION # event/__init__.py # Copyright (C) 2005-2017 the SQLAlchemy authors and contributors # <see AUTHORS file> # # This module is pa\n",
      "sqlalchemy.ext DESCRIPTION # ext/__init__.py # Copyright (C) 2005-2017 the SQLAlchemy authors and contributors # <see AUTHORS file> # # This module is part\n",
      "sqlalchemy.orm DESCRIPTION See the SQLAlchemy object relational tutorial and mapper configuration documentation for an overview of how this module is used.\n",
      "sqlalchemy.sql DESCRIPTION # sql/__init__.py # Copyright (C) 2005-2017 the SQLAlchemy authors and contributors # <see AUTHORS file> # # This module is part\n",
      "sqlalchemy.testing DESCRIPTION # testing/__init__.py # Copyright (C) 2005-2017 the SQLAlchemy authors and contributors # <see AUTHORS file> # # This module is \n",
      "sqlalchemy.util DESCRIPTION # util/__init__.py # Copyright (C) 2005-2017 the SQLAlchemy authors and contributors # <see AUTHORS file> # # This module is par\n"
     ]
    }
   ],
   "source": [
    "import pkgutil as pu\n",
    "import pydoc\n",
    "import sqlalchemy as sa\n",
    "\n",
    "print(\"sqlalchemy version\", sa.__version__)\n",
    "\n",
    "def clean(astr):\n",
    "    s = astr\n",
    "    # remove multiple spaces\n",
    "    s = ' '.join(s.split())\n",
    "    s = s.replace('=','')\n",
    "\n",
    "    return s\n",
    "\n",
    "def print_desc(prefix, pkg_path):\n",
    "    for pkg in pu.iter_modules(path=pkg_path):\n",
    "        name = prefix + \".\" + pkg[1]\n",
    "\n",
    "        if pkg[2] == True:\n",
    "            try:\n",
    "                docstr = pydoc.plain(pydoc.render_doc(name))\n",
    "                docstr = clean(docstr)\n",
    "                start = docstr.find(\"DESCRIPTION\")\n",
    "                docstr = docstr[start: start + 140]\n",
    "                print(name, docstr)\n",
    "            except:\n",
    "                continue\n",
    "\n",
    "print_desc(\"sqlalchemy\", sa.__path__)"
   ]
  },
  {
   "cell_type": "markdown",
   "metadata": {},
   "source": [
    "### 8.3.1 SQLAlchemy 的安裝與配置"
   ]
  },
  {
   "cell_type": "code",
   "execution_count": 6,
   "metadata": {},
   "outputs": [
    {
     "name": "stdout",
     "output_type": "stream",
     "text": [
      "This script is used by another script. Run python alchemy_query.py\n"
     ]
    }
   ],
   "source": [
    "from sqlalchemy import Column, ForeignKey, Integer, String, Float\n",
    "from sqlalchemy.ext.declarative import declarative_base\n",
    "from sqlalchemy.orm import relationship\n",
    "from sqlalchemy import create_engine\n",
    "from sqlalchemy import UniqueConstraint\n",
    " \n",
    "Base = declarative_base()  # Base 類別\n",
    " \n",
    "class Station(Base):  # Station 類別\n",
    "    __tablename__ = 'station'\n",
    "    id = Column(Integer, primary_key=True)\n",
    "    name = Column(String(14), nullable=False, unique=True)\n",
    "\n",
    "    def __repr__(self):\n",
    "        return \"Id=%d name=%s\" %(self.id, self.name)\n",
    "\n",
    "    \n",
    "class Sensor(Base):  # Sensor 類別\n",
    "    __tablename__ = 'sensor'\n",
    "    id = Column(Integer, primary_key=True)\n",
    "    last = Column(Integer)\n",
    "    multiplier = Column(Float)\n",
    "    station_id = Column(Integer, ForeignKey('station.id'))\n",
    "    station = relationship(Station)\n",
    "\n",
    "    def __repr__(self):\n",
    "        return \"Id=%d last=%d multiplier=%.1f station_id=%d\" %(self.id, self.last, self.multiplier, self.station_id)\n",
    "\n",
    "    \n",
    "if __name__ == \"__main__\":\n",
    "    print(\"This script is used by another script. Run python alchemy_query.py\")"
   ]
  },
  {
   "cell_type": "markdown",
   "metadata": {},
   "source": [
    "## 8.3.2 通過 SQLAlchemy 填充數據庫"
   ]
  },
  {
   "cell_type": "code",
   "execution_count": 7,
   "metadata": {},
   "outputs": [
    {
     "name": "stdout",
     "output_type": "stream",
     "text": [
      "This script is used by another script. Run python alchemy_query.py\n"
     ]
    }
   ],
   "source": [
    "from sqlalchemy import create_engine\n",
    "from sqlalchemy.orm import sessionmaker\n",
    " \n",
    "from alchemy_entities import Base, Sensor, Station\n",
    " \n",
    "def populate(engine):\n",
    "    Base.metadata.bind = engine\n",
    "     \n",
    "    DBSession = sessionmaker(bind=engine)  # 建立一個 session maker\n",
    "    session = DBSession()  # 使用 sessionmaker 建立一個 session\n",
    "     \n",
    "    de_bilt = Station(name='De Bilt')  # 建立 Station 物件\n",
    "    session.add(de_bilt)  # 將剛剛建立的 Station 物件加入 session\n",
    "    session.add(Station(name='Utrecht'))  # 將一個新的 Station 物件加入 session\n",
    "    session.commit()  # commit 變動\n",
    "    print(\"Station\", de_bilt)\n",
    "     \n",
    "    temp_sensor = Sensor(last=20, multiplier=.1, station=de_bilt)  # 建立 Sensor 物件，其中 station 是一個 foreign 物件\n",
    "    session.add(temp_sensor)  # 將剛剛建立的 Sensor 物件加入 session\n",
    "    session.commit()  # commit 變動\n",
    "    print(\"Sensor\", temp_sensor)\n",
    "\n",
    "if __name__ == \"__main__\":\n",
    "    print(\"This script is used by another script. Run python alchemy_query.py\")"
   ]
  },
  {
   "cell_type": "markdown",
   "metadata": {},
   "source": [
    "## 8.3.2 通過 SQLAlchemy 查詢數據庫"
   ]
  },
  {
   "cell_type": "code",
   "execution_count": 8,
   "metadata": {},
   "outputs": [],
   "source": [
    "import os\n",
    "f = 'demo.db'\n",
    "if os.path.exists(f):\n",
    "    os.remove(f)"
   ]
  },
  {
   "cell_type": "code",
   "execution_count": 9,
   "metadata": {},
   "outputs": [
    {
     "name": "stdout",
     "output_type": "stream",
     "text": [
      "Station Id=1 name=De Bilt\n",
      "Sensor Id=1 last=20 multiplier=0.1 station_id=1\n",
      "Query 1 [Id=1 name=De Bilt, Id=2 name=Utrecht]\n",
      "Query 2 [Id=1 last=20 multiplier=0.1 station_id=1]\n",
      "Query 3 Id=1 last=20 multiplier=0.1 station_id=1\n",
      "   id     name\n",
      "0   1  De Bilt\n",
      "1   2  Utrecht\n",
      "[WinError 32] 程序無法存取檔案，因為檔案正由另一個程序使用。: 'demo.db'\n"
     ]
    }
   ],
   "source": [
    "from alchemy_entities import Base, Sensor, Station\n",
    "from populate_db import populate\n",
    "from sqlalchemy import create_engine\n",
    "from sqlalchemy.orm import sessionmaker\n",
    "from sqlalchemy.pool import StaticPool, NullPool\n",
    "import os\n",
    "from pandas.io.sql import read_sql\n",
    "\n",
    "\n",
    "# engine = create_engine('sqlite:///demo.db', poolclass=NullPool)  # 建立 connection\n",
    "engine = create_engine('sqlite:///demo.db')  # 建立 connection\n",
    "conn = engine.connect()\n",
    "Base.metadata.create_all(engine)  # 建立資料庫\n",
    "populate(engine)  # 在資料庫中 建立資料\n",
    "Base.metadata.bind = engine\n",
    "DBSession = sessionmaker()   # 建立一個 session maker\n",
    "DBSession.bind = engine\n",
    "session = DBSession()   # 使用 sessionmaker 建立一個 session\n",
    "\n",
    "station = session.query(Station).first()  # 查詢 Station 資料表中 第一筆資料\n",
    "\n",
    "print(\"Query 1\", session.query(Station).all())  # 查詢 Station 資料表中 所有資料\n",
    "print(\"Query 2\", session.query(Sensor).all())  # 查詢 Sensor 資料表中 所有資料\n",
    "print(\"Query 3\", session.query(Sensor).filter(Sensor.station == station).one())  # 查詢 Sensor 資料表中 符合條件的資料\n",
    "print(read_sql(\"SELECT * FROM station\", engine.raw_connection()))  # 使用 pandas.read_sql() 從資料庫中讀取資料\n",
    "\n",
    "try:\n",
    "    session.close()\n",
    "    conn.invalidate()    \n",
    "    conn.close()\n",
    "#     session = None\n",
    "    engine.dispose()\n",
    "    engine = None\n",
    "    del engine\n",
    "    os.remove('demo.db')\n",
    "    print(\"Deleted demo.db\")\n",
    "except OSError as e:\n",
    "    print(e)"
   ]
  },
  {
   "cell_type": "markdown",
   "metadata": {},
   "source": [
    "## 8.4 Pony ORM"
   ]
  },
  {
   "cell_type": "code",
   "execution_count": 10,
   "metadata": {},
   "outputs": [],
   "source": [
    "# from pony.orm import Database, db_session \n",
    "# from pandas.io.sql import write_frame\n",
    "# import statsmodels.api as sm\n",
    "\n",
    "# db = Database('sqlite', ':memory:')\n",
    "\n",
    "# with db_session:\n",
    "#     data_loader = sm.datasets.sunspots.load_pandas()\n",
    "#     df = data_loader.data\n",
    "#     write_frame(df, \"sunspots\", db.get_connection()) \n",
    "#     print(db.select(\"count(*) FROM sunspots\"))"
   ]
  },
  {
   "cell_type": "markdown",
   "metadata": {},
   "source": [
    "## 8.5 Dataset: 懶人數據庫"
   ]
  },
  {
   "cell_type": "code",
   "execution_count": 11,
   "metadata": {},
   "outputs": [],
   "source": [
    "# import dataset\n",
    "# from pandas.io.sql import read_sql\n",
    "# from pandas.io.sql import write_frame\n",
    "# import statsmodels.api as sm\n",
    "\n",
    "# db = dataset.connect('sqlite:///:memory:')\n",
    "# table = db[\"books\"]\n",
    "# table.insert(dict(title=\"NumPy Beginner's Guide\", author='Ivan Idris'))\n",
    "# table.insert(dict(title=\"NumPy Cookbook\", author='Ivan Idris'))\n",
    "# table.insert(dict(title=\"Learning NumPy\", author='Ivan Idris'))\n",
    "# print(read_sql('SELECT * FROM books', db.executable.raw_connection())) \n",
    "\n",
    "# data_loader = sm.datasets.sunspots.load_pandas()\n",
    "# df = data_loader.data\n",
    "# write_frame(df, \"sunspots\", db.executable.raw_connection()) \n",
    "# table = db['sunspots']\n",
    "\n",
    "# for row in table.find(_limit=5):\n",
    "#    print(row)\n",
    "\n",
    "# print(\"Tables\", db.tables)"
   ]
  },
  {
   "cell_type": "markdown",
   "metadata": {},
   "source": [
    "## 8.6 PyMongo 與 MongoDB"
   ]
  },
  {
   "cell_type": "code",
   "execution_count": 12,
   "metadata": {},
   "outputs": [
    {
     "data": {
      "text/plain": [
       "Database(MongoClient(host=['localhost:27017'], document_class=dict, tz_aware=False, connect=True), 'test_database')"
      ]
     },
     "execution_count": 12,
     "metadata": {},
     "output_type": "execute_result"
    }
   ],
   "source": [
    "from pymongo import MongoClient\n",
    "import statsmodels as sm\n",
    "import json\n",
    "import pandas as pd\n",
    "\n",
    "\n",
    "client = MongoClient()\n",
    "db = client.test_database\n",
    "db"
   ]
  },
  {
   "cell_type": "code",
   "execution_count": 13,
   "metadata": {},
   "outputs": [],
   "source": [
    "# data_loader = sm.datasets.sunspots.load_pandas()\n",
    "# df = data_loader.data\n",
    "# rows = list(json.loads(df.T.to_json()).values())\n",
    "# db.sunspots.insert_many(rows)  # 寫入資料庫\n",
    "\n",
    "# cursor = db['sunspots'].find({})\n",
    "# df =  pd.DataFrame(list(cursor))\n",
    "# print(df)\n",
    "\n",
    "# db.drop_collection('sunspots')"
   ]
  },
  {
   "cell_type": "markdown",
   "metadata": {},
   "source": [
    "## 8.7 利用 Redis 儲存數據"
   ]
  },
  {
   "cell_type": "code",
   "execution_count": 14,
   "metadata": {},
   "outputs": [
    {
     "data": {
      "text/plain": [
       "StrictRedis<ConnectionPool<Connection<host=localhost,port=6379,db=0>>>"
      ]
     },
     "execution_count": 14,
     "metadata": {},
     "output_type": "execute_result"
    }
   ],
   "source": [
    "import redis\n",
    "import statsmodels.api as sm\n",
    "import pandas as pd\n",
    "\n",
    "r = redis.StrictRedis()\n",
    "r"
   ]
  },
  {
   "cell_type": "code",
   "execution_count": 15,
   "metadata": {},
   "outputs": [],
   "source": [
    "# data_loader = sm.datasets.sunspots.load_pandas()\n",
    "# df = data_loader.data\n",
    "# data = df.T.to_json()\n",
    "# r.set('sunspots', data)\n",
    "# blob = r.get('sunspots')\n",
    "# print(pd.read_json(blob))"
   ]
  },
  {
   "cell_type": "markdown",
   "metadata": {},
   "source": [
    "## 8.8 Apache Cassandra"
   ]
  },
  {
   "cell_type": "code",
   "execution_count": 16,
   "metadata": {},
   "outputs": [],
   "source": [
    "# from cassandra import ConsistencyLevel\n",
    "# from cassandra.cluster import Cluster\n",
    "# from cassandra.query import SimpleStatement\n",
    "# import statsmodels.api as sm\n",
    "\n",
    "# cluster = Cluster()\n",
    "# session = cluster.connect()\n",
    "# session.execute(\"CREATE KEYSPACE IF NOT EXISTS mykeyspace WITH REPLICATION = { 'class' : 'SimpleStrategy', 'replication_factor' : 1 };\")\n",
    "# session.set_keyspace('mykeyspace')\n",
    "# session.execute(\"CREATE TABLE IF NOT EXISTS sunspots (year decimal PRIMARY KEY, sunactivity decimal);\")\n",
    "\n",
    "# query = SimpleStatement(\n",
    "#     \"INSERT INTO sunspots (year, sunactivity) VALUES (%s, %s)\",\n",
    "#     consistency_level=ConsistencyLevel.QUORUM)\n",
    "\n",
    "# data_loader = sm.datasets.sunspots.load_pandas()\n",
    "# df = data_loader.data\n",
    "# rows = [tuple(x) for x in df.values]\n",
    "\n",
    "# for row in rows:\n",
    "#     session.execute(query, row)\n",
    "\n",
    "# print(session.execute(\"SELECT COUNT(*) FROM sunspots\"))\n",
    "\n",
    "# session.execute('DROP KEYSPACE mykeyspace') \n",
    "# cluster.shutdown()"
   ]
  }
 ],
 "metadata": {
  "kernelspec": {
   "display_name": "Python 3",
   "language": "python",
   "name": "python3"
  },
  "language_info": {
   "codemirror_mode": {
    "name": "ipython",
    "version": 3
   },
   "file_extension": ".py",
   "mimetype": "text/x-python",
   "name": "python",
   "nbconvert_exporter": "python",
   "pygments_lexer": "ipython3",
   "version": "3.5.3"
  }
 },
 "nbformat": 4,
 "nbformat_minor": 2
}
