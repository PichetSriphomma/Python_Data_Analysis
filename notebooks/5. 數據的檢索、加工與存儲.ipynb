{
 "cells": [
  {
   "cell_type": "markdown",
   "metadata": {},
   "source": [
    "# 5. 數據的檢索、加工與存儲"
   ]
  },
  {
   "cell_type": "code",
   "execution_count": 1,
   "metadata": {},
   "outputs": [
    {
     "name": "stdout",
     "output_type": "stream",
     "text": [
      "Populating the interactive namespace from numpy and matplotlib\n"
     ]
    }
   ],
   "source": [
    "%pylab inline"
   ]
  },
  {
   "cell_type": "code",
   "execution_count": 2,
   "metadata": {
    "collapsed": true
   },
   "outputs": [],
   "source": [
    "import pandas as pd\n",
    "from pandas import Series, DataFrame"
   ]
  },
  {
   "cell_type": "markdown",
   "metadata": {},
   "source": [
    "## 5.1 用 NumPy 和 pandas 對 csv 文件進行操作"
   ]
  },
  {
   "cell_type": "code",
   "execution_count": 3,
   "metadata": {},
   "outputs": [
    {
     "data": {
      "text/plain": [
       "array([[ 0.49671415, -0.1382643 ,  0.64768854,  1.52302986],\n",
       "       [-0.23415337, -0.23413696,  1.57921282,  0.76743473],\n",
       "       [-0.46947439,  0.54256004, -0.46341769, -0.46572975]])"
      ]
     },
     "execution_count": 3,
     "metadata": {},
     "output_type": "execute_result"
    }
   ],
   "source": [
    "import numpy as np\n",
    "import pandas as pd\n",
    "\n",
    "np.random.seed(42)\n",
    "\n",
    "a = np.random.randn(3, 4)\n",
    "a"
   ]
  },
  {
   "cell_type": "code",
   "execution_count": 4,
   "metadata": {},
   "outputs": [
    {
     "data": {
      "text/plain": [
       "array([[ 0.49671415, -0.1382643 ,  0.64768854,  1.52302986],\n",
       "       [-0.23415337, -0.23413696,  1.57921282,  0.76743473],\n",
       "       [-0.46947439,  0.54256004,         nan, -0.46572975]])"
      ]
     },
     "execution_count": 4,
     "metadata": {},
     "output_type": "execute_result"
    }
   ],
   "source": [
    "a[2][2] = np.nan\n",
    "a"
   ]
  },
  {
   "cell_type": "code",
   "execution_count": 5,
   "metadata": {
    "collapsed": true
   },
   "outputs": [],
   "source": [
    "np.savetxt('np.csv', a, fmt='%.2f', delimiter=',', header=\" #1,  #2,  #3,  #4\")"
   ]
  },
  {
   "cell_type": "code",
   "execution_count": 6,
   "metadata": {},
   "outputs": [
    {
     "name": "stdout",
     "output_type": "stream",
     "text": [
      "#  #1,  #2,  #3,  #4\n",
      "0.50,-0.14,0.65,1.52\n",
      "-0.23,-0.23,1.58,0.77\n",
      "-0.47,0.54,nan,-0.47\n"
     ]
    }
   ],
   "source": [
    "!cat np.csv"
   ]
  },
  {
   "cell_type": "code",
   "execution_count": 7,
   "metadata": {},
   "outputs": [
    {
     "data": {
      "text/html": [
       "<div>\n",
       "<table border=\"1\" class=\"dataframe\">\n",
       "  <thead>\n",
       "    <tr style=\"text-align: right;\">\n",
       "      <th></th>\n",
       "      <th>0</th>\n",
       "      <th>1</th>\n",
       "      <th>2</th>\n",
       "      <th>3</th>\n",
       "    </tr>\n",
       "  </thead>\n",
       "  <tbody>\n",
       "    <tr>\n",
       "      <th>0</th>\n",
       "      <td>0.496714</td>\n",
       "      <td>-0.138264</td>\n",
       "      <td>0.647689</td>\n",
       "      <td>1.523030</td>\n",
       "    </tr>\n",
       "    <tr>\n",
       "      <th>1</th>\n",
       "      <td>-0.234153</td>\n",
       "      <td>-0.234137</td>\n",
       "      <td>1.579213</td>\n",
       "      <td>0.767435</td>\n",
       "    </tr>\n",
       "    <tr>\n",
       "      <th>2</th>\n",
       "      <td>-0.469474</td>\n",
       "      <td>0.542560</td>\n",
       "      <td>NaN</td>\n",
       "      <td>-0.465730</td>\n",
       "    </tr>\n",
       "  </tbody>\n",
       "</table>\n",
       "</div>"
      ],
      "text/plain": [
       "          0         1         2         3\n",
       "0  0.496714 -0.138264  0.647689  1.523030\n",
       "1 -0.234153 -0.234137  1.579213  0.767435\n",
       "2 -0.469474  0.542560       NaN -0.465730"
      ]
     },
     "execution_count": 7,
     "metadata": {},
     "output_type": "execute_result"
    }
   ],
   "source": [
    "df = pd.DataFrame(a)\n",
    "df"
   ]
  },
  {
   "cell_type": "code",
   "execution_count": 8,
   "metadata": {
    "collapsed": true
   },
   "outputs": [],
   "source": [
    "df.to_csv('pd.csv', float_format='%.2f', na_rep=\"NAN!\")\n",
    "# na_rep 參數指定 在 csv檔案中，用那一種符號代表 NaN"
   ]
  },
  {
   "cell_type": "code",
   "execution_count": 9,
   "metadata": {},
   "outputs": [
    {
     "name": "stdout",
     "output_type": "stream",
     "text": [
      ",0,1,2,3\n",
      "0,0.50,-0.14,0.65,1.52\n",
      "1,-0.23,-0.23,1.58,0.77\n",
      "2,-0.47,0.54,NAN!,-0.47\n"
     ]
    }
   ],
   "source": [
    "!cat pd.csv\n",
    "# 比起 numpy.savetxt() 所儲存的格式，pd.to_csv() 多出 index 欄位"
   ]
  },
  {
   "cell_type": "markdown",
   "metadata": {},
   "source": [
    "## 5.2 NumPy.npy 與 pandas DataFrame"
   ]
  },
  {
   "cell_type": "code",
   "execution_count": 10,
   "metadata": {},
   "outputs": [
    {
     "name": "stdout",
     "output_type": "stream",
     "text": [
      "Size CSV file 32616\n"
     ]
    }
   ],
   "source": [
    "import numpy as np\n",
    "import pandas as pd\n",
    "from tempfile import NamedTemporaryFile\n",
    "from os.path import getsize\n",
    "\n",
    "np.random.seed(42)\n",
    "a = np.random.randn(365, 4)\n",
    "\n",
    "tmpf = NamedTemporaryFile()\n",
    "np.savetxt(tmpf, a, delimiter=',')  # savetxt 存成一個text檔案\n",
    "print(\"Size CSV file\", getsize(tmpf.name))"
   ]
  },
  {
   "cell_type": "code",
   "execution_count": 11,
   "metadata": {},
   "outputs": [
    {
     "name": "stdout",
     "output_type": "stream",
     "text": [
      "Shape (365, 4)\n",
      "Size .npy file 11760\n"
     ]
    }
   ],
   "source": [
    "tmpf = NamedTemporaryFile()\n",
    "np.save(tmpf, a)  # save 存成一個 .npy 的 binary 檔案\n",
    "tmpf.seek(0)\n",
    "loaded = np.load(tmpf)  # 從 .npy 的 binary 檔案讀回來\n",
    "print(\"Shape\", loaded.shape)\n",
    "print(\"Size .npy file\", getsize(tmpf.name))"
   ]
  },
  {
   "cell_type": "code",
   "execution_count": 17,
   "metadata": {},
   "outputs": [
    {
     "name": "stdout",
     "output_type": "stream",
     "text": [
      "Size pickled dataframe 12250\n"
     ]
    },
    {
     "data": {
      "text/html": [
       "<div>\n",
       "<table border=\"1\" class=\"dataframe\">\n",
       "  <thead>\n",
       "    <tr style=\"text-align: right;\">\n",
       "      <th></th>\n",
       "      <th>0</th>\n",
       "      <th>1</th>\n",
       "      <th>2</th>\n",
       "      <th>3</th>\n",
       "    </tr>\n",
       "  </thead>\n",
       "  <tbody>\n",
       "    <tr>\n",
       "      <th>0</th>\n",
       "      <td>0.496714</td>\n",
       "      <td>-0.138264</td>\n",
       "      <td>0.647689</td>\n",
       "      <td>1.523030</td>\n",
       "    </tr>\n",
       "    <tr>\n",
       "      <th>1</th>\n",
       "      <td>-0.234153</td>\n",
       "      <td>-0.234137</td>\n",
       "      <td>1.579213</td>\n",
       "      <td>0.767435</td>\n",
       "    </tr>\n",
       "    <tr>\n",
       "      <th>2</th>\n",
       "      <td>-0.469474</td>\n",
       "      <td>0.542560</td>\n",
       "      <td>-0.463418</td>\n",
       "      <td>-0.465730</td>\n",
       "    </tr>\n",
       "    <tr>\n",
       "      <th>3</th>\n",
       "      <td>0.241962</td>\n",
       "      <td>-1.913280</td>\n",
       "      <td>-1.724918</td>\n",
       "      <td>-0.562288</td>\n",
       "    </tr>\n",
       "    <tr>\n",
       "      <th>4</th>\n",
       "      <td>-1.012831</td>\n",
       "      <td>0.314247</td>\n",
       "      <td>-0.908024</td>\n",
       "      <td>-1.412304</td>\n",
       "    </tr>\n",
       "    <tr>\n",
       "      <th>5</th>\n",
       "      <td>1.465649</td>\n",
       "      <td>-0.225776</td>\n",
       "      <td>0.067528</td>\n",
       "      <td>-1.424748</td>\n",
       "    </tr>\n",
       "    <tr>\n",
       "      <th>6</th>\n",
       "      <td>-0.544383</td>\n",
       "      <td>0.110923</td>\n",
       "      <td>-1.150994</td>\n",
       "      <td>0.375698</td>\n",
       "    </tr>\n",
       "    <tr>\n",
       "      <th>7</th>\n",
       "      <td>-0.600639</td>\n",
       "      <td>-0.291694</td>\n",
       "      <td>-0.601707</td>\n",
       "      <td>1.852278</td>\n",
       "    </tr>\n",
       "    <tr>\n",
       "      <th>8</th>\n",
       "      <td>-0.013497</td>\n",
       "      <td>-1.057711</td>\n",
       "      <td>0.822545</td>\n",
       "      <td>-1.220844</td>\n",
       "    </tr>\n",
       "    <tr>\n",
       "      <th>9</th>\n",
       "      <td>0.208864</td>\n",
       "      <td>-1.959670</td>\n",
       "      <td>-1.328186</td>\n",
       "      <td>0.196861</td>\n",
       "    </tr>\n",
       "    <tr>\n",
       "      <th>10</th>\n",
       "      <td>0.738467</td>\n",
       "      <td>0.171368</td>\n",
       "      <td>-0.115648</td>\n",
       "      <td>-0.301104</td>\n",
       "    </tr>\n",
       "    <tr>\n",
       "      <th>11</th>\n",
       "      <td>-1.478522</td>\n",
       "      <td>-0.719844</td>\n",
       "      <td>-0.460639</td>\n",
       "      <td>1.057122</td>\n",
       "    </tr>\n",
       "    <tr>\n",
       "      <th>12</th>\n",
       "      <td>0.343618</td>\n",
       "      <td>-1.763040</td>\n",
       "      <td>0.324084</td>\n",
       "      <td>-0.385082</td>\n",
       "    </tr>\n",
       "    <tr>\n",
       "      <th>13</th>\n",
       "      <td>-0.676922</td>\n",
       "      <td>0.611676</td>\n",
       "      <td>1.031000</td>\n",
       "      <td>0.931280</td>\n",
       "    </tr>\n",
       "    <tr>\n",
       "      <th>14</th>\n",
       "      <td>-0.839218</td>\n",
       "      <td>-0.309212</td>\n",
       "      <td>0.331263</td>\n",
       "      <td>0.975545</td>\n",
       "    </tr>\n",
       "    <tr>\n",
       "      <th>15</th>\n",
       "      <td>-0.479174</td>\n",
       "      <td>-0.185659</td>\n",
       "      <td>-1.106335</td>\n",
       "      <td>-1.196207</td>\n",
       "    </tr>\n",
       "    <tr>\n",
       "      <th>16</th>\n",
       "      <td>0.812526</td>\n",
       "      <td>1.356240</td>\n",
       "      <td>-0.072010</td>\n",
       "      <td>1.003533</td>\n",
       "    </tr>\n",
       "    <tr>\n",
       "      <th>17</th>\n",
       "      <td>0.361636</td>\n",
       "      <td>-0.645120</td>\n",
       "      <td>0.361396</td>\n",
       "      <td>1.538037</td>\n",
       "    </tr>\n",
       "    <tr>\n",
       "      <th>18</th>\n",
       "      <td>-0.035826</td>\n",
       "      <td>1.564644</td>\n",
       "      <td>-2.619745</td>\n",
       "      <td>0.821903</td>\n",
       "    </tr>\n",
       "    <tr>\n",
       "      <th>19</th>\n",
       "      <td>0.087047</td>\n",
       "      <td>-0.299007</td>\n",
       "      <td>0.091761</td>\n",
       "      <td>-1.987569</td>\n",
       "    </tr>\n",
       "    <tr>\n",
       "      <th>20</th>\n",
       "      <td>-0.219672</td>\n",
       "      <td>0.357113</td>\n",
       "      <td>1.477894</td>\n",
       "      <td>-0.518270</td>\n",
       "    </tr>\n",
       "    <tr>\n",
       "      <th>21</th>\n",
       "      <td>-0.808494</td>\n",
       "      <td>-0.501757</td>\n",
       "      <td>0.915402</td>\n",
       "      <td>0.328751</td>\n",
       "    </tr>\n",
       "    <tr>\n",
       "      <th>22</th>\n",
       "      <td>-0.529760</td>\n",
       "      <td>0.513267</td>\n",
       "      <td>0.097078</td>\n",
       "      <td>0.968645</td>\n",
       "    </tr>\n",
       "    <tr>\n",
       "      <th>23</th>\n",
       "      <td>-0.702053</td>\n",
       "      <td>-0.327662</td>\n",
       "      <td>-0.392108</td>\n",
       "      <td>-1.463515</td>\n",
       "    </tr>\n",
       "    <tr>\n",
       "      <th>24</th>\n",
       "      <td>0.296120</td>\n",
       "      <td>0.261055</td>\n",
       "      <td>0.005113</td>\n",
       "      <td>-0.234587</td>\n",
       "    </tr>\n",
       "    <tr>\n",
       "      <th>25</th>\n",
       "      <td>-1.415371</td>\n",
       "      <td>-0.420645</td>\n",
       "      <td>-0.342715</td>\n",
       "      <td>-0.802277</td>\n",
       "    </tr>\n",
       "    <tr>\n",
       "      <th>26</th>\n",
       "      <td>-0.161286</td>\n",
       "      <td>0.404051</td>\n",
       "      <td>1.886186</td>\n",
       "      <td>0.174578</td>\n",
       "    </tr>\n",
       "    <tr>\n",
       "      <th>27</th>\n",
       "      <td>0.257550</td>\n",
       "      <td>-0.074446</td>\n",
       "      <td>-1.918771</td>\n",
       "      <td>-0.026514</td>\n",
       "    </tr>\n",
       "    <tr>\n",
       "      <th>28</th>\n",
       "      <td>0.060230</td>\n",
       "      <td>2.463242</td>\n",
       "      <td>-0.192361</td>\n",
       "      <td>0.301547</td>\n",
       "    </tr>\n",
       "    <tr>\n",
       "      <th>29</th>\n",
       "      <td>-0.034712</td>\n",
       "      <td>-1.168678</td>\n",
       "      <td>1.142823</td>\n",
       "      <td>0.751933</td>\n",
       "    </tr>\n",
       "    <tr>\n",
       "      <th>...</th>\n",
       "      <td>...</td>\n",
       "      <td>...</td>\n",
       "      <td>...</td>\n",
       "      <td>...</td>\n",
       "    </tr>\n",
       "    <tr>\n",
       "      <th>335</th>\n",
       "      <td>0.160574</td>\n",
       "      <td>0.003046</td>\n",
       "      <td>0.436938</td>\n",
       "      <td>1.190646</td>\n",
       "    </tr>\n",
       "    <tr>\n",
       "      <th>336</th>\n",
       "      <td>0.949554</td>\n",
       "      <td>-1.484898</td>\n",
       "      <td>-2.553921</td>\n",
       "      <td>0.934320</td>\n",
       "    </tr>\n",
       "    <tr>\n",
       "      <th>337</th>\n",
       "      <td>-1.366879</td>\n",
       "      <td>-0.224765</td>\n",
       "      <td>-1.170113</td>\n",
       "      <td>-1.801980</td>\n",
       "    </tr>\n",
       "    <tr>\n",
       "      <th>338</th>\n",
       "      <td>0.541463</td>\n",
       "      <td>0.759155</td>\n",
       "      <td>-0.576510</td>\n",
       "      <td>-2.591042</td>\n",
       "    </tr>\n",
       "    <tr>\n",
       "      <th>339</th>\n",
       "      <td>-0.546244</td>\n",
       "      <td>0.391804</td>\n",
       "      <td>-1.478912</td>\n",
       "      <td>0.183360</td>\n",
       "    </tr>\n",
       "    <tr>\n",
       "      <th>340</th>\n",
       "      <td>-0.015310</td>\n",
       "      <td>0.579291</td>\n",
       "      <td>0.119580</td>\n",
       "      <td>-0.973069</td>\n",
       "    </tr>\n",
       "    <tr>\n",
       "      <th>341</th>\n",
       "      <td>1.196572</td>\n",
       "      <td>-0.158530</td>\n",
       "      <td>-0.027305</td>\n",
       "      <td>-0.933268</td>\n",
       "    </tr>\n",
       "    <tr>\n",
       "      <th>342</th>\n",
       "      <td>-0.443282</td>\n",
       "      <td>-0.884803</td>\n",
       "      <td>-0.172946</td>\n",
       "      <td>1.711708</td>\n",
       "    </tr>\n",
       "    <tr>\n",
       "      <th>343</th>\n",
       "      <td>-1.371901</td>\n",
       "      <td>-1.613561</td>\n",
       "      <td>1.471170</td>\n",
       "      <td>-0.209324</td>\n",
       "    </tr>\n",
       "    <tr>\n",
       "      <th>344</th>\n",
       "      <td>-0.669073</td>\n",
       "      <td>1.039905</td>\n",
       "      <td>-0.605616</td>\n",
       "      <td>1.826010</td>\n",
       "    </tr>\n",
       "    <tr>\n",
       "      <th>345</th>\n",
       "      <td>0.677926</td>\n",
       "      <td>-0.487911</td>\n",
       "      <td>2.157308</td>\n",
       "      <td>-0.605715</td>\n",
       "    </tr>\n",
       "    <tr>\n",
       "      <th>346</th>\n",
       "      <td>0.742095</td>\n",
       "      <td>0.299293</td>\n",
       "      <td>1.301741</td>\n",
       "      <td>1.561511</td>\n",
       "    </tr>\n",
       "    <tr>\n",
       "      <th>347</th>\n",
       "      <td>0.032004</td>\n",
       "      <td>-0.753418</td>\n",
       "      <td>0.459972</td>\n",
       "      <td>-0.677715</td>\n",
       "    </tr>\n",
       "    <tr>\n",
       "      <th>348</th>\n",
       "      <td>2.013387</td>\n",
       "      <td>0.136535</td>\n",
       "      <td>-0.365322</td>\n",
       "      <td>0.184680</td>\n",
       "    </tr>\n",
       "    <tr>\n",
       "      <th>349</th>\n",
       "      <td>-1.347126</td>\n",
       "      <td>-0.971614</td>\n",
       "      <td>1.200414</td>\n",
       "      <td>-0.656894</td>\n",
       "    </tr>\n",
       "    <tr>\n",
       "      <th>350</th>\n",
       "      <td>-1.046911</td>\n",
       "      <td>0.536653</td>\n",
       "      <td>1.185704</td>\n",
       "      <td>0.718953</td>\n",
       "    </tr>\n",
       "    <tr>\n",
       "      <th>351</th>\n",
       "      <td>0.996048</td>\n",
       "      <td>-0.756795</td>\n",
       "      <td>-1.421811</td>\n",
       "      <td>1.501334</td>\n",
       "    </tr>\n",
       "    <tr>\n",
       "      <th>352</th>\n",
       "      <td>-0.322680</td>\n",
       "      <td>-0.250833</td>\n",
       "      <td>1.328194</td>\n",
       "      <td>0.556230</td>\n",
       "    </tr>\n",
       "    <tr>\n",
       "      <th>353</th>\n",
       "      <td>0.455888</td>\n",
       "      <td>2.165002</td>\n",
       "      <td>-0.643518</td>\n",
       "      <td>0.927840</td>\n",
       "    </tr>\n",
       "    <tr>\n",
       "      <th>354</th>\n",
       "      <td>0.057013</td>\n",
       "      <td>0.268592</td>\n",
       "      <td>1.528468</td>\n",
       "      <td>0.507836</td>\n",
       "    </tr>\n",
       "    <tr>\n",
       "      <th>355</th>\n",
       "      <td>0.538296</td>\n",
       "      <td>1.072507</td>\n",
       "      <td>-0.364953</td>\n",
       "      <td>-0.839210</td>\n",
       "    </tr>\n",
       "    <tr>\n",
       "      <th>356</th>\n",
       "      <td>-1.044809</td>\n",
       "      <td>-1.966357</td>\n",
       "      <td>2.056207</td>\n",
       "      <td>-1.103208</td>\n",
       "    </tr>\n",
       "    <tr>\n",
       "      <th>357</th>\n",
       "      <td>-0.221254</td>\n",
       "      <td>-0.276813</td>\n",
       "      <td>0.307407</td>\n",
       "      <td>0.815737</td>\n",
       "    </tr>\n",
       "    <tr>\n",
       "      <th>358</th>\n",
       "      <td>0.860473</td>\n",
       "      <td>-0.583077</td>\n",
       "      <td>-0.167122</td>\n",
       "      <td>0.282580</td>\n",
       "    </tr>\n",
       "    <tr>\n",
       "      <th>359</th>\n",
       "      <td>-0.248691</td>\n",
       "      <td>1.607346</td>\n",
       "      <td>0.490975</td>\n",
       "      <td>0.734878</td>\n",
       "    </tr>\n",
       "    <tr>\n",
       "      <th>360</th>\n",
       "      <td>0.662881</td>\n",
       "      <td>1.173474</td>\n",
       "      <td>0.181022</td>\n",
       "      <td>-1.296832</td>\n",
       "    </tr>\n",
       "    <tr>\n",
       "      <th>361</th>\n",
       "      <td>0.399688</td>\n",
       "      <td>-0.651357</td>\n",
       "      <td>-0.528617</td>\n",
       "      <td>0.586364</td>\n",
       "    </tr>\n",
       "    <tr>\n",
       "      <th>362</th>\n",
       "      <td>1.238283</td>\n",
       "      <td>0.021272</td>\n",
       "      <td>0.308833</td>\n",
       "      <td>1.702215</td>\n",
       "    </tr>\n",
       "    <tr>\n",
       "      <th>363</th>\n",
       "      <td>0.240753</td>\n",
       "      <td>2.601683</td>\n",
       "      <td>0.565510</td>\n",
       "      <td>-1.760763</td>\n",
       "    </tr>\n",
       "    <tr>\n",
       "      <th>364</th>\n",
       "      <td>0.753342</td>\n",
       "      <td>0.381158</td>\n",
       "      <td>1.289753</td>\n",
       "      <td>0.673181</td>\n",
       "    </tr>\n",
       "  </tbody>\n",
       "</table>\n",
       "<p>365 rows × 4 columns</p>\n",
       "</div>"
      ],
      "text/plain": [
       "            0         1         2         3\n",
       "0    0.496714 -0.138264  0.647689  1.523030\n",
       "1   -0.234153 -0.234137  1.579213  0.767435\n",
       "2   -0.469474  0.542560 -0.463418 -0.465730\n",
       "3    0.241962 -1.913280 -1.724918 -0.562288\n",
       "4   -1.012831  0.314247 -0.908024 -1.412304\n",
       "5    1.465649 -0.225776  0.067528 -1.424748\n",
       "6   -0.544383  0.110923 -1.150994  0.375698\n",
       "7   -0.600639 -0.291694 -0.601707  1.852278\n",
       "8   -0.013497 -1.057711  0.822545 -1.220844\n",
       "9    0.208864 -1.959670 -1.328186  0.196861\n",
       "10   0.738467  0.171368 -0.115648 -0.301104\n",
       "11  -1.478522 -0.719844 -0.460639  1.057122\n",
       "12   0.343618 -1.763040  0.324084 -0.385082\n",
       "13  -0.676922  0.611676  1.031000  0.931280\n",
       "14  -0.839218 -0.309212  0.331263  0.975545\n",
       "15  -0.479174 -0.185659 -1.106335 -1.196207\n",
       "16   0.812526  1.356240 -0.072010  1.003533\n",
       "17   0.361636 -0.645120  0.361396  1.538037\n",
       "18  -0.035826  1.564644 -2.619745  0.821903\n",
       "19   0.087047 -0.299007  0.091761 -1.987569\n",
       "20  -0.219672  0.357113  1.477894 -0.518270\n",
       "21  -0.808494 -0.501757  0.915402  0.328751\n",
       "22  -0.529760  0.513267  0.097078  0.968645\n",
       "23  -0.702053 -0.327662 -0.392108 -1.463515\n",
       "24   0.296120  0.261055  0.005113 -0.234587\n",
       "25  -1.415371 -0.420645 -0.342715 -0.802277\n",
       "26  -0.161286  0.404051  1.886186  0.174578\n",
       "27   0.257550 -0.074446 -1.918771 -0.026514\n",
       "28   0.060230  2.463242 -0.192361  0.301547\n",
       "29  -0.034712 -1.168678  1.142823  0.751933\n",
       "..        ...       ...       ...       ...\n",
       "335  0.160574  0.003046  0.436938  1.190646\n",
       "336  0.949554 -1.484898 -2.553921  0.934320\n",
       "337 -1.366879 -0.224765 -1.170113 -1.801980\n",
       "338  0.541463  0.759155 -0.576510 -2.591042\n",
       "339 -0.546244  0.391804 -1.478912  0.183360\n",
       "340 -0.015310  0.579291  0.119580 -0.973069\n",
       "341  1.196572 -0.158530 -0.027305 -0.933268\n",
       "342 -0.443282 -0.884803 -0.172946  1.711708\n",
       "343 -1.371901 -1.613561  1.471170 -0.209324\n",
       "344 -0.669073  1.039905 -0.605616  1.826010\n",
       "345  0.677926 -0.487911  2.157308 -0.605715\n",
       "346  0.742095  0.299293  1.301741  1.561511\n",
       "347  0.032004 -0.753418  0.459972 -0.677715\n",
       "348  2.013387  0.136535 -0.365322  0.184680\n",
       "349 -1.347126 -0.971614  1.200414 -0.656894\n",
       "350 -1.046911  0.536653  1.185704  0.718953\n",
       "351  0.996048 -0.756795 -1.421811  1.501334\n",
       "352 -0.322680 -0.250833  1.328194  0.556230\n",
       "353  0.455888  2.165002 -0.643518  0.927840\n",
       "354  0.057013  0.268592  1.528468  0.507836\n",
       "355  0.538296  1.072507 -0.364953 -0.839210\n",
       "356 -1.044809 -1.966357  2.056207 -1.103208\n",
       "357 -0.221254 -0.276813  0.307407  0.815737\n",
       "358  0.860473 -0.583077 -0.167122  0.282580\n",
       "359 -0.248691  1.607346  0.490975  0.734878\n",
       "360  0.662881  1.173474  0.181022 -1.296832\n",
       "361  0.399688 -0.651357 -0.528617  0.586364\n",
       "362  1.238283  0.021272  0.308833  1.702215\n",
       "363  0.240753  2.601683  0.565510 -1.760763\n",
       "364  0.753342  0.381158  1.289753  0.673181\n",
       "\n",
       "[365 rows x 4 columns]"
      ]
     },
     "execution_count": 17,
     "metadata": {},
     "output_type": "execute_result"
    }
   ],
   "source": [
    "tmpf = NamedTemporaryFile()\n",
    "tmpf.close()\n",
    "df = pd.DataFrame(a)\n",
    "df.to_pickle(tmpf.name)  # 用 pandas 轉成 pickle\n",
    "print(\"Size pickled dataframe\", getsize(tmpf.name))\n",
    "\n",
    "# 從 pickle 讀回來成為 pandas.dataframe\n",
    "# print(\"DF from pickle\\n\", pd.read_pickle(tmpf.name))  \n",
    "pd.read_pickle(tmpf.name)"
   ]
  },
  {
   "cell_type": "markdown",
   "metadata": {},
   "source": [
    "## 5.3 使用 PyTables 儲存數據"
   ]
  },
  {
   "cell_type": "code",
   "execution_count": 19,
   "metadata": {},
   "outputs": [
    {
     "name": "stdout",
     "output_type": "stream",
     "text": [
      "tmpf.name: C:\\Users\\Wei\\AppData\\Local\\Temp\\tmpe_n4tmmb\n"
     ]
    }
   ],
   "source": [
    "import numpy as np\n",
    "import tables\n",
    "from tempfile import NamedTemporaryFile\n",
    "from os.path import getsize\n",
    "\n",
    "np.random.seed(42)\n",
    "a = np.random.randn(365, 4)\n",
    "\n",
    "tmpf = NamedTemporaryFile()\n",
    "print('tmpf.name:',tmpf.name)\n",
    "tmpf.close()\n",
    "\n",
    "h5file = tables.open_file(tmpf.name, mode='w', title=\"NumPy Array\")\n",
    "root = h5file.root\n",
    "\n",
    "# root 像是一個資料夾，用 create_array 在 root 這個資料夾中建立一個 name 是 'array' 的 array a \n",
    "h5file.create_array(where = root, name = \"array\", obj = a)  \n",
    "\n",
    "h5file.close()"
   ]
  },
  {
   "cell_type": "code",
   "execution_count": 20,
   "metadata": {},
   "outputs": [
    {
     "name": "stdout",
     "output_type": "stream",
     "text": [
      "13824\n",
      "<class 'numpy.ndarray'> (365, 4)\n"
     ]
    }
   ],
   "source": [
    "h5file = tables.open_file(tmpf.name, \"r\")\n",
    "print(getsize(tmpf.name))\n",
    "\n",
    "for node in h5file.iter_nodes(h5file.root):  # 抓取 root 這個資料夾中的所有 nodes\n",
    "    b = node.read()  # 把每個 node 的資料讀出來\n",
    "    print(type(b), b.shape)\n",
    "    \n",
    "h5file.close()"
   ]
  },
  {
   "cell_type": "markdown",
   "metadata": {},
   "source": [
    "## 5.4 Pandas DataFrame 和 HDF5 倉庫之間的讀寫操作"
   ]
  },
  {
   "cell_type": "code",
   "execution_count": 21,
   "metadata": {},
   "outputs": [
    {
     "data": {
      "text/plain": [
       "<tempfile._TemporaryFileWrapper at 0xb7220f0>"
      ]
     },
     "execution_count": 21,
     "metadata": {},
     "output_type": "execute_result"
    }
   ],
   "source": [
    "import numpy as np\n",
    "import pandas as pd\n",
    "from tempfile import NamedTemporaryFile\n",
    "\n",
    "np.random.seed(42)\n",
    "a = np.random.randn(365, 4)\n",
    "\n",
    "tmpf = NamedTemporaryFile()\n",
    "tmpf"
   ]
  },
  {
   "cell_type": "code",
   "execution_count": 24,
   "metadata": {},
   "outputs": [],
   "source": [
    "tmpf.name\n",
    "tmpf.close()"
   ]
  },
  {
   "cell_type": "code",
   "execution_count": 25,
   "metadata": {},
   "outputs": [
    {
     "name": "stdout",
     "output_type": "stream",
     "text": [
      "<class 'pandas.io.pytables.HDFStore'>\n",
      "File path: C:\\Users\\Wei\\AppData\\Local\\Temp\\tmp6yzaar0_\n",
      "Empty\n"
     ]
    }
   ],
   "source": [
    "store = pd.io.pytables.HDFStore(tmpf.name)  # 建立一個 HDFStore 物件, 基本上是一個 dict\n",
    "print(store)  # 空的"
   ]
  },
  {
   "cell_type": "code",
   "execution_count": 26,
   "metadata": {},
   "outputs": [
    {
     "data": {
      "text/plain": [
       "pandas.io.pytables.HDFStore"
      ]
     },
     "execution_count": 26,
     "metadata": {},
     "output_type": "execute_result"
    }
   ],
   "source": [
    "type(store)  # HDFStore 類別物件"
   ]
  },
  {
   "cell_type": "code",
   "execution_count": 27,
   "metadata": {},
   "outputs": [
    {
     "data": {
      "text/plain": [
       "(pandas.io.pytables.HDFStore, pandas.core.base.StringMixin, object)"
      ]
     },
     "execution_count": 27,
     "metadata": {},
     "output_type": "execute_result"
    }
   ],
   "source": [
    "pd.io.pytables.HDFStore.__mro__  # HDFStore 的繼承架構"
   ]
  },
  {
   "cell_type": "code",
   "execution_count": 28,
   "metadata": {},
   "outputs": [
    {
     "data": {
      "text/html": [
       "<div>\n",
       "<table border=\"1\" class=\"dataframe\">\n",
       "  <thead>\n",
       "    <tr style=\"text-align: right;\">\n",
       "      <th></th>\n",
       "      <th>0</th>\n",
       "      <th>1</th>\n",
       "      <th>2</th>\n",
       "      <th>3</th>\n",
       "    </tr>\n",
       "  </thead>\n",
       "  <tbody>\n",
       "    <tr>\n",
       "      <th>360</th>\n",
       "      <td>0.662881</td>\n",
       "      <td>1.173474</td>\n",
       "      <td>0.181022</td>\n",
       "      <td>-1.296832</td>\n",
       "    </tr>\n",
       "    <tr>\n",
       "      <th>361</th>\n",
       "      <td>0.399688</td>\n",
       "      <td>-0.651357</td>\n",
       "      <td>-0.528617</td>\n",
       "      <td>0.586364</td>\n",
       "    </tr>\n",
       "    <tr>\n",
       "      <th>362</th>\n",
       "      <td>1.238283</td>\n",
       "      <td>0.021272</td>\n",
       "      <td>0.308833</td>\n",
       "      <td>1.702215</td>\n",
       "    </tr>\n",
       "    <tr>\n",
       "      <th>363</th>\n",
       "      <td>0.240753</td>\n",
       "      <td>2.601683</td>\n",
       "      <td>0.565510</td>\n",
       "      <td>-1.760763</td>\n",
       "    </tr>\n",
       "    <tr>\n",
       "      <th>364</th>\n",
       "      <td>0.753342</td>\n",
       "      <td>0.381158</td>\n",
       "      <td>1.289753</td>\n",
       "      <td>0.673181</td>\n",
       "    </tr>\n",
       "  </tbody>\n",
       "</table>\n",
       "</div>"
      ],
      "text/plain": [
       "            0         1         2         3\n",
       "360  0.662881  1.173474  0.181022 -1.296832\n",
       "361  0.399688 -0.651357 -0.528617  0.586364\n",
       "362  1.238283  0.021272  0.308833  1.702215\n",
       "363  0.240753  2.601683  0.565510 -1.760763\n",
       "364  0.753342  0.381158  1.289753  0.673181"
      ]
     },
     "execution_count": 28,
     "metadata": {},
     "output_type": "execute_result"
    }
   ],
   "source": [
    "df = pd.DataFrame(a)\n",
    "df.tail()"
   ]
  },
  {
   "cell_type": "code",
   "execution_count": 29,
   "metadata": {},
   "outputs": [
    {
     "name": "stdout",
     "output_type": "stream",
     "text": [
      "<class 'pandas.io.pytables.HDFStore'>\n",
      "File path: C:\\Users\\Wei\\AppData\\Local\\Temp\\tmp6yzaar0_\n",
      "/df            frame        (shape->[365,4])\n"
     ]
    }
   ],
   "source": [
    "store['df'] = df  # 儲存一個 DataFrame\n",
    "print(store)"
   ]
  },
  {
   "cell_type": "code",
   "execution_count": 30,
   "metadata": {},
   "outputs": [
    {
     "data": {
      "text/html": [
       "<div>\n",
       "<table border=\"1\" class=\"dataframe\">\n",
       "  <thead>\n",
       "    <tr style=\"text-align: right;\">\n",
       "      <th></th>\n",
       "      <th>0</th>\n",
       "      <th>1</th>\n",
       "      <th>2</th>\n",
       "      <th>3</th>\n",
       "    </tr>\n",
       "  </thead>\n",
       "  <tbody>\n",
       "    <tr>\n",
       "      <th>360</th>\n",
       "      <td>0.662881</td>\n",
       "      <td>1.173474</td>\n",
       "      <td>0.181022</td>\n",
       "      <td>-1.296832</td>\n",
       "    </tr>\n",
       "    <tr>\n",
       "      <th>361</th>\n",
       "      <td>0.399688</td>\n",
       "      <td>-0.651357</td>\n",
       "      <td>-0.528617</td>\n",
       "      <td>0.586364</td>\n",
       "    </tr>\n",
       "    <tr>\n",
       "      <th>362</th>\n",
       "      <td>1.238283</td>\n",
       "      <td>0.021272</td>\n",
       "      <td>0.308833</td>\n",
       "      <td>1.702215</td>\n",
       "    </tr>\n",
       "    <tr>\n",
       "      <th>363</th>\n",
       "      <td>0.240753</td>\n",
       "      <td>2.601683</td>\n",
       "      <td>0.565510</td>\n",
       "      <td>-1.760763</td>\n",
       "    </tr>\n",
       "    <tr>\n",
       "      <th>364</th>\n",
       "      <td>0.753342</td>\n",
       "      <td>0.381158</td>\n",
       "      <td>1.289753</td>\n",
       "      <td>0.673181</td>\n",
       "    </tr>\n",
       "  </tbody>\n",
       "</table>\n",
       "</div>"
      ],
      "text/plain": [
       "            0         1         2         3\n",
       "360  0.662881  1.173474  0.181022 -1.296832\n",
       "361  0.399688 -0.651357 -0.528617  0.586364\n",
       "362  1.238283  0.021272  0.308833  1.702215\n",
       "363  0.240753  2.601683  0.565510 -1.760763\n",
       "364  0.753342  0.381158  1.289753  0.673181"
      ]
     },
     "execution_count": 30,
     "metadata": {},
     "output_type": "execute_result"
    }
   ],
   "source": [
    "d = store.get('df')\n",
    "d.tail()"
   ]
  },
  {
   "cell_type": "code",
   "execution_count": 31,
   "metadata": {},
   "outputs": [
    {
     "name": "stdout",
     "output_type": "stream",
     "text": [
      "Get (365, 4)\n"
     ]
    }
   ],
   "source": [
    "print(\"Get\", store.get('df').shape)  # 用 dict.get()"
   ]
  },
  {
   "cell_type": "code",
   "execution_count": 32,
   "metadata": {},
   "outputs": [
    {
     "name": "stdout",
     "output_type": "stream",
     "text": [
      "Lookup (365, 4)\n"
     ]
    }
   ],
   "source": [
    "print(\"Lookup\", store['df'].shape)  # 用 dict[]"
   ]
  },
  {
   "cell_type": "code",
   "execution_count": 33,
   "metadata": {},
   "outputs": [
    {
     "name": "stdout",
     "output_type": "stream",
     "text": [
      "Dotted (365, 4)\n"
     ]
    }
   ],
   "source": [
    "print(\"Dotted\", store.df.shape)  # 用 dict.xx"
   ]
  },
  {
   "cell_type": "code",
   "execution_count": 34,
   "metadata": {},
   "outputs": [
    {
     "name": "stdout",
     "output_type": "stream",
     "text": [
      "After del\n",
      " <class 'pandas.io.pytables.HDFStore'>\n",
      "File path: C:\\Users\\Wei\\AppData\\Local\\Temp\\tmp6yzaar0_\n",
      "Empty\n"
     ]
    }
   ],
   "source": [
    "del store['df']  # 刪除資料屬性\n",
    "print(\"After del\\n\", store)"
   ]
  },
  {
   "cell_type": "code",
   "execution_count": 35,
   "metadata": {},
   "outputs": [
    {
     "name": "stdout",
     "output_type": "stream",
     "text": [
      "Before close, store.is_open: True\n",
      "After close,store.is_open: False\n"
     ]
    }
   ],
   "source": [
    "print(\"Before close, store.is_open:\", store.is_open)\n",
    "store.close()  # 關閉\n",
    "print(\"After close,store.is_open:\", store.is_open)"
   ]
  },
  {
   "cell_type": "code",
   "execution_count": 36,
   "metadata": {},
   "outputs": [
    {
     "data": {
      "text/html": [
       "<div>\n",
       "<table border=\"1\" class=\"dataframe\">\n",
       "  <thead>\n",
       "    <tr style=\"text-align: right;\">\n",
       "      <th></th>\n",
       "      <th>0</th>\n",
       "      <th>1</th>\n",
       "      <th>2</th>\n",
       "      <th>3</th>\n",
       "    </tr>\n",
       "  </thead>\n",
       "  <tbody>\n",
       "    <tr>\n",
       "      <th>361</th>\n",
       "      <td>0.399688</td>\n",
       "      <td>-0.651357</td>\n",
       "      <td>-0.528617</td>\n",
       "      <td>0.586364</td>\n",
       "    </tr>\n",
       "    <tr>\n",
       "      <th>362</th>\n",
       "      <td>1.238283</td>\n",
       "      <td>0.021272</td>\n",
       "      <td>0.308833</td>\n",
       "      <td>1.702215</td>\n",
       "    </tr>\n",
       "    <tr>\n",
       "      <th>363</th>\n",
       "      <td>0.240753</td>\n",
       "      <td>2.601683</td>\n",
       "      <td>0.565510</td>\n",
       "      <td>-1.760763</td>\n",
       "    </tr>\n",
       "    <tr>\n",
       "      <th>364</th>\n",
       "      <td>0.753342</td>\n",
       "      <td>0.381158</td>\n",
       "      <td>1.289753</td>\n",
       "      <td>0.673181</td>\n",
       "    </tr>\n",
       "  </tbody>\n",
       "</table>\n",
       "</div>"
      ],
      "text/plain": [
       "            0         1         2         3\n",
       "361  0.399688 -0.651357 -0.528617  0.586364\n",
       "362  1.238283  0.021272  0.308833  1.702215\n",
       "363  0.240753  2.601683  0.565510 -1.760763\n",
       "364  0.753342  0.381158  1.289753  0.673181"
      ]
     },
     "execution_count": 36,
     "metadata": {},
     "output_type": "execute_result"
    }
   ],
   "source": [
    "df.to_hdf(tmpf.name, mode = 'w', key = 'data', format='table')  # 直接將 DataFrame 的資料 寫到一個 HDF5 檔案\n",
    "# print(pd.read_hdf(tmpf.name, 'data')  # 直接讀取底層的 HDF5 檔案，並做過濾\n",
    "pd.read_hdf(tmpf.name, key = 'data', where=['index>360'])"
   ]
  },
  {
   "cell_type": "markdown",
   "metadata": {},
   "source": [
    "## 5.5 使用 pandas 讀寫 Excel 文件"
   ]
  },
  {
   "cell_type": "code",
   "execution_count": 40,
   "metadata": {},
   "outputs": [
    {
     "name": "stdout",
     "output_type": "stream",
     "text": [
      "C:\\Users\\Wei\\AppData\\Local\\Temp\\tmpc02es1ve.xlsx\n"
     ]
    }
   ],
   "source": [
    "import numpy as np\n",
    "import pandas as pd\n",
    "from tempfile import NamedTemporaryFile \n",
    "\n",
    "tmpf = NamedTemporaryFile(suffix='.xlsx')\n",
    "print(tmpf.name)\n",
    "tmpf.close()"
   ]
  },
  {
   "cell_type": "code",
   "execution_count": 41,
   "metadata": {},
   "outputs": [
    {
     "data": {
      "text/html": [
       "<div>\n",
       "<table border=\"1\" class=\"dataframe\">\n",
       "  <thead>\n",
       "    <tr style=\"text-align: right;\">\n",
       "      <th></th>\n",
       "      <th>0</th>\n",
       "      <th>1</th>\n",
       "      <th>2</th>\n",
       "      <th>3</th>\n",
       "    </tr>\n",
       "  </thead>\n",
       "  <tbody>\n",
       "    <tr>\n",
       "      <th>360</th>\n",
       "      <td>0.662881</td>\n",
       "      <td>1.173474</td>\n",
       "      <td>0.181022</td>\n",
       "      <td>-1.296832</td>\n",
       "    </tr>\n",
       "    <tr>\n",
       "      <th>361</th>\n",
       "      <td>0.399688</td>\n",
       "      <td>-0.651357</td>\n",
       "      <td>-0.528617</td>\n",
       "      <td>0.586364</td>\n",
       "    </tr>\n",
       "    <tr>\n",
       "      <th>362</th>\n",
       "      <td>1.238283</td>\n",
       "      <td>0.021272</td>\n",
       "      <td>0.308833</td>\n",
       "      <td>1.702215</td>\n",
       "    </tr>\n",
       "    <tr>\n",
       "      <th>363</th>\n",
       "      <td>0.240753</td>\n",
       "      <td>2.601683</td>\n",
       "      <td>0.565510</td>\n",
       "      <td>-1.760763</td>\n",
       "    </tr>\n",
       "    <tr>\n",
       "      <th>364</th>\n",
       "      <td>0.753342</td>\n",
       "      <td>0.381158</td>\n",
       "      <td>1.289753</td>\n",
       "      <td>0.673181</td>\n",
       "    </tr>\n",
       "  </tbody>\n",
       "</table>\n",
       "</div>"
      ],
      "text/plain": [
       "            0         1         2         3\n",
       "360  0.662881  1.173474  0.181022 -1.296832\n",
       "361  0.399688 -0.651357 -0.528617  0.586364\n",
       "362  1.238283  0.021272  0.308833  1.702215\n",
       "363  0.240753  2.601683  0.565510 -1.760763\n",
       "364  0.753342  0.381158  1.289753  0.673181"
      ]
     },
     "execution_count": 41,
     "metadata": {},
     "output_type": "execute_result"
    }
   ],
   "source": [
    "np.random.seed(42)\n",
    "a = np.random.randn(365, 4)\n",
    "df = pd.DataFrame(a)\n",
    "df.tail()"
   ]
  },
  {
   "cell_type": "code",
   "execution_count": 42,
   "metadata": {},
   "outputs": [
    {
     "data": {
      "text/plain": [
       "0    0.037860\n",
       "1    0.024483\n",
       "2    0.059836\n",
       "3    0.058417\n",
       "dtype: float64"
      ]
     },
     "execution_count": 42,
     "metadata": {},
     "output_type": "execute_result"
    }
   ],
   "source": [
    "df.to_excel(tmpf.name, sheet_name='Random Data')  # 將資料寫入 Excel 檔案\n",
    "# print(\"Means\\n\", pd.read_excel(tmpf.name, 'Random Data').mean())\n",
    "pd.read_excel(tmpf.name, sheetname = 'Random Data').mean()  # 從 Excel 檔案 讀回資料"
   ]
  },
  {
   "cell_type": "markdown",
   "metadata": {},
   "source": [
    "## 5.6 使用 REST Web 服務 和 JSON"
   ]
  },
  {
   "cell_type": "code",
   "execution_count": 43,
   "metadata": {},
   "outputs": [
    {
     "data": {
      "text/plain": [
       "{'area_code': '0',\n",
       " 'asn': 'AS196752',\n",
       " 'continent_code': 'EU',\n",
       " 'country': 'Netherlands',\n",
       " 'country_code': 'NL',\n",
       " 'country_code3': 'NLD',\n",
       " 'dma_code': '0',\n",
       " 'ip': '46.19.37.108',\n",
       " 'isp': 'Tilaa V.O.F.',\n",
       " 'latitude': 52.5,\n",
       " 'longitude': 5.75,\n",
       " 'timezone': 'Europe/Amsterdam'}"
      ]
     },
     "execution_count": 43,
     "metadata": {},
     "output_type": "execute_result"
    }
   ],
   "source": [
    "import json\n",
    "\n",
    "json_str = '{\"country\":\"Netherlands\",\"dma_code\":\"0\",\"timezone\":\"Europe\\/Amsterdam\",\"area_code\":\"0\",\"ip\":\"46.19.37.108\",\"asn\":\"AS196752\",\"continent_code\":\"EU\",\"isp\":\"Tilaa V.O.F.\",\"longitude\":5.75,\"latitude\":52.5,\"country_code\":\"NL\",\"country_code3\":\"NLD\"}'\n",
    "\n",
    "data = json.loads(json_str)  # json.loads() ： 將字串讀入成為物件\n",
    "data"
   ]
  },
  {
   "cell_type": "code",
   "execution_count": 44,
   "metadata": {},
   "outputs": [
    {
     "data": {
      "text/plain": [
       "'Netherlands'"
      ]
     },
     "execution_count": 44,
     "metadata": {},
     "output_type": "execute_result"
    }
   ],
   "source": [
    "data[\"country\"]"
   ]
  },
  {
   "cell_type": "code",
   "execution_count": 45,
   "metadata": {},
   "outputs": [
    {
     "name": "stdout",
     "output_type": "stream",
     "text": [
      "{\"longitude\": 5.75, \"ip\": \"46.19.37.108\", \"country\": \"Brazil\", \"dma_code\": \"0\", \"isp\": \"Tilaa V.O.F.\", \"asn\": \"AS196752\", \"country_code\": \"NL\", \"country_code3\": \"NLD\", \"timezone\": \"Europe/Amsterdam\", \"continent_code\": \"EU\", \"latitude\": 52.5, \"area_code\": \"0\"}\n"
     ]
    }
   ],
   "source": [
    "data[\"country\"] = \"Brazil\"\n",
    "print(json.dumps(data))  # json.dumps() ： 將資料轉成字串"
   ]
  },
  {
   "cell_type": "markdown",
   "metadata": {},
   "source": [
    "## 5.7 使用 pandas 讀寫 JSON"
   ]
  },
  {
   "cell_type": "code",
   "execution_count": 46,
   "metadata": {},
   "outputs": [
    {
     "data": {
      "text/plain": [
       "area_code                        0\n",
       "asn                       AS196752\n",
       "continent_code                  EU\n",
       "country                Netherlands\n",
       "country_code                    NL\n",
       "country_code3                  NLD\n",
       "dma_code                         0\n",
       "ip                    46.19.37.108\n",
       "isp                   Tilaa V.O.F.\n",
       "latitude                      52.5\n",
       "longitude                     5.75\n",
       "timezone          Europe/Amsterdam\n",
       "dtype: object"
      ]
     },
     "execution_count": 46,
     "metadata": {},
     "output_type": "execute_result"
    }
   ],
   "source": [
    "import pandas as pd\n",
    "\n",
    "json_str = '{\"country\":\"Netherlands\",\"dma_code\":\"0\",\"timezone\":\"Europe\\/Amsterdam\",\"area_code\":\"0\",\"ip\":\"46.19.37.108\",\"asn\":\"AS196752\",\"continent_code\":\"EU\",\"isp\":\"Tilaa V.O.F.\",\"longitude\":5.75,\"latitude\":52.5,\"country_code\":\"NL\",\"country_code3\":\"NLD\"}'\n",
    "\n",
    "data = pd.read_json(json_str, typ='series')  # read_json(): 將字串轉成物件\n",
    "data"
   ]
  },
  {
   "cell_type": "code",
   "execution_count": 47,
   "metadata": {},
   "outputs": [
    {
     "data": {
      "text/plain": [
       "'{\"area_code\":\"0\",\"asn\":\"AS196752\",\"continent_code\":\"EU\",\"country\":\"Brazil\",\"country_code\":\"NL\",\"country_code3\":\"NLD\",\"dma_code\":\"0\",\"ip\":\"46.19.37.108\",\"isp\":\"Tilaa V.O.F.\",\"latitude\":52.5,\"longitude\":5.75,\"timezone\":\"Europe\\\\/Amsterdam\"}'"
      ]
     },
     "execution_count": 47,
     "metadata": {},
     "output_type": "execute_result"
    }
   ],
   "source": [
    "data[\"country\"] = \"Brazil\"\n",
    "data.to_json()  # to_json()： 將物件轉成字串"
   ]
  },
  {
   "cell_type": "markdown",
   "metadata": {},
   "source": [
    "## 5.8 解析 RSS 和 Atom 訂閱"
   ]
  },
  {
   "cell_type": "code",
   "execution_count": 48,
   "metadata": {},
   "outputs": [],
   "source": [
    "# import feedparser as fp\n",
    "\n",
    "# rss = fp.parse(\"http://www.packtpub.com/rss.xml\")\n",
    "# print(\"# Entries\", len(rss.entries))\n",
    "\n",
    "# for i, entry in enumerate(rss.entries):\n",
    "#     if \"Python\" in entry.summary:\n",
    "#         print(i, entry.title)\n",
    "#         print(entry.summary)"
   ]
  },
  {
   "cell_type": "markdown",
   "metadata": {},
   "source": [
    "## 5.9 使用 BeautifulSoup 解析 html"
   ]
  },
  {
   "cell_type": "code",
   "execution_count": 49,
   "metadata": {},
   "outputs": [
    {
     "data": {
      "text/plain": [
       "<div class=\"tile\">\n",
       "   <h4>Development</h4>\n",
       "     0.10.1 - July 2014<br/>\n",
       " </div>"
      ]
     },
     "execution_count": 49,
     "metadata": {},
     "output_type": "execute_result"
    }
   ],
   "source": [
    "from bs4 import BeautifulSoup\n",
    "import re\n",
    "\n",
    "soup = BeautifulSoup(open('loremIpsum.html'), 'html5lib')\n",
    "\n",
    "soup.div  # First div"
   ]
  },
  {
   "cell_type": "code",
   "execution_count": 50,
   "metadata": {},
   "outputs": [
    {
     "data": {
      "text/plain": [
       "['tile']"
      ]
     },
     "execution_count": 50,
     "metadata": {},
     "output_type": "execute_result"
    }
   ],
   "source": [
    "soup.div['class']  # First div class"
   ]
  },
  {
   "cell_type": "code",
   "execution_count": 51,
   "metadata": {},
   "outputs": [
    {
     "data": {
      "text/plain": [
       "'Quare attende, quaeso.'"
      ]
     },
     "execution_count": 51,
     "metadata": {},
     "output_type": "execute_result"
    }
   ],
   "source": [
    "soup.dl.dt.dfn.text  # First dfn text"
   ]
  },
  {
   "cell_type": "code",
   "execution_count": 52,
   "metadata": {},
   "outputs": [
    {
     "name": "stdout",
     "output_type": "stream",
     "text": [
      "Link text: loripsum.net URL http://loripsum.net/\n",
      "Link text: Poterat autem inpune; URL http://loripsum.net/\n",
      "Link text: Is es profecto tu. URL http://loripsum.net/\n"
     ]
    }
   ],
   "source": [
    "for link in soup.find_all('a'):\n",
    "    print(\"Link text:\", link.string, \"URL\", link.get('href'))"
   ]
  },
  {
   "cell_type": "code",
   "execution_count": 53,
   "metadata": {},
   "outputs": [
    {
     "name": "stdout",
     "output_type": "stream",
     "text": [
      "0 ['\\n   ', <h4>Development</h4>, '\\n     0.10.1 - July 2014', <br/>, '\\n ']\n",
      "1 ['\\n     ', <h4>Official Release</h4>, '\\n     0.10.0 June 2014', <br/>, '\\n']\n",
      "2 ['\\n     ', <h4>Previous Release</h4>, '\\n     0.09.1 June 2013', <br/>, '\\n']\n"
     ]
    }
   ],
   "source": [
    "# Omitting find_all\n",
    "for i, div in enumerate(soup('div')):\n",
    "    print(i, div.contents)"
   ]
  },
  {
   "cell_type": "code",
   "execution_count": 54,
   "metadata": {},
   "outputs": [
    {
     "name": "stdout",
     "output_type": "stream",
     "text": [
      "Official Version: 0.10.0 June 2014\n"
     ]
    }
   ],
   "source": [
    "#Div with id=official\n",
    "official_div = soup.find_all(\"div\", id=\"official\")\n",
    "print(\"Official Version:\", official_div[0].contents[2].strip())"
   ]
  },
  {
   "cell_type": "code",
   "execution_count": 55,
   "metadata": {},
   "outputs": [
    {
     "data": {
      "text/plain": [
       "[<div class=\"tile\">\n",
       "    <h4>Development</h4>\n",
       "      0.10.1 - July 2014<br/>\n",
       "  </div>, <div class=\"tile\" id=\"official\">\n",
       "      <h4>Official Release</h4>\n",
       "      0.10.0 June 2014<br/>\n",
       " </div>, <div class=\"notile\">\n",
       "      <h4>Previous Release</h4>\n",
       "      0.09.1 June 2013<br/>\n",
       " </div>]"
      ]
     },
     "execution_count": 55,
     "metadata": {},
     "output_type": "execute_result"
    }
   ],
   "source": [
    "soup.find_all(class_=True)"
   ]
  },
  {
   "cell_type": "code",
   "execution_count": 56,
   "metadata": {},
   "outputs": [
    {
     "name": "stdout",
     "output_type": "stream",
     "text": [
      "# elements with class: 3\n"
     ]
    }
   ],
   "source": [
    "print(\"# elements with class:\", len(soup.find_all(class_=True)))"
   ]
  },
  {
   "cell_type": "code",
   "execution_count": 57,
   "metadata": {},
   "outputs": [
    {
     "data": {
      "text/plain": [
       "[<div class=\"tile\">\n",
       "    <h4>Development</h4>\n",
       "      0.10.1 - July 2014<br/>\n",
       "  </div>, <div class=\"tile\" id=\"official\">\n",
       "      <h4>Official Release</h4>\n",
       "      0.10.0 June 2014<br/>\n",
       " </div>]"
      ]
     },
     "execution_count": 57,
     "metadata": {},
     "output_type": "execute_result"
    }
   ],
   "source": [
    "tile_class = soup.find_all(\"div\", class_=\"tile\")\n",
    "tile_class"
   ]
  },
  {
   "cell_type": "code",
   "execution_count": 58,
   "metadata": {},
   "outputs": [
    {
     "name": "stdout",
     "output_type": "stream",
     "text": [
      "# Tile classes: 2\n"
     ]
    }
   ],
   "source": [
    "print(\"# Tile classes:\", len(tile_class))"
   ]
  },
  {
   "cell_type": "code",
   "execution_count": 59,
   "metadata": {},
   "outputs": [
    {
     "data": {
      "text/plain": [
       "[<div class=\"tile\">\n",
       "    <h4>Development</h4>\n",
       "      0.10.1 - July 2014<br/>\n",
       "  </div>, <div class=\"tile\" id=\"official\">\n",
       "      <h4>Official Release</h4>\n",
       "      0.10.0 June 2014<br/>\n",
       " </div>, <div class=\"notile\">\n",
       "      <h4>Previous Release</h4>\n",
       "      0.09.1 June 2013<br/>\n",
       " </div>]"
      ]
     },
     "execution_count": 59,
     "metadata": {},
     "output_type": "execute_result"
    }
   ],
   "source": [
    "soup.find_all(\"div\", class_=re.compile(\"tile\"))"
   ]
  },
  {
   "cell_type": "code",
   "execution_count": 60,
   "metadata": {},
   "outputs": [
    {
     "name": "stdout",
     "output_type": "stream",
     "text": [
      "# Divs with class containing tile 3\n"
     ]
    }
   ],
   "source": [
    "print(\"# Divs with class containing tile\", len(soup.find_all(\"div\", class_=re.compile(\"tile\"))))"
   ]
  },
  {
   "cell_type": "code",
   "execution_count": 61,
   "metadata": {},
   "outputs": [
    {
     "data": {
      "text/plain": [
       "[<div class=\"notile\">\n",
       "      <h4>Previous Release</h4>\n",
       "      0.09.1 June 2013<br/>\n",
       " </div>]"
      ]
     },
     "execution_count": 61,
     "metadata": {},
     "output_type": "execute_result"
    }
   ],
   "source": [
    "soup.select('div.notile')  # Using CSS selector"
   ]
  },
  {
   "cell_type": "code",
   "execution_count": 62,
   "metadata": {},
   "outputs": [
    {
     "name": "stdout",
     "output_type": "stream",
     "text": [
      "Selecting ordered list list items\n",
      " [<li>Cur id non ita fit?</li>, <li>In qua si nihil est praeter rationem, sit in una virtute finis bonorum;</li>]\n"
     ]
    }
   ],
   "source": [
    "print(\"Selecting ordered list list items\\n\", soup.select(\"ol > li\")[:2])"
   ]
  },
  {
   "cell_type": "code",
   "execution_count": 63,
   "metadata": {},
   "outputs": [
    {
     "name": "stdout",
     "output_type": "stream",
     "text": [
      "Second list item in ordered list [<li>In qua si nihil est praeter rationem, sit in una virtute finis bonorum;</li>]\n"
     ]
    }
   ],
   "source": [
    "print(\"Second list item in ordered list\", soup.select(\"ol > li:nth-of-type(2)\"))"
   ]
  },
  {
   "cell_type": "code",
   "execution_count": 64,
   "metadata": {},
   "outputs": [
    {
     "name": "stdout",
     "output_type": "stream",
     "text": [
      "Searching for text string ['\\n     0.10.1 - July 2014', '\\n     0.10.0 June 2014']\n"
     ]
    }
   ],
   "source": [
    "print(\"Searching for text string\", soup.find_all(text=re.compile(\"2014\")))"
   ]
  }
 ],
 "metadata": {
  "kernelspec": {
   "display_name": "Python 3",
   "language": "python",
   "name": "python3"
  },
  "language_info": {
   "codemirror_mode": {
    "name": "ipython",
    "version": 3
   },
   "file_extension": ".py",
   "mimetype": "text/x-python",
   "name": "python",
   "nbconvert_exporter": "python",
   "pygments_lexer": "ipython3",
   "version": "3.5.3"
  }
 },
 "nbformat": 4,
 "nbformat_minor": 2
}
