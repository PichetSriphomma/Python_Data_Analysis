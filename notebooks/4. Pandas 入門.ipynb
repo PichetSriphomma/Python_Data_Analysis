{
 "cells": [
  {
   "cell_type": "markdown",
   "metadata": {},
   "source": [
    "# 4. Pandas 入門"
   ]
  },
  {
   "cell_type": "code",
   "execution_count": 1,
   "metadata": {},
   "outputs": [
    {
     "name": "stdout",
     "output_type": "stream",
     "text": [
      "Populating the interactive namespace from numpy and matplotlib\n"
     ]
    }
   ],
   "source": [
    "%pylab inline"
   ]
  },
  {
   "cell_type": "code",
   "execution_count": 2,
   "metadata": {
    "collapsed": true
   },
   "outputs": [],
   "source": [
    "import pandas as pd\n",
    "from pandas import Series, DataFrame"
   ]
  },
  {
   "cell_type": "markdown",
   "metadata": {},
   "source": [
    "## 4.2 DataFrame"
   ]
  },
  {
   "cell_type": "code",
   "execution_count": 3,
   "metadata": {},
   "outputs": [
    {
     "name": "stdout",
     "output_type": "stream",
     "text": [
      "Dataframe                       Country  CountryID  Continent  \\\n",
      "0                 Afghanistan          1          1   \n",
      "1                     Albania          2          2   \n",
      "2                     Algeria          3          3   \n",
      "3                     Andorra          4          2   \n",
      "4                      Angola          5          3   \n",
      "5         Antigua and Barbuda          6          4   \n",
      "6                   Argentina          7          5   \n",
      "7                     Armenia          8          2   \n",
      "8                   Australia          9          6   \n",
      "9                     Austria         10          2   \n",
      "10                 Azerbaijan         11          2   \n",
      "11                    Bahamas         12          4   \n",
      "12                    Bahrain         13          1   \n",
      "13                 Bangladesh         14          7   \n",
      "14                   Barbados         15          4   \n",
      "15                    Belarus         16          2   \n",
      "16                    Belgium         17          2   \n",
      "17                     Belize         18          5   \n",
      "18                      Benin         19          3   \n",
      "19                    Bermuda         20          4   \n",
      "20                     Bhutan         21          7   \n",
      "21                    Bolivia         22          5   \n",
      "22     Bosnia and Herzegovina         23          2   \n",
      "23                   Botswana         24          3   \n",
      "24                     Brazil         25          5   \n",
      "25          Brunei Darussalam         26          6   \n",
      "26                   Bulgaria         27          2   \n",
      "27               Burkina Faso         28          3   \n",
      "28                    Burundi         29          3   \n",
      "29                   Cambodia         30          7   \n",
      "..                        ...        ...        ...   \n",
      "172                 Swaziland        173          3   \n",
      "173                    Sweden        174          2   \n",
      "174               Switzerland        175          2   \n",
      "175                     Syria        176          1   \n",
      "176                    Taiwan        177          6   \n",
      "177                Tajikistan        178          2   \n",
      "178                  Tanzania        179          3   \n",
      "179                  Thailand        180          6   \n",
      "180               Timor-Leste        181          6   \n",
      "181                      Togo        182          3   \n",
      "182                     Tonga        183          6   \n",
      "183       Trinidad and Tobago        184          5   \n",
      "184                   Tunisia        185          1   \n",
      "185                    Turkey        186          2   \n",
      "186              Turkmenistan        187          2   \n",
      "187                    Tuvalu        188          6   \n",
      "188                    Uganda        189          3   \n",
      "189                   Ukraine        190          2   \n",
      "190      United Arab Emirates        191          1   \n",
      "191            United Kingdom        192          2   \n",
      "192  United States of America        193          4   \n",
      "193                   Uruguay        194          5   \n",
      "194                Uzbekistan        195          2   \n",
      "195                   Vanuatu        196          6   \n",
      "196                 Venezuela        197          5   \n",
      "197                   Vietnam        198          6   \n",
      "198        West Bank and Gaza        199          1   \n",
      "199                     Yemen        200          1   \n",
      "200                    Zambia        201          3   \n",
      "201                  Zimbabwe        202          3   \n",
      "\n",
      "     Adolescent fertility rate (%)  Adult literacy rate (%)  \\\n",
      "0                            151.0                     28.0   \n",
      "1                             27.0                     98.7   \n",
      "2                              6.0                     69.9   \n",
      "3                              NaN                      NaN   \n",
      "4                            146.0                     67.4   \n",
      "5                              NaN                      NaN   \n",
      "6                             62.0                     97.2   \n",
      "7                             30.0                     99.4   \n",
      "8                             16.0                      NaN   \n",
      "9                             14.0                      NaN   \n",
      "10                            31.0                     98.8   \n",
      "11                            46.0                      NaN   \n",
      "12                            14.0                     86.5   \n",
      "13                           135.0                     47.5   \n",
      "14                            51.0                      NaN   \n",
      "15                            22.0                     99.6   \n",
      "16                             5.0                      NaN   \n",
      "17                            90.0                     70.3   \n",
      "18                           108.0                     34.7   \n",
      "19                             NaN                      NaN   \n",
      "20                            62.0                      NaN   \n",
      "21                            97.0                     86.7   \n",
      "22                            25.0                     96.7   \n",
      "23                            51.0                     81.2   \n",
      "24                            71.0                     88.6   \n",
      "25                            31.0                     92.7   \n",
      "26                            40.0                     98.2   \n",
      "27                           131.0                     23.6   \n",
      "28                            30.0                     59.3   \n",
      "29                            52.0                     73.6   \n",
      "..                             ...                      ...   \n",
      "172                           73.0                     79.6   \n",
      "173                            7.0                      NaN   \n",
      "174                            5.0                      NaN   \n",
      "175                           58.0                     80.8   \n",
      "176                            NaN                      NaN   \n",
      "177                           57.0                     99.5   \n",
      "178                          139.0                     69.4   \n",
      "179                           70.0                     92.6   \n",
      "180                           49.0                      NaN   \n",
      "181                           89.0                     53.2   \n",
      "182                           17.0                     98.9   \n",
      "183                           35.0                     98.5   \n",
      "184                            8.0                     74.3   \n",
      "185                           51.0                     87.4   \n",
      "186                           29.0                     98.8   \n",
      "187                            NaN                      NaN   \n",
      "188                          159.0                     68.1   \n",
      "189                           29.0                     99.4   \n",
      "190                           37.0                     88.5   \n",
      "191                           27.0                      NaN   \n",
      "192                           43.0                      NaN   \n",
      "193                           64.0                     96.8   \n",
      "194                           40.0                      NaN   \n",
      "195                           92.0                     75.5   \n",
      "196                           81.0                     93.0   \n",
      "197                           25.0                     90.3   \n",
      "198                            NaN                      NaN   \n",
      "199                           83.0                     54.1   \n",
      "200                          161.0                     68.0   \n",
      "201                          101.0                     89.5   \n",
      "\n",
      "     Gross national income per capita (PPP international $)  \\\n",
      "0                                                  NaN        \n",
      "1                                               6000.0        \n",
      "2                                               5940.0        \n",
      "3                                                  NaN        \n",
      "4                                               3890.0        \n",
      "5                                              15130.0        \n",
      "6                                              11670.0        \n",
      "7                                               4950.0        \n",
      "8                                              33940.0        \n",
      "9                                              36040.0        \n",
      "10                                              5430.0        \n",
      "11                                                 NaN        \n",
      "12                                             34310.0        \n",
      "13                                              1230.0        \n",
      "14                                             15150.0        \n",
      "15                                              9700.0        \n",
      "16                                             33860.0        \n",
      "17                                              7080.0        \n",
      "18                                              1250.0        \n",
      "19                                                 NaN        \n",
      "20                                              4000.0        \n",
      "21                                              3810.0        \n",
      "22                                              6780.0        \n",
      "23                                             11730.0        \n",
      "24                                              8700.0        \n",
      "25                                             49900.0        \n",
      "26                                             10270.0        \n",
      "27                                              1130.0        \n",
      "28                                               320.0        \n",
      "29                                              1550.0        \n",
      "..                                                 ...        \n",
      "172                                             4700.0        \n",
      "173                                            34310.0        \n",
      "174                                            40840.0        \n",
      "175                                             4110.0        \n",
      "176                                                NaN        \n",
      "177                                             1560.0        \n",
      "178                                              980.0        \n",
      "179                                             7440.0        \n",
      "180                                             5100.0        \n",
      "181                                              770.0        \n",
      "182                                             5470.0        \n",
      "183                                            16800.0        \n",
      "184                                             6490.0        \n",
      "185                                             8410.0        \n",
      "186                                             3990.0        \n",
      "187                                                NaN        \n",
      "188                                              880.0        \n",
      "189                                             6110.0        \n",
      "190                                            31190.0        \n",
      "191                                            33650.0        \n",
      "192                                            44070.0        \n",
      "193                                             9940.0        \n",
      "194                                             2190.0        \n",
      "195                                             3480.0        \n",
      "196                                            10970.0        \n",
      "197                                             2310.0        \n",
      "198                                                NaN        \n",
      "199                                             2090.0        \n",
      "200                                             1140.0        \n",
      "201                                                NaN        \n",
      "\n",
      "     Net primary school enrolment ratio female (%)  \\\n",
      "0                                              NaN   \n",
      "1                                             93.0   \n",
      "2                                             94.0   \n",
      "3                                             83.0   \n",
      "4                                             49.0   \n",
      "5                                              NaN   \n",
      "6                                             98.0   \n",
      "7                                             84.0   \n",
      "8                                             97.0   \n",
      "9                                             98.0   \n",
      "10                                            83.0   \n",
      "11                                            89.0   \n",
      "12                                            98.0   \n",
      "13                                            90.0   \n",
      "14                                            96.0   \n",
      "15                                            88.0   \n",
      "16                                            97.0   \n",
      "17                                            97.0   \n",
      "18                                            73.0   \n",
      "19                                             NaN   \n",
      "20                                            79.0   \n",
      "21                                            95.0   \n",
      "22                                             NaN   \n",
      "23                                            85.0   \n",
      "24                                            95.0   \n",
      "25                                            94.0   \n",
      "26                                            92.0   \n",
      "27                                            42.0   \n",
      "28                                            73.0   \n",
      "29                                            89.0   \n",
      "..                                             ...   \n",
      "172                                           79.0   \n",
      "173                                           95.0   \n",
      "174                                           89.0   \n",
      "175                                           92.0   \n",
      "176                                            NaN   \n",
      "177                                           95.0   \n",
      "178                                           97.0   \n",
      "179                                           94.0   \n",
      "180                                           67.0   \n",
      "181                                           75.0   \n",
      "182                                           94.0   \n",
      "183                                           85.0   \n",
      "184                                           97.0   \n",
      "185                                           89.0   \n",
      "186                                            NaN   \n",
      "187                                            NaN   \n",
      "188                                            NaN   \n",
      "189                                           90.0   \n",
      "190                                           88.0   \n",
      "191                                           99.0   \n",
      "192                                           93.0   \n",
      "193                                          100.0   \n",
      "194                                           78.0   \n",
      "195                                           86.0   \n",
      "196                                           91.0   \n",
      "197                                           91.0   \n",
      "198                                            NaN   \n",
      "199                                           65.0   \n",
      "200                                           94.0   \n",
      "201                                           88.0   \n",
      "\n",
      "     Net primary school enrolment ratio male (%)  \\\n",
      "0                                            NaN   \n",
      "1                                           94.0   \n",
      "2                                           96.0   \n",
      "3                                           83.0   \n",
      "4                                           51.0   \n",
      "5                                            NaN   \n",
      "6                                           99.0   \n",
      "7                                           80.0   \n",
      "8                                           96.0   \n",
      "9                                           97.0   \n",
      "10                                          86.0   \n",
      "11                                          87.0   \n",
      "12                                          98.0   \n",
      "13                                          87.0   \n",
      "14                                          97.0   \n",
      "15                                          90.0   \n",
      "16                                          97.0   \n",
      "17                                          97.0   \n",
      "18                                          87.0   \n",
      "19                                           NaN   \n",
      "20                                          79.0   \n",
      "21                                          94.0   \n",
      "22                                           NaN   \n",
      "23                                          83.0   \n",
      "24                                          93.0   \n",
      "25                                          94.0   \n",
      "26                                          93.0   \n",
      "27                                          52.0   \n",
      "28                                          76.0   \n",
      "29                                          91.0   \n",
      "..                                           ...   \n",
      "172                                         78.0   \n",
      "173                                         95.0   \n",
      "174                                         89.0   \n",
      "175                                         97.0   \n",
      "176                                          NaN   \n",
      "177                                         99.0   \n",
      "178                                         98.0   \n",
      "179                                         94.0   \n",
      "180                                         70.0   \n",
      "181                                         86.0   \n",
      "182                                         97.0   \n",
      "183                                         85.0   \n",
      "184                                         96.0   \n",
      "185                                         93.0   \n",
      "186                                          NaN   \n",
      "187                                          NaN   \n",
      "188                                          NaN   \n",
      "189                                         90.0   \n",
      "190                                         88.0   \n",
      "191                                         98.0   \n",
      "192                                         91.0   \n",
      "193                                        100.0   \n",
      "194                                         79.0   \n",
      "195                                         88.0   \n",
      "196                                         91.0   \n",
      "197                                         96.0   \n",
      "198                                          NaN   \n",
      "199                                         85.0   \n",
      "200                                         90.0   \n",
      "201                                         87.0   \n",
      "\n",
      "     Population (in thousands) total  \n",
      "0                            26088.0  \n",
      "1                             3172.0  \n",
      "2                            33351.0  \n",
      "3                               74.0  \n",
      "4                            16557.0  \n",
      "5                               84.0  \n",
      "6                            39134.0  \n",
      "7                             3010.0  \n",
      "8                            20530.0  \n",
      "9                             8327.0  \n",
      "10                            8406.0  \n",
      "11                             327.0  \n",
      "12                             739.0  \n",
      "13                          155991.0  \n",
      "14                             293.0  \n",
      "15                            9742.0  \n",
      "16                           10430.0  \n",
      "17                             282.0  \n",
      "18                            8760.0  \n",
      "19                               NaN  \n",
      "20                             649.0  \n",
      "21                            9354.0  \n",
      "22                            3926.0  \n",
      "23                            1858.0  \n",
      "24                          189323.0  \n",
      "25                             382.0  \n",
      "26                            7693.0  \n",
      "27                           14359.0  \n",
      "28                            8173.0  \n",
      "29                           14197.0  \n",
      "..                               ...  \n",
      "172                           1134.0  \n",
      "173                           9078.0  \n",
      "174                           7455.0  \n",
      "175                          19408.0  \n",
      "176                              NaN  \n",
      "177                           6640.0  \n",
      "178                          39459.0  \n",
      "179                          63444.0  \n",
      "180                           1114.0  \n",
      "181                           6410.0  \n",
      "182                            100.0  \n",
      "183                           1328.0  \n",
      "184                          10215.0  \n",
      "185                          73922.0  \n",
      "186                           4899.0  \n",
      "187                             10.0  \n",
      "188                          29899.0  \n",
      "189                          46557.0  \n",
      "190                           4248.0  \n",
      "191                          60512.0  \n",
      "192                         302841.0  \n",
      "193                           3331.0  \n",
      "194                          26981.0  \n",
      "195                            221.0  \n",
      "196                          27191.0  \n",
      "197                          86206.0  \n",
      "198                              NaN  \n",
      "199                          21732.0  \n",
      "200                          11696.0  \n",
      "201                          13228.0  \n",
      "\n",
      "[202 rows x 9 columns]\n"
     ]
    }
   ],
   "source": [
    "from pandas.io.parsers import read_csv\n",
    "\n",
    "df = read_csv(\"WHO_first9cols.csv\")\n",
    "print(\"Dataframe\", df)"
   ]
  },
  {
   "cell_type": "code",
   "execution_count": 4,
   "metadata": {},
   "outputs": [
    {
     "name": "stdout",
     "output_type": "stream",
     "text": [
      "Shape (202, 9)\n"
     ]
    }
   ],
   "source": [
    "print(\"Shape\", df.shape)"
   ]
  },
  {
   "cell_type": "code",
   "execution_count": 5,
   "metadata": {},
   "outputs": [
    {
     "name": "stdout",
     "output_type": "stream",
     "text": [
      "Length 202\n"
     ]
    }
   ],
   "source": [
    "print(\"Length\", len(df))"
   ]
  },
  {
   "cell_type": "code",
   "execution_count": 6,
   "metadata": {},
   "outputs": [
    {
     "name": "stdout",
     "output_type": "stream",
     "text": [
      "Column Headers Index(['Country', 'CountryID', 'Continent', 'Adolescent fertility rate (%)',\n",
      "       'Adult literacy rate (%)',\n",
      "       'Gross national income per capita (PPP international $)',\n",
      "       'Net primary school enrolment ratio female (%)',\n",
      "       'Net primary school enrolment ratio male (%)',\n",
      "       'Population (in thousands) total'],\n",
      "      dtype='object')\n"
     ]
    }
   ],
   "source": [
    "print(\"Column Headers\", df.columns)"
   ]
  },
  {
   "cell_type": "code",
   "execution_count": 7,
   "metadata": {},
   "outputs": [
    {
     "name": "stdout",
     "output_type": "stream",
     "text": [
      "Data types Country                                                    object\n",
      "CountryID                                                   int64\n",
      "Continent                                                   int64\n",
      "Adolescent fertility rate (%)                             float64\n",
      "Adult literacy rate (%)                                   float64\n",
      "Gross national income per capita (PPP international $)    float64\n",
      "Net primary school enrolment ratio female (%)             float64\n",
      "Net primary school enrolment ratio male (%)               float64\n",
      "Population (in thousands) total                           float64\n",
      "dtype: object\n"
     ]
    }
   ],
   "source": [
    "print(\"Data types\", df.dtypes)"
   ]
  },
  {
   "cell_type": "code",
   "execution_count": 8,
   "metadata": {},
   "outputs": [
    {
     "name": "stdout",
     "output_type": "stream",
     "text": [
      "Index RangeIndex(start=0, stop=202, step=1)\n"
     ]
    }
   ],
   "source": [
    "print(\"Index\", df.index)"
   ]
  },
  {
   "cell_type": "code",
   "execution_count": 9,
   "metadata": {},
   "outputs": [
    {
     "name": "stdout",
     "output_type": "stream",
     "text": [
      "Values [['Afghanistan' 1 1 ..., nan nan 26088.0]\n",
      " ['Albania' 2 2 ..., 93.0 94.0 3172.0]\n",
      " ['Algeria' 3 3 ..., 94.0 96.0 33351.0]\n",
      " ..., \n",
      " ['Yemen' 200 1 ..., 65.0 85.0 21732.0]\n",
      " ['Zambia' 201 3 ..., 94.0 90.0 11696.0]\n",
      " ['Zimbabwe' 202 3 ..., 88.0 87.0 13228.0]]\n"
     ]
    }
   ],
   "source": [
    "print(\"Values\", df.values) "
   ]
  },
  {
   "cell_type": "markdown",
   "metadata": {},
   "source": [
    "## 4.3 Series"
   ]
  },
  {
   "cell_type": "code",
   "execution_count": 10,
   "metadata": {},
   "outputs": [
    {
     "data": {
      "text/html": [
       "<div>\n",
       "<table border=\"1\" class=\"dataframe\">\n",
       "  <thead>\n",
       "    <tr style=\"text-align: right;\">\n",
       "      <th></th>\n",
       "      <th>Country</th>\n",
       "      <th>CountryID</th>\n",
       "      <th>Continent</th>\n",
       "      <th>Adolescent fertility rate (%)</th>\n",
       "      <th>Adult literacy rate (%)</th>\n",
       "      <th>Gross national income per capita (PPP international $)</th>\n",
       "      <th>Net primary school enrolment ratio female (%)</th>\n",
       "      <th>Net primary school enrolment ratio male (%)</th>\n",
       "      <th>Population (in thousands) total</th>\n",
       "    </tr>\n",
       "  </thead>\n",
       "  <tbody>\n",
       "    <tr>\n",
       "      <th>197</th>\n",
       "      <td>Vietnam</td>\n",
       "      <td>198</td>\n",
       "      <td>6</td>\n",
       "      <td>25.0</td>\n",
       "      <td>90.3</td>\n",
       "      <td>2310.0</td>\n",
       "      <td>91.0</td>\n",
       "      <td>96.0</td>\n",
       "      <td>86206.0</td>\n",
       "    </tr>\n",
       "    <tr>\n",
       "      <th>198</th>\n",
       "      <td>West Bank and Gaza</td>\n",
       "      <td>199</td>\n",
       "      <td>1</td>\n",
       "      <td>NaN</td>\n",
       "      <td>NaN</td>\n",
       "      <td>NaN</td>\n",
       "      <td>NaN</td>\n",
       "      <td>NaN</td>\n",
       "      <td>NaN</td>\n",
       "    </tr>\n",
       "    <tr>\n",
       "      <th>199</th>\n",
       "      <td>Yemen</td>\n",
       "      <td>200</td>\n",
       "      <td>1</td>\n",
       "      <td>83.0</td>\n",
       "      <td>54.1</td>\n",
       "      <td>2090.0</td>\n",
       "      <td>65.0</td>\n",
       "      <td>85.0</td>\n",
       "      <td>21732.0</td>\n",
       "    </tr>\n",
       "    <tr>\n",
       "      <th>200</th>\n",
       "      <td>Zambia</td>\n",
       "      <td>201</td>\n",
       "      <td>3</td>\n",
       "      <td>161.0</td>\n",
       "      <td>68.0</td>\n",
       "      <td>1140.0</td>\n",
       "      <td>94.0</td>\n",
       "      <td>90.0</td>\n",
       "      <td>11696.0</td>\n",
       "    </tr>\n",
       "    <tr>\n",
       "      <th>201</th>\n",
       "      <td>Zimbabwe</td>\n",
       "      <td>202</td>\n",
       "      <td>3</td>\n",
       "      <td>101.0</td>\n",
       "      <td>89.5</td>\n",
       "      <td>NaN</td>\n",
       "      <td>88.0</td>\n",
       "      <td>87.0</td>\n",
       "      <td>13228.0</td>\n",
       "    </tr>\n",
       "  </tbody>\n",
       "</table>\n",
       "</div>"
      ],
      "text/plain": [
       "                Country  CountryID  Continent  Adolescent fertility rate (%)  \\\n",
       "197             Vietnam        198          6                           25.0   \n",
       "198  West Bank and Gaza        199          1                            NaN   \n",
       "199               Yemen        200          1                           83.0   \n",
       "200              Zambia        201          3                          161.0   \n",
       "201            Zimbabwe        202          3                          101.0   \n",
       "\n",
       "     Adult literacy rate (%)  \\\n",
       "197                     90.3   \n",
       "198                      NaN   \n",
       "199                     54.1   \n",
       "200                     68.0   \n",
       "201                     89.5   \n",
       "\n",
       "     Gross national income per capita (PPP international $)  \\\n",
       "197                                             2310.0        \n",
       "198                                                NaN        \n",
       "199                                             2090.0        \n",
       "200                                             1140.0        \n",
       "201                                                NaN        \n",
       "\n",
       "     Net primary school enrolment ratio female (%)  \\\n",
       "197                                           91.0   \n",
       "198                                            NaN   \n",
       "199                                           65.0   \n",
       "200                                           94.0   \n",
       "201                                           88.0   \n",
       "\n",
       "     Net primary school enrolment ratio male (%)  \\\n",
       "197                                         96.0   \n",
       "198                                          NaN   \n",
       "199                                         85.0   \n",
       "200                                         90.0   \n",
       "201                                         87.0   \n",
       "\n",
       "     Population (in thousands) total  \n",
       "197                          86206.0  \n",
       "198                              NaN  \n",
       "199                          21732.0  \n",
       "200                          11696.0  \n",
       "201                          13228.0  "
      ]
     },
     "execution_count": 10,
     "metadata": {},
     "output_type": "execute_result"
    }
   ],
   "source": [
    "from pandas.io.parsers import read_csv\n",
    "import numpy as np\n",
    "\n",
    "df = read_csv(\"WHO_first9cols.csv\")\n",
    "df.tail()"
   ]
  },
  {
   "cell_type": "code",
   "execution_count": 11,
   "metadata": {},
   "outputs": [
    {
     "data": {
      "text/plain": [
       "0    Afghanistan\n",
       "1        Albania\n",
       "2        Algeria\n",
       "Name: Country, dtype: object"
      ]
     },
     "execution_count": 11,
     "metadata": {},
     "output_type": "execute_result"
    }
   ],
   "source": [
    "country_col = df[\"Country\"]\n",
    "country_col[:3]"
   ]
  },
  {
   "cell_type": "code",
   "execution_count": 12,
   "metadata": {},
   "outputs": [
    {
     "name": "stdout",
     "output_type": "stream",
     "text": [
      "Type df <class 'pandas.core.frame.DataFrame'>\n"
     ]
    }
   ],
   "source": [
    "print(\"Type df\", type(df))"
   ]
  },
  {
   "cell_type": "code",
   "execution_count": 13,
   "metadata": {},
   "outputs": [
    {
     "name": "stdout",
     "output_type": "stream",
     "text": [
      "Type country col <class 'pandas.core.series.Series'>\n"
     ]
    }
   ],
   "source": [
    "print(\"Type country col\", type(country_col))"
   ]
  },
  {
   "cell_type": "code",
   "execution_count": 14,
   "metadata": {},
   "outputs": [
    {
     "name": "stdout",
     "output_type": "stream",
     "text": [
      "Series shape (202,)\n"
     ]
    }
   ],
   "source": [
    "print(\"Series shape\", country_col.shape)"
   ]
  },
  {
   "cell_type": "code",
   "execution_count": 15,
   "metadata": {},
   "outputs": [
    {
     "name": "stdout",
     "output_type": "stream",
     "text": [
      "Series index RangeIndex(start=0, stop=202, step=1)\n"
     ]
    }
   ],
   "source": [
    "print(\"Series index\", country_col.index)"
   ]
  },
  {
   "cell_type": "code",
   "execution_count": 16,
   "metadata": {},
   "outputs": [
    {
     "data": {
      "text/plain": [
       "[0, 1, 2]"
      ]
     },
     "execution_count": 16,
     "metadata": {},
     "output_type": "execute_result"
    }
   ],
   "source": [
    "list(country_col.index)[:3]"
   ]
  },
  {
   "cell_type": "code",
   "execution_count": 17,
   "metadata": {},
   "outputs": [
    {
     "name": "stdout",
     "output_type": "stream",
     "text": [
      "Series values ['Afghanistan' 'Albania' 'Algeria' 'Andorra' 'Angola']\n"
     ]
    }
   ],
   "source": [
    "print(\"Series values\", country_col.values[:5])"
   ]
  },
  {
   "cell_type": "code",
   "execution_count": 18,
   "metadata": {},
   "outputs": [
    {
     "name": "stdout",
     "output_type": "stream",
     "text": [
      "Series name: Country\n"
     ]
    }
   ],
   "source": [
    "print(\"Series name:\", country_col.name)  # 欄位名稱"
   ]
  },
  {
   "cell_type": "code",
   "execution_count": 19,
   "metadata": {},
   "outputs": [
    {
     "name": "stdout",
     "output_type": "stream",
     "text": [
      "Last 2 countries:\n",
      " 200      Zambia\n",
      "201    Zimbabwe\n",
      "Name: Country, dtype: object\n"
     ]
    }
   ],
   "source": [
    "print(\"Last 2 countries:\\n\", country_col[-2:])"
   ]
  },
  {
   "cell_type": "code",
   "execution_count": 20,
   "metadata": {},
   "outputs": [
    {
     "name": "stdout",
     "output_type": "stream",
     "text": [
      "Last 2 countries type <class 'pandas.core.series.Series'>\n"
     ]
    }
   ],
   "source": [
    "print(\"Last 2 countries type\", type(country_col[-2:]))"
   ]
  },
  {
   "cell_type": "code",
   "execution_count": 21,
   "metadata": {},
   "outputs": [
    {
     "name": "stdout",
     "output_type": "stream",
     "text": [
      "df signs      Continent  Adolescent fertility rate (%)  Adult literacy rate (%)  \\\n",
      "0          1.0                            1.0                      1.0   \n",
      "1          1.0                            1.0                      1.0   \n",
      "2          1.0                            1.0                      1.0   \n",
      "3          1.0                            NaN                      NaN   \n",
      "4          1.0                            1.0                      1.0   \n",
      "5          1.0                            NaN                      NaN   \n",
      "6          1.0                            1.0                      1.0   \n",
      "7          1.0                            1.0                      1.0   \n",
      "8          1.0                            1.0                      NaN   \n",
      "9          1.0                            1.0                      NaN   \n",
      "10         1.0                            1.0                      1.0   \n",
      "11         1.0                            1.0                      NaN   \n",
      "12         1.0                            1.0                      1.0   \n",
      "13         1.0                            1.0                      1.0   \n",
      "14         1.0                            1.0                      NaN   \n",
      "15         1.0                            1.0                      1.0   \n",
      "16         1.0                            1.0                      NaN   \n",
      "17         1.0                            1.0                      1.0   \n",
      "18         1.0                            1.0                      1.0   \n",
      "19         1.0                            NaN                      NaN   \n",
      "20         1.0                            1.0                      NaN   \n",
      "21         1.0                            1.0                      1.0   \n",
      "22         1.0                            1.0                      1.0   \n",
      "23         1.0                            1.0                      1.0   \n",
      "24         1.0                            1.0                      1.0   \n",
      "25         1.0                            1.0                      1.0   \n",
      "26         1.0                            1.0                      1.0   \n",
      "27         1.0                            1.0                      1.0   \n",
      "28         1.0                            1.0                      1.0   \n",
      "29         1.0                            1.0                      1.0   \n",
      "..         ...                            ...                      ...   \n",
      "172        1.0                            1.0                      1.0   \n",
      "173        1.0                            1.0                      NaN   \n",
      "174        1.0                            1.0                      NaN   \n",
      "175        1.0                            1.0                      1.0   \n",
      "176        1.0                            NaN                      NaN   \n",
      "177        1.0                            1.0                      1.0   \n",
      "178        1.0                            1.0                      1.0   \n",
      "179        1.0                            1.0                      1.0   \n",
      "180        1.0                            1.0                      NaN   \n",
      "181        1.0                            1.0                      1.0   \n",
      "182        1.0                            1.0                      1.0   \n",
      "183        1.0                            1.0                      1.0   \n",
      "184        1.0                            1.0                      1.0   \n",
      "185        1.0                            1.0                      1.0   \n",
      "186        1.0                            1.0                      1.0   \n",
      "187        1.0                            NaN                      NaN   \n",
      "188        1.0                            1.0                      1.0   \n",
      "189        1.0                            1.0                      1.0   \n",
      "190        1.0                            1.0                      1.0   \n",
      "191        1.0                            1.0                      NaN   \n",
      "192        1.0                            1.0                      NaN   \n",
      "193        1.0                            1.0                      1.0   \n",
      "194        1.0                            1.0                      NaN   \n",
      "195        1.0                            1.0                      1.0   \n",
      "196        1.0                            1.0                      1.0   \n",
      "197        1.0                            1.0                      1.0   \n",
      "198        1.0                            NaN                      NaN   \n",
      "199        1.0                            1.0                      1.0   \n",
      "200        1.0                            1.0                      1.0   \n",
      "201        1.0                            1.0                      1.0   \n",
      "\n",
      "     Gross national income per capita (PPP international $)  \\\n",
      "0                                                  NaN        \n",
      "1                                                  1.0        \n",
      "2                                                  1.0        \n",
      "3                                                  NaN        \n",
      "4                                                  1.0        \n",
      "5                                                  1.0        \n",
      "6                                                  1.0        \n",
      "7                                                  1.0        \n",
      "8                                                  1.0        \n",
      "9                                                  1.0        \n",
      "10                                                 1.0        \n",
      "11                                                 NaN        \n",
      "12                                                 1.0        \n",
      "13                                                 1.0        \n",
      "14                                                 1.0        \n",
      "15                                                 1.0        \n",
      "16                                                 1.0        \n",
      "17                                                 1.0        \n",
      "18                                                 1.0        \n",
      "19                                                 NaN        \n",
      "20                                                 1.0        \n",
      "21                                                 1.0        \n",
      "22                                                 1.0        \n",
      "23                                                 1.0        \n",
      "24                                                 1.0        \n",
      "25                                                 1.0        \n",
      "26                                                 1.0        \n",
      "27                                                 1.0        \n",
      "28                                                 1.0        \n",
      "29                                                 1.0        \n",
      "..                                                 ...        \n",
      "172                                                1.0        \n",
      "173                                                1.0        \n",
      "174                                                1.0        \n",
      "175                                                1.0        \n",
      "176                                                NaN        \n",
      "177                                                1.0        \n",
      "178                                                1.0        \n",
      "179                                                1.0        \n",
      "180                                                1.0        \n",
      "181                                                1.0        \n",
      "182                                                1.0        \n",
      "183                                                1.0        \n",
      "184                                                1.0        \n",
      "185                                                1.0        \n",
      "186                                                1.0        \n",
      "187                                                NaN        \n",
      "188                                                1.0        \n",
      "189                                                1.0        \n",
      "190                                                1.0        \n",
      "191                                                1.0        \n",
      "192                                                1.0        \n",
      "193                                                1.0        \n",
      "194                                                1.0        \n",
      "195                                                1.0        \n",
      "196                                                1.0        \n",
      "197                                                1.0        \n",
      "198                                                NaN        \n",
      "199                                                1.0        \n",
      "200                                                1.0        \n",
      "201                                                NaN        \n",
      "\n",
      "     Net primary school enrolment ratio female (%)  \\\n",
      "0                                              NaN   \n",
      "1                                              1.0   \n",
      "2                                              1.0   \n",
      "3                                              1.0   \n",
      "4                                              1.0   \n",
      "5                                              NaN   \n",
      "6                                              1.0   \n",
      "7                                              1.0   \n",
      "8                                              1.0   \n",
      "9                                              1.0   \n",
      "10                                             1.0   \n",
      "11                                             1.0   \n",
      "12                                             1.0   \n",
      "13                                             1.0   \n",
      "14                                             1.0   \n",
      "15                                             1.0   \n",
      "16                                             1.0   \n",
      "17                                             1.0   \n",
      "18                                             1.0   \n",
      "19                                             NaN   \n",
      "20                                             1.0   \n",
      "21                                             1.0   \n",
      "22                                             NaN   \n",
      "23                                             1.0   \n",
      "24                                             1.0   \n",
      "25                                             1.0   \n",
      "26                                             1.0   \n",
      "27                                             1.0   \n",
      "28                                             1.0   \n",
      "29                                             1.0   \n",
      "..                                             ...   \n",
      "172                                            1.0   \n",
      "173                                            1.0   \n",
      "174                                            1.0   \n",
      "175                                            1.0   \n",
      "176                                            NaN   \n",
      "177                                            1.0   \n",
      "178                                            1.0   \n",
      "179                                            1.0   \n",
      "180                                            1.0   \n",
      "181                                            1.0   \n",
      "182                                            1.0   \n",
      "183                                            1.0   \n",
      "184                                            1.0   \n",
      "185                                            1.0   \n",
      "186                                            NaN   \n",
      "187                                            NaN   \n",
      "188                                            NaN   \n",
      "189                                            1.0   \n",
      "190                                            1.0   \n",
      "191                                            1.0   \n",
      "192                                            1.0   \n",
      "193                                            1.0   \n",
      "194                                            1.0   \n",
      "195                                            1.0   \n",
      "196                                            1.0   \n",
      "197                                            1.0   \n",
      "198                                            NaN   \n",
      "199                                            1.0   \n",
      "200                                            1.0   \n",
      "201                                            1.0   \n",
      "\n",
      "     Net primary school enrolment ratio male (%)  \n",
      "0                                            NaN  \n",
      "1                                            1.0  \n",
      "2                                            1.0  \n",
      "3                                            1.0  \n",
      "4                                            1.0  \n",
      "5                                            NaN  \n",
      "6                                            1.0  \n",
      "7                                            1.0  \n",
      "8                                            1.0  \n",
      "9                                            1.0  \n",
      "10                                           1.0  \n",
      "11                                           1.0  \n",
      "12                                           1.0  \n",
      "13                                           1.0  \n",
      "14                                           1.0  \n",
      "15                                           1.0  \n",
      "16                                           1.0  \n",
      "17                                           1.0  \n",
      "18                                           1.0  \n",
      "19                                           NaN  \n",
      "20                                           1.0  \n",
      "21                                           1.0  \n",
      "22                                           NaN  \n",
      "23                                           1.0  \n",
      "24                                           1.0  \n",
      "25                                           1.0  \n",
      "26                                           1.0  \n",
      "27                                           1.0  \n",
      "28                                           1.0  \n",
      "29                                           1.0  \n",
      "..                                           ...  \n",
      "172                                          1.0  \n",
      "173                                          1.0  \n",
      "174                                          1.0  \n",
      "175                                          1.0  \n",
      "176                                          NaN  \n",
      "177                                          1.0  \n",
      "178                                          1.0  \n",
      "179                                          1.0  \n",
      "180                                          1.0  \n",
      "181                                          1.0  \n",
      "182                                          1.0  \n",
      "183                                          1.0  \n",
      "184                                          1.0  \n",
      "185                                          1.0  \n",
      "186                                          NaN  \n",
      "187                                          NaN  \n",
      "188                                          NaN  \n",
      "189                                          1.0  \n",
      "190                                          1.0  \n",
      "191                                          1.0  \n",
      "192                                          1.0  \n",
      "193                                          1.0  \n",
      "194                                          1.0  \n",
      "195                                          1.0  \n",
      "196                                          1.0  \n",
      "197                                          1.0  \n",
      "198                                          NaN  \n",
      "199                                          1.0  \n",
      "200                                          1.0  \n",
      "201                                          1.0  \n",
      "\n",
      "[202 rows x 6 columns]\n"
     ]
    },
    {
     "name": "stderr",
     "output_type": "stream",
     "text": [
      "D:\\Python\\lib\\site-packages\\ipykernel_launcher.py:1: RuntimeWarning: invalid value encountered in sign\n",
      "  \"\"\"Entry point for launching an IPython kernel.\n"
     ]
    }
   ],
   "source": [
    "print(\"df signs\", np.sign(df[df.columns[2:-1]]))"
   ]
  },
  {
   "cell_type": "code",
   "execution_count": 22,
   "metadata": {},
   "outputs": [
    {
     "name": "stdout",
     "output_type": "stream",
     "text": [
      "df signs      CountryID  Continent  Adolescent fertility rate (%)  \\\n",
      "0          1.0        1.0                            1.0   \n",
      "1          1.0        1.0                            1.0   \n",
      "2          1.0        1.0                            1.0   \n",
      "3          1.0        1.0                            NaN   \n",
      "4          1.0        1.0                            1.0   \n",
      "5          1.0        1.0                            NaN   \n",
      "6          1.0        1.0                            1.0   \n",
      "7          1.0        1.0                            1.0   \n",
      "8          1.0        1.0                            1.0   \n",
      "9          1.0        1.0                            1.0   \n",
      "10         1.0        1.0                            1.0   \n",
      "11         1.0        1.0                            1.0   \n",
      "12         1.0        1.0                            1.0   \n",
      "13         1.0        1.0                            1.0   \n",
      "14         1.0        1.0                            1.0   \n",
      "15         1.0        1.0                            1.0   \n",
      "16         1.0        1.0                            1.0   \n",
      "17         1.0        1.0                            1.0   \n",
      "18         1.0        1.0                            1.0   \n",
      "19         1.0        1.0                            NaN   \n",
      "20         1.0        1.0                            1.0   \n",
      "21         1.0        1.0                            1.0   \n",
      "22         1.0        1.0                            1.0   \n",
      "23         1.0        1.0                            1.0   \n",
      "24         1.0        1.0                            1.0   \n",
      "25         1.0        1.0                            1.0   \n",
      "26         1.0        1.0                            1.0   \n",
      "27         1.0        1.0                            1.0   \n",
      "28         1.0        1.0                            1.0   \n",
      "29         1.0        1.0                            1.0   \n",
      "..         ...        ...                            ...   \n",
      "172        1.0        1.0                            1.0   \n",
      "173        1.0        1.0                            1.0   \n",
      "174        1.0        1.0                            1.0   \n",
      "175        1.0        1.0                            1.0   \n",
      "176        1.0        1.0                            NaN   \n",
      "177        1.0        1.0                            1.0   \n",
      "178        1.0        1.0                            1.0   \n",
      "179        1.0        1.0                            1.0   \n",
      "180        1.0        1.0                            1.0   \n",
      "181        1.0        1.0                            1.0   \n",
      "182        1.0        1.0                            1.0   \n",
      "183        1.0        1.0                            1.0   \n",
      "184        1.0        1.0                            1.0   \n",
      "185        1.0        1.0                            1.0   \n",
      "186        1.0        1.0                            1.0   \n",
      "187        1.0        1.0                            NaN   \n",
      "188        1.0        1.0                            1.0   \n",
      "189        1.0        1.0                            1.0   \n",
      "190        1.0        1.0                            1.0   \n",
      "191        1.0        1.0                            1.0   \n",
      "192        1.0        1.0                            1.0   \n",
      "193        1.0        1.0                            1.0   \n",
      "194        1.0        1.0                            1.0   \n",
      "195        1.0        1.0                            1.0   \n",
      "196        1.0        1.0                            1.0   \n",
      "197        1.0        1.0                            1.0   \n",
      "198        1.0        1.0                            NaN   \n",
      "199        1.0        1.0                            1.0   \n",
      "200        1.0        1.0                            1.0   \n",
      "201        1.0        1.0                            1.0   \n",
      "\n",
      "     Adult literacy rate (%)  \\\n",
      "0                        1.0   \n",
      "1                        1.0   \n",
      "2                        1.0   \n",
      "3                        NaN   \n",
      "4                        1.0   \n",
      "5                        NaN   \n",
      "6                        1.0   \n",
      "7                        1.0   \n",
      "8                        NaN   \n",
      "9                        NaN   \n",
      "10                       1.0   \n",
      "11                       NaN   \n",
      "12                       1.0   \n",
      "13                       1.0   \n",
      "14                       NaN   \n",
      "15                       1.0   \n",
      "16                       NaN   \n",
      "17                       1.0   \n",
      "18                       1.0   \n",
      "19                       NaN   \n",
      "20                       NaN   \n",
      "21                       1.0   \n",
      "22                       1.0   \n",
      "23                       1.0   \n",
      "24                       1.0   \n",
      "25                       1.0   \n",
      "26                       1.0   \n",
      "27                       1.0   \n",
      "28                       1.0   \n",
      "29                       1.0   \n",
      "..                       ...   \n",
      "172                      1.0   \n",
      "173                      NaN   \n",
      "174                      NaN   \n",
      "175                      1.0   \n",
      "176                      NaN   \n",
      "177                      1.0   \n",
      "178                      1.0   \n",
      "179                      1.0   \n",
      "180                      NaN   \n",
      "181                      1.0   \n",
      "182                      1.0   \n",
      "183                      1.0   \n",
      "184                      1.0   \n",
      "185                      1.0   \n",
      "186                      1.0   \n",
      "187                      NaN   \n",
      "188                      1.0   \n",
      "189                      1.0   \n",
      "190                      1.0   \n",
      "191                      NaN   \n",
      "192                      NaN   \n",
      "193                      1.0   \n",
      "194                      NaN   \n",
      "195                      1.0   \n",
      "196                      1.0   \n",
      "197                      1.0   \n",
      "198                      NaN   \n",
      "199                      1.0   \n",
      "200                      1.0   \n",
      "201                      1.0   \n",
      "\n",
      "     Gross national income per capita (PPP international $)  \\\n",
      "0                                                  NaN        \n",
      "1                                                  1.0        \n",
      "2                                                  1.0        \n",
      "3                                                  NaN        \n",
      "4                                                  1.0        \n",
      "5                                                  1.0        \n",
      "6                                                  1.0        \n",
      "7                                                  1.0        \n",
      "8                                                  1.0        \n",
      "9                                                  1.0        \n",
      "10                                                 1.0        \n",
      "11                                                 NaN        \n",
      "12                                                 1.0        \n",
      "13                                                 1.0        \n",
      "14                                                 1.0        \n",
      "15                                                 1.0        \n",
      "16                                                 1.0        \n",
      "17                                                 1.0        \n",
      "18                                                 1.0        \n",
      "19                                                 NaN        \n",
      "20                                                 1.0        \n",
      "21                                                 1.0        \n",
      "22                                                 1.0        \n",
      "23                                                 1.0        \n",
      "24                                                 1.0        \n",
      "25                                                 1.0        \n",
      "26                                                 1.0        \n",
      "27                                                 1.0        \n",
      "28                                                 1.0        \n",
      "29                                                 1.0        \n",
      "..                                                 ...        \n",
      "172                                                1.0        \n",
      "173                                                1.0        \n",
      "174                                                1.0        \n",
      "175                                                1.0        \n",
      "176                                                NaN        \n",
      "177                                                1.0        \n",
      "178                                                1.0        \n",
      "179                                                1.0        \n",
      "180                                                1.0        \n",
      "181                                                1.0        \n",
      "182                                                1.0        \n",
      "183                                                1.0        \n",
      "184                                                1.0        \n",
      "185                                                1.0        \n",
      "186                                                1.0        \n",
      "187                                                NaN        \n",
      "188                                                1.0        \n",
      "189                                                1.0        \n",
      "190                                                1.0        \n",
      "191                                                1.0        \n",
      "192                                                1.0        \n",
      "193                                                1.0        \n",
      "194                                                1.0        \n",
      "195                                                1.0        \n",
      "196                                                1.0        \n",
      "197                                                1.0        \n",
      "198                                                NaN        \n",
      "199                                                1.0        \n",
      "200                                                1.0        \n",
      "201                                                NaN        \n",
      "\n",
      "     Net primary school enrolment ratio female (%)  \\\n",
      "0                                              NaN   \n",
      "1                                              1.0   \n",
      "2                                              1.0   \n",
      "3                                              1.0   \n",
      "4                                              1.0   \n",
      "5                                              NaN   \n",
      "6                                              1.0   \n",
      "7                                              1.0   \n",
      "8                                              1.0   \n",
      "9                                              1.0   \n",
      "10                                             1.0   \n",
      "11                                             1.0   \n",
      "12                                             1.0   \n",
      "13                                             1.0   \n",
      "14                                             1.0   \n",
      "15                                             1.0   \n",
      "16                                             1.0   \n",
      "17                                             1.0   \n",
      "18                                             1.0   \n",
      "19                                             NaN   \n",
      "20                                             1.0   \n",
      "21                                             1.0   \n",
      "22                                             NaN   \n",
      "23                                             1.0   \n",
      "24                                             1.0   \n",
      "25                                             1.0   \n",
      "26                                             1.0   \n",
      "27                                             1.0   \n",
      "28                                             1.0   \n",
      "29                                             1.0   \n",
      "..                                             ...   \n",
      "172                                            1.0   \n",
      "173                                            1.0   \n",
      "174                                            1.0   \n",
      "175                                            1.0   \n",
      "176                                            NaN   \n",
      "177                                            1.0   \n",
      "178                                            1.0   \n",
      "179                                            1.0   \n",
      "180                                            1.0   \n",
      "181                                            1.0   \n",
      "182                                            1.0   \n",
      "183                                            1.0   \n",
      "184                                            1.0   \n",
      "185                                            1.0   \n",
      "186                                            NaN   \n",
      "187                                            NaN   \n",
      "188                                            NaN   \n",
      "189                                            1.0   \n",
      "190                                            1.0   \n",
      "191                                            1.0   \n",
      "192                                            1.0   \n",
      "193                                            1.0   \n",
      "194                                            1.0   \n",
      "195                                            1.0   \n",
      "196                                            1.0   \n",
      "197                                            1.0   \n",
      "198                                            NaN   \n",
      "199                                            1.0   \n",
      "200                                            1.0   \n",
      "201                                            1.0   \n",
      "\n",
      "     Net primary school enrolment ratio male (%)  \\\n",
      "0                                            NaN   \n",
      "1                                            1.0   \n",
      "2                                            1.0   \n",
      "3                                            1.0   \n",
      "4                                            1.0   \n",
      "5                                            NaN   \n",
      "6                                            1.0   \n",
      "7                                            1.0   \n",
      "8                                            1.0   \n",
      "9                                            1.0   \n",
      "10                                           1.0   \n",
      "11                                           1.0   \n",
      "12                                           1.0   \n",
      "13                                           1.0   \n",
      "14                                           1.0   \n",
      "15                                           1.0   \n",
      "16                                           1.0   \n",
      "17                                           1.0   \n",
      "18                                           1.0   \n",
      "19                                           NaN   \n",
      "20                                           1.0   \n",
      "21                                           1.0   \n",
      "22                                           NaN   \n",
      "23                                           1.0   \n",
      "24                                           1.0   \n",
      "25                                           1.0   \n",
      "26                                           1.0   \n",
      "27                                           1.0   \n",
      "28                                           1.0   \n",
      "29                                           1.0   \n",
      "..                                           ...   \n",
      "172                                          1.0   \n",
      "173                                          1.0   \n",
      "174                                          1.0   \n",
      "175                                          1.0   \n",
      "176                                          NaN   \n",
      "177                                          1.0   \n",
      "178                                          1.0   \n",
      "179                                          1.0   \n",
      "180                                          1.0   \n",
      "181                                          1.0   \n",
      "182                                          1.0   \n",
      "183                                          1.0   \n",
      "184                                          1.0   \n",
      "185                                          1.0   \n",
      "186                                          NaN   \n",
      "187                                          NaN   \n",
      "188                                          NaN   \n",
      "189                                          1.0   \n",
      "190                                          1.0   \n",
      "191                                          1.0   \n",
      "192                                          1.0   \n",
      "193                                          1.0   \n",
      "194                                          1.0   \n",
      "195                                          1.0   \n",
      "196                                          1.0   \n",
      "197                                          1.0   \n",
      "198                                          NaN   \n",
      "199                                          1.0   \n",
      "200                                          1.0   \n",
      "201                                          1.0   \n",
      "\n",
      "     Population (in thousands) total  \n",
      "0                                1.0  \n",
      "1                                1.0  \n",
      "2                                1.0  \n",
      "3                                1.0  \n",
      "4                                1.0  \n",
      "5                                1.0  \n",
      "6                                1.0  \n",
      "7                                1.0  \n",
      "8                                1.0  \n",
      "9                                1.0  \n",
      "10                               1.0  \n",
      "11                               1.0  \n",
      "12                               1.0  \n",
      "13                               1.0  \n",
      "14                               1.0  \n",
      "15                               1.0  \n",
      "16                               1.0  \n",
      "17                               1.0  \n",
      "18                               1.0  \n",
      "19                               NaN  \n",
      "20                               1.0  \n",
      "21                               1.0  \n",
      "22                               1.0  \n",
      "23                               1.0  \n",
      "24                               1.0  \n",
      "25                               1.0  \n",
      "26                               1.0  \n",
      "27                               1.0  \n",
      "28                               1.0  \n",
      "29                               1.0  \n",
      "..                               ...  \n",
      "172                              1.0  \n",
      "173                              1.0  \n",
      "174                              1.0  \n",
      "175                              1.0  \n",
      "176                              NaN  \n",
      "177                              1.0  \n",
      "178                              1.0  \n",
      "179                              1.0  \n",
      "180                              1.0  \n",
      "181                              1.0  \n",
      "182                              1.0  \n",
      "183                              1.0  \n",
      "184                              1.0  \n",
      "185                              1.0  \n",
      "186                              1.0  \n",
      "187                              1.0  \n",
      "188                              1.0  \n",
      "189                              1.0  \n",
      "190                              1.0  \n",
      "191                              1.0  \n",
      "192                              1.0  \n",
      "193                              1.0  \n",
      "194                              1.0  \n",
      "195                              1.0  \n",
      "196                              1.0  \n",
      "197                              1.0  \n",
      "198                              NaN  \n",
      "199                              1.0  \n",
      "200                              1.0  \n",
      "201                              1.0  \n",
      "\n",
      "[202 rows x 8 columns]\n"
     ]
    },
    {
     "name": "stderr",
     "output_type": "stream",
     "text": [
      "D:\\Python\\lib\\site-packages\\ipykernel_launcher.py:1: RuntimeWarning: invalid value encountered in sign\n",
      "  \"\"\"Entry point for launching an IPython kernel.\n"
     ]
    }
   ],
   "source": [
    "print(\"df signs\", np.sign(df.ix[:, 1:]))"
   ]
  },
  {
   "cell_type": "code",
   "execution_count": 23,
   "metadata": {},
   "outputs": [
    {
     "name": "stdout",
     "output_type": "stream",
     "text": [
      "df signs      CountryID  Continent  Adolescent fertility rate (%)  \\\n",
      "0          1.0        1.0                            1.0   \n",
      "1          1.0        1.0                            1.0   \n",
      "2          1.0        1.0                            1.0   \n",
      "3          1.0        1.0                            NaN   \n",
      "4          1.0        1.0                            1.0   \n",
      "5          1.0        1.0                            NaN   \n",
      "6          1.0        1.0                            1.0   \n",
      "7          1.0        1.0                            1.0   \n",
      "8          1.0        1.0                            1.0   \n",
      "9          1.0        1.0                            1.0   \n",
      "10         1.0        1.0                            1.0   \n",
      "11         1.0        1.0                            1.0   \n",
      "12         1.0        1.0                            1.0   \n",
      "13         1.0        1.0                            1.0   \n",
      "14         1.0        1.0                            1.0   \n",
      "15         1.0        1.0                            1.0   \n",
      "16         1.0        1.0                            1.0   \n",
      "17         1.0        1.0                            1.0   \n",
      "18         1.0        1.0                            1.0   \n",
      "19         1.0        1.0                            NaN   \n",
      "20         1.0        1.0                            1.0   \n",
      "21         1.0        1.0                            1.0   \n",
      "22         1.0        1.0                            1.0   \n",
      "23         1.0        1.0                            1.0   \n",
      "24         1.0        1.0                            1.0   \n",
      "25         1.0        1.0                            1.0   \n",
      "26         1.0        1.0                            1.0   \n",
      "27         1.0        1.0                            1.0   \n",
      "28         1.0        1.0                            1.0   \n",
      "29         1.0        1.0                            1.0   \n",
      "..         ...        ...                            ...   \n",
      "172        1.0        1.0                            1.0   \n",
      "173        1.0        1.0                            1.0   \n",
      "174        1.0        1.0                            1.0   \n",
      "175        1.0        1.0                            1.0   \n",
      "176        1.0        1.0                            NaN   \n",
      "177        1.0        1.0                            1.0   \n",
      "178        1.0        1.0                            1.0   \n",
      "179        1.0        1.0                            1.0   \n",
      "180        1.0        1.0                            1.0   \n",
      "181        1.0        1.0                            1.0   \n",
      "182        1.0        1.0                            1.0   \n",
      "183        1.0        1.0                            1.0   \n",
      "184        1.0        1.0                            1.0   \n",
      "185        1.0        1.0                            1.0   \n",
      "186        1.0        1.0                            1.0   \n",
      "187        1.0        1.0                            NaN   \n",
      "188        1.0        1.0                            1.0   \n",
      "189        1.0        1.0                            1.0   \n",
      "190        1.0        1.0                            1.0   \n",
      "191        1.0        1.0                            1.0   \n",
      "192        1.0        1.0                            1.0   \n",
      "193        1.0        1.0                            1.0   \n",
      "194        1.0        1.0                            1.0   \n",
      "195        1.0        1.0                            1.0   \n",
      "196        1.0        1.0                            1.0   \n",
      "197        1.0        1.0                            1.0   \n",
      "198        1.0        1.0                            NaN   \n",
      "199        1.0        1.0                            1.0   \n",
      "200        1.0        1.0                            1.0   \n",
      "201        1.0        1.0                            1.0   \n",
      "\n",
      "     Adult literacy rate (%)  \\\n",
      "0                        1.0   \n",
      "1                        1.0   \n",
      "2                        1.0   \n",
      "3                        NaN   \n",
      "4                        1.0   \n",
      "5                        NaN   \n",
      "6                        1.0   \n",
      "7                        1.0   \n",
      "8                        NaN   \n",
      "9                        NaN   \n",
      "10                       1.0   \n",
      "11                       NaN   \n",
      "12                       1.0   \n",
      "13                       1.0   \n",
      "14                       NaN   \n",
      "15                       1.0   \n",
      "16                       NaN   \n",
      "17                       1.0   \n",
      "18                       1.0   \n",
      "19                       NaN   \n",
      "20                       NaN   \n",
      "21                       1.0   \n",
      "22                       1.0   \n",
      "23                       1.0   \n",
      "24                       1.0   \n",
      "25                       1.0   \n",
      "26                       1.0   \n",
      "27                       1.0   \n",
      "28                       1.0   \n",
      "29                       1.0   \n",
      "..                       ...   \n",
      "172                      1.0   \n",
      "173                      NaN   \n",
      "174                      NaN   \n",
      "175                      1.0   \n",
      "176                      NaN   \n",
      "177                      1.0   \n",
      "178                      1.0   \n",
      "179                      1.0   \n",
      "180                      NaN   \n",
      "181                      1.0   \n",
      "182                      1.0   \n",
      "183                      1.0   \n",
      "184                      1.0   \n",
      "185                      1.0   \n",
      "186                      1.0   \n",
      "187                      NaN   \n",
      "188                      1.0   \n",
      "189                      1.0   \n",
      "190                      1.0   \n",
      "191                      NaN   \n",
      "192                      NaN   \n",
      "193                      1.0   \n",
      "194                      NaN   \n",
      "195                      1.0   \n",
      "196                      1.0   \n",
      "197                      1.0   \n",
      "198                      NaN   \n",
      "199                      1.0   \n",
      "200                      1.0   \n",
      "201                      1.0   \n",
      "\n",
      "     Gross national income per capita (PPP international $)  \\\n",
      "0                                                  NaN        \n",
      "1                                                  1.0        \n",
      "2                                                  1.0        \n",
      "3                                                  NaN        \n",
      "4                                                  1.0        \n",
      "5                                                  1.0        \n",
      "6                                                  1.0        \n",
      "7                                                  1.0        \n",
      "8                                                  1.0        \n",
      "9                                                  1.0        \n",
      "10                                                 1.0        \n",
      "11                                                 NaN        \n",
      "12                                                 1.0        \n",
      "13                                                 1.0        \n",
      "14                                                 1.0        \n",
      "15                                                 1.0        \n",
      "16                                                 1.0        \n",
      "17                                                 1.0        \n",
      "18                                                 1.0        \n",
      "19                                                 NaN        \n",
      "20                                                 1.0        \n",
      "21                                                 1.0        \n",
      "22                                                 1.0        \n",
      "23                                                 1.0        \n",
      "24                                                 1.0        \n",
      "25                                                 1.0        \n",
      "26                                                 1.0        \n",
      "27                                                 1.0        \n",
      "28                                                 1.0        \n",
      "29                                                 1.0        \n",
      "..                                                 ...        \n",
      "172                                                1.0        \n",
      "173                                                1.0        \n",
      "174                                                1.0        \n",
      "175                                                1.0        \n",
      "176                                                NaN        \n",
      "177                                                1.0        \n",
      "178                                                1.0        \n",
      "179                                                1.0        \n",
      "180                                                1.0        \n",
      "181                                                1.0        \n",
      "182                                                1.0        \n",
      "183                                                1.0        \n",
      "184                                                1.0        \n",
      "185                                                1.0        \n",
      "186                                                1.0        \n",
      "187                                                NaN        \n",
      "188                                                1.0        \n",
      "189                                                1.0        \n",
      "190                                                1.0        \n",
      "191                                                1.0        \n",
      "192                                                1.0        \n",
      "193                                                1.0        \n",
      "194                                                1.0        \n",
      "195                                                1.0        \n",
      "196                                                1.0        \n",
      "197                                                1.0        \n",
      "198                                                NaN        \n",
      "199                                                1.0        \n",
      "200                                                1.0        \n",
      "201                                                NaN        \n",
      "\n",
      "     Net primary school enrolment ratio female (%)  \\\n",
      "0                                              NaN   \n",
      "1                                              1.0   \n",
      "2                                              1.0   \n",
      "3                                              1.0   \n",
      "4                                              1.0   \n",
      "5                                              NaN   \n",
      "6                                              1.0   \n",
      "7                                              1.0   \n",
      "8                                              1.0   \n",
      "9                                              1.0   \n",
      "10                                             1.0   \n",
      "11                                             1.0   \n",
      "12                                             1.0   \n",
      "13                                             1.0   \n",
      "14                                             1.0   \n",
      "15                                             1.0   \n",
      "16                                             1.0   \n",
      "17                                             1.0   \n",
      "18                                             1.0   \n",
      "19                                             NaN   \n",
      "20                                             1.0   \n",
      "21                                             1.0   \n",
      "22                                             NaN   \n",
      "23                                             1.0   \n",
      "24                                             1.0   \n",
      "25                                             1.0   \n",
      "26                                             1.0   \n",
      "27                                             1.0   \n",
      "28                                             1.0   \n",
      "29                                             1.0   \n",
      "..                                             ...   \n",
      "172                                            1.0   \n",
      "173                                            1.0   \n",
      "174                                            1.0   \n",
      "175                                            1.0   \n",
      "176                                            NaN   \n",
      "177                                            1.0   \n",
      "178                                            1.0   \n",
      "179                                            1.0   \n",
      "180                                            1.0   \n",
      "181                                            1.0   \n",
      "182                                            1.0   \n",
      "183                                            1.0   \n",
      "184                                            1.0   \n",
      "185                                            1.0   \n",
      "186                                            NaN   \n",
      "187                                            NaN   \n",
      "188                                            NaN   \n",
      "189                                            1.0   \n",
      "190                                            1.0   \n",
      "191                                            1.0   \n",
      "192                                            1.0   \n",
      "193                                            1.0   \n",
      "194                                            1.0   \n",
      "195                                            1.0   \n",
      "196                                            1.0   \n",
      "197                                            1.0   \n",
      "198                                            NaN   \n",
      "199                                            1.0   \n",
      "200                                            1.0   \n",
      "201                                            1.0   \n",
      "\n",
      "     Net primary school enrolment ratio male (%)  \\\n",
      "0                                            NaN   \n",
      "1                                            1.0   \n",
      "2                                            1.0   \n",
      "3                                            1.0   \n",
      "4                                            1.0   \n",
      "5                                            NaN   \n",
      "6                                            1.0   \n",
      "7                                            1.0   \n",
      "8                                            1.0   \n",
      "9                                            1.0   \n",
      "10                                           1.0   \n",
      "11                                           1.0   \n",
      "12                                           1.0   \n",
      "13                                           1.0   \n",
      "14                                           1.0   \n",
      "15                                           1.0   \n",
      "16                                           1.0   \n",
      "17                                           1.0   \n",
      "18                                           1.0   \n",
      "19                                           NaN   \n",
      "20                                           1.0   \n",
      "21                                           1.0   \n",
      "22                                           NaN   \n",
      "23                                           1.0   \n",
      "24                                           1.0   \n",
      "25                                           1.0   \n",
      "26                                           1.0   \n",
      "27                                           1.0   \n",
      "28                                           1.0   \n",
      "29                                           1.0   \n",
      "..                                           ...   \n",
      "172                                          1.0   \n",
      "173                                          1.0   \n",
      "174                                          1.0   \n",
      "175                                          1.0   \n",
      "176                                          NaN   \n",
      "177                                          1.0   \n",
      "178                                          1.0   \n",
      "179                                          1.0   \n",
      "180                                          1.0   \n",
      "181                                          1.0   \n",
      "182                                          1.0   \n",
      "183                                          1.0   \n",
      "184                                          1.0   \n",
      "185                                          1.0   \n",
      "186                                          NaN   \n",
      "187                                          NaN   \n",
      "188                                          NaN   \n",
      "189                                          1.0   \n",
      "190                                          1.0   \n",
      "191                                          1.0   \n",
      "192                                          1.0   \n",
      "193                                          1.0   \n",
      "194                                          1.0   \n",
      "195                                          1.0   \n",
      "196                                          1.0   \n",
      "197                                          1.0   \n",
      "198                                          NaN   \n",
      "199                                          1.0   \n",
      "200                                          1.0   \n",
      "201                                          1.0   \n",
      "\n",
      "     Population (in thousands) total  \n",
      "0                                1.0  \n",
      "1                                1.0  \n",
      "2                                1.0  \n",
      "3                                1.0  \n",
      "4                                1.0  \n",
      "5                                1.0  \n",
      "6                                1.0  \n",
      "7                                1.0  \n",
      "8                                1.0  \n",
      "9                                1.0  \n",
      "10                               1.0  \n",
      "11                               1.0  \n",
      "12                               1.0  \n",
      "13                               1.0  \n",
      "14                               1.0  \n",
      "15                               1.0  \n",
      "16                               1.0  \n",
      "17                               1.0  \n",
      "18                               1.0  \n",
      "19                               NaN  \n",
      "20                               1.0  \n",
      "21                               1.0  \n",
      "22                               1.0  \n",
      "23                               1.0  \n",
      "24                               1.0  \n",
      "25                               1.0  \n",
      "26                               1.0  \n",
      "27                               1.0  \n",
      "28                               1.0  \n",
      "29                               1.0  \n",
      "..                               ...  \n",
      "172                              1.0  \n",
      "173                              1.0  \n",
      "174                              1.0  \n",
      "175                              1.0  \n",
      "176                              NaN  \n",
      "177                              1.0  \n",
      "178                              1.0  \n",
      "179                              1.0  \n",
      "180                              1.0  \n",
      "181                              1.0  \n",
      "182                              1.0  \n",
      "183                              1.0  \n",
      "184                              1.0  \n",
      "185                              1.0  \n",
      "186                              1.0  \n",
      "187                              1.0  \n",
      "188                              1.0  \n",
      "189                              1.0  \n",
      "190                              1.0  \n",
      "191                              1.0  \n",
      "192                              1.0  \n",
      "193                              1.0  \n",
      "194                              1.0  \n",
      "195                              1.0  \n",
      "196                              1.0  \n",
      "197                              1.0  \n",
      "198                              NaN  \n",
      "199                              1.0  \n",
      "200                              1.0  \n",
      "201                              1.0  \n",
      "\n",
      "[202 rows x 8 columns]\n"
     ]
    },
    {
     "name": "stderr",
     "output_type": "stream",
     "text": [
      "D:\\Python\\lib\\site-packages\\ipykernel_launcher.py:1: RuntimeWarning: invalid value encountered in sign\n",
      "  \"\"\"Entry point for launching an IPython kernel.\n"
     ]
    }
   ],
   "source": [
    "print(\"df signs\", np.sign(df.loc[:, 'CountryID':]))"
   ]
  },
  {
   "cell_type": "code",
   "execution_count": 24,
   "metadata": {},
   "outputs": [
    {
     "data": {
      "text/plain": [
       "'Population (in thousands) total'"
      ]
     },
     "execution_count": 24,
     "metadata": {},
     "output_type": "execute_result"
    }
   ],
   "source": [
    "last_col = df.columns[-1]\n",
    "last_col"
   ]
  },
  {
   "cell_type": "code",
   "execution_count": 25,
   "metadata": {},
   "outputs": [
    {
     "name": "stdout",
     "output_type": "stream",
     "text": [
      "Last df column signs Population (in thousands) total 0      1.0\n",
      "1      1.0\n",
      "2      1.0\n",
      "3      1.0\n",
      "4      1.0\n",
      "5      1.0\n",
      "6      1.0\n",
      "7      1.0\n",
      "8      1.0\n",
      "9      1.0\n",
      "10     1.0\n",
      "11     1.0\n",
      "12     1.0\n",
      "13     1.0\n",
      "14     1.0\n",
      "15     1.0\n",
      "16     1.0\n",
      "17     1.0\n",
      "18     1.0\n",
      "19     NaN\n",
      "20     1.0\n",
      "21     1.0\n",
      "22     1.0\n",
      "23     1.0\n",
      "24     1.0\n",
      "25     1.0\n",
      "26     1.0\n",
      "27     1.0\n",
      "28     1.0\n",
      "29     1.0\n",
      "      ... \n",
      "172    1.0\n",
      "173    1.0\n",
      "174    1.0\n",
      "175    1.0\n",
      "176    NaN\n",
      "177    1.0\n",
      "178    1.0\n",
      "179    1.0\n",
      "180    1.0\n",
      "181    1.0\n",
      "182    1.0\n",
      "183    1.0\n",
      "184    1.0\n",
      "185    1.0\n",
      "186    1.0\n",
      "187    1.0\n",
      "188    1.0\n",
      "189    1.0\n",
      "190    1.0\n",
      "191    1.0\n",
      "192    1.0\n",
      "193    1.0\n",
      "194    1.0\n",
      "195    1.0\n",
      "196    1.0\n",
      "197    1.0\n",
      "198    NaN\n",
      "199    1.0\n",
      "200    1.0\n",
      "201    1.0\n",
      "Name: Population (in thousands) total, dtype: float64\n"
     ]
    },
    {
     "name": "stderr",
     "output_type": "stream",
     "text": [
      "D:\\Python\\lib\\site-packages\\ipykernel_launcher.py:1: RuntimeWarning: invalid value encountered in sign\n",
      "  \"\"\"Entry point for launching an IPython kernel.\n"
     ]
    }
   ],
   "source": [
    "print(\"Last df column signs\", last_col, np.sign(df[last_col]))"
   ]
  },
  {
   "cell_type": "code",
   "execution_count": 26,
   "metadata": {},
   "outputs": [
    {
     "name": "stdout",
     "output_type": "stream",
     "text": [
      "0.0\n"
     ]
    }
   ],
   "source": [
    "print(np.sum(df[last_col] - df[last_col].values))"
   ]
  },
  {
   "cell_type": "markdown",
   "metadata": {
    "collapsed": true
   },
   "source": [
    "## 4.4 利用 pandas 查詢數據"
   ]
  },
  {
   "cell_type": "code",
   "execution_count": 27,
   "metadata": {},
   "outputs": [],
   "source": [
    "# import Quandl\n",
    "\n",
    "# # Data from http://www.quandl.com/SIDC/SUNSPOTS_A-Sunspot-Numbers-Annual\n",
    "# # PyPi url https://pypi.python.org/pypi/Quandl\n",
    "# sunspots = Quandl.get(\"SIDC/SUNSPOTS_A\")\n",
    "# print(\"Head 2\", sunspots.head(2)) \n",
    "# print(\"Tail 2\", sunspots.tail(2))\n",
    "\n",
    "# last_date = sunspots.index[-1]\n",
    "# print(\"Last value\", sunspots.loc[last_date])\n",
    "\n",
    "# print(\"Values slice by date\", sunspots[\"20020101\": \"20131231\"])\n",
    "\n",
    "# print(\"Slice from a list of indices\", sunspots.iloc[[2, 4, -4, -2]])\n",
    "\n",
    "# print(\"Scalar with Iloc\", sunspots.iloc[0, 0])\n",
    "# print(\"Scalar with iat\", sunspots.iat[1, 0])\n",
    "\n",
    "# print(\"Boolean selection\", sunspots[sunspots > sunspots.mean()])\n",
    "# print(\"Boolean selection with column label\", sunspots[sunspots.Number > sunspots.Number.mean()])"
   ]
  },
  {
   "cell_type": "markdown",
   "metadata": {},
   "source": [
    "## 4.5 利用 pandas 的 DataFrame 進行統計計算"
   ]
  },
  {
   "cell_type": "code",
   "execution_count": 28,
   "metadata": {},
   "outputs": [],
   "source": [
    "# import Quandl\n",
    "\n",
    "# # Data from http://www.quandl.com/SIDC/SUNSPOTS_A-Sunspot-Numbers-Annual\n",
    "# # PyPi url https://pypi.python.org/pypi/Quandl\n",
    "# sunspots = Quandl.get(\"SIDC/SUNSPOTS_A\")\n",
    "# print(\"Describe\", sunspots.describe())\n",
    "# print(\"Non NaN observations\", sunspots.count())\n",
    "# print(\"MAD\", sunspots.mad())\n",
    "# print(\"Median\", sunspots.median())\n",
    "# print(\"Min\", sunspots.min())\n",
    "# print(\"Max\", sunspots.max())\n",
    "# print(\"Mode\", sunspots.mode())\n",
    "# print(\"Standard Deviation\", sunspots.std())\n",
    "# print(\"Variance\", sunspots.var())\n",
    "# print(\"Skewness\", sunspots.skew())\n",
    "# print(\"Kurtosis\", sunspots.kurt())"
   ]
  },
  {
   "cell_type": "markdown",
   "metadata": {},
   "source": [
    "## 4.6 利用 pandas 的 DataFrame 實現數據聚合"
   ]
  },
  {
   "cell_type": "code",
   "execution_count": 29,
   "metadata": {},
   "outputs": [
    {
     "data": {
      "text/html": [
       "<div>\n",
       "<table border=\"1\" class=\"dataframe\">\n",
       "  <thead>\n",
       "    <tr style=\"text-align: right;\">\n",
       "      <th></th>\n",
       "      <th>Food</th>\n",
       "      <th>Number</th>\n",
       "      <th>Price</th>\n",
       "      <th>Weather</th>\n",
       "    </tr>\n",
       "  </thead>\n",
       "  <tbody>\n",
       "    <tr>\n",
       "      <th>0</th>\n",
       "      <td>soup</td>\n",
       "      <td>8</td>\n",
       "      <td>3.745401</td>\n",
       "      <td>cold</td>\n",
       "    </tr>\n",
       "    <tr>\n",
       "      <th>1</th>\n",
       "      <td>soup</td>\n",
       "      <td>5</td>\n",
       "      <td>9.507143</td>\n",
       "      <td>hot</td>\n",
       "    </tr>\n",
       "    <tr>\n",
       "      <th>2</th>\n",
       "      <td>icecream</td>\n",
       "      <td>4</td>\n",
       "      <td>7.319939</td>\n",
       "      <td>cold</td>\n",
       "    </tr>\n",
       "    <tr>\n",
       "      <th>3</th>\n",
       "      <td>chocolate</td>\n",
       "      <td>8</td>\n",
       "      <td>5.986585</td>\n",
       "      <td>hot</td>\n",
       "    </tr>\n",
       "    <tr>\n",
       "      <th>4</th>\n",
       "      <td>icecream</td>\n",
       "      <td>8</td>\n",
       "      <td>1.560186</td>\n",
       "      <td>cold</td>\n",
       "    </tr>\n",
       "    <tr>\n",
       "      <th>5</th>\n",
       "      <td>icecream</td>\n",
       "      <td>3</td>\n",
       "      <td>1.559945</td>\n",
       "      <td>hot</td>\n",
       "    </tr>\n",
       "    <tr>\n",
       "      <th>6</th>\n",
       "      <td>soup</td>\n",
       "      <td>6</td>\n",
       "      <td>0.580836</td>\n",
       "      <td>cold</td>\n",
       "    </tr>\n",
       "  </tbody>\n",
       "</table>\n",
       "</div>"
      ],
      "text/plain": [
       "        Food  Number     Price Weather\n",
       "0       soup       8  3.745401    cold\n",
       "1       soup       5  9.507143     hot\n",
       "2   icecream       4  7.319939    cold\n",
       "3  chocolate       8  5.986585     hot\n",
       "4   icecream       8  1.560186    cold\n",
       "5   icecream       3  1.559945     hot\n",
       "6       soup       6  0.580836    cold"
      ]
     },
     "execution_count": 29,
     "metadata": {},
     "output_type": "execute_result"
    }
   ],
   "source": [
    "import pandas as pd\n",
    "from numpy.random import seed\n",
    "from numpy.random import rand\n",
    "from numpy.random import randint \n",
    "import numpy as np\n",
    "\n",
    "seed(42)\n",
    "\n",
    "df = pd.DataFrame({'Weather' : ['cold', 'hot', 'cold', 'hot',\n",
    "   'cold', 'hot', 'cold'],\n",
    "   'Food' : ['soup', 'soup', 'icecream', 'chocolate',\n",
    "   'icecream', 'icecream', 'soup'],\n",
    "   'Price' : 10 * rand(7), 'Number' : randint(1, 9, size=(7,))})\n",
    "\n",
    "df"
   ]
  },
  {
   "cell_type": "code",
   "execution_count": 30,
   "metadata": {},
   "outputs": [
    {
     "name": "stdout",
     "output_type": "stream",
     "text": [
      "Group 1 cold\n",
      "       Food  Number     Price Weather\n",
      "0      soup       8  3.745401    cold\n",
      "2  icecream       4  7.319939    cold\n",
      "4  icecream       8  1.560186    cold\n",
      "6      soup       6  0.580836    cold\n",
      "Group 2 hot\n",
      "        Food  Number     Price Weather\n",
      "1       soup       5  9.507143     hot\n",
      "3  chocolate       8  5.986585     hot\n",
      "5   icecream       3  1.559945     hot\n"
     ]
    }
   ],
   "source": [
    "weather_group = df.groupby('Weather')\n",
    "\n",
    "i = 0\n",
    "\n",
    "for name, group in weather_group:\n",
    "    i = i + 1 \n",
    "    print(\"Group\", i, name)\n",
    "    print(group)"
   ]
  },
  {
   "cell_type": "code",
   "execution_count": 31,
   "metadata": {},
   "outputs": [
    {
     "data": {
      "text/html": [
       "<div>\n",
       "<table border=\"1\" class=\"dataframe\">\n",
       "  <thead>\n",
       "    <tr style=\"text-align: right;\">\n",
       "      <th></th>\n",
       "      <th>Food</th>\n",
       "      <th>Number</th>\n",
       "      <th>Price</th>\n",
       "    </tr>\n",
       "    <tr>\n",
       "      <th>Weather</th>\n",
       "      <th></th>\n",
       "      <th></th>\n",
       "      <th></th>\n",
       "    </tr>\n",
       "  </thead>\n",
       "  <tbody>\n",
       "    <tr>\n",
       "      <th>cold</th>\n",
       "      <td>soup</td>\n",
       "      <td>8</td>\n",
       "      <td>3.745401</td>\n",
       "    </tr>\n",
       "    <tr>\n",
       "      <th>hot</th>\n",
       "      <td>soup</td>\n",
       "      <td>5</td>\n",
       "      <td>9.507143</td>\n",
       "    </tr>\n",
       "  </tbody>\n",
       "</table>\n",
       "</div>"
      ],
      "text/plain": [
       "         Food  Number     Price\n",
       "Weather                        \n",
       "cold     soup       8  3.745401\n",
       "hot      soup       5  9.507143"
      ]
     },
     "execution_count": 31,
     "metadata": {},
     "output_type": "execute_result"
    }
   ],
   "source": [
    "weather_group.first()"
   ]
  },
  {
   "cell_type": "code",
   "execution_count": 32,
   "metadata": {},
   "outputs": [
    {
     "data": {
      "text/html": [
       "<div>\n",
       "<table border=\"1\" class=\"dataframe\">\n",
       "  <thead>\n",
       "    <tr style=\"text-align: right;\">\n",
       "      <th></th>\n",
       "      <th>Food</th>\n",
       "      <th>Number</th>\n",
       "      <th>Price</th>\n",
       "    </tr>\n",
       "    <tr>\n",
       "      <th>Weather</th>\n",
       "      <th></th>\n",
       "      <th></th>\n",
       "      <th></th>\n",
       "    </tr>\n",
       "  </thead>\n",
       "  <tbody>\n",
       "    <tr>\n",
       "      <th>cold</th>\n",
       "      <td>soup</td>\n",
       "      <td>6</td>\n",
       "      <td>0.580836</td>\n",
       "    </tr>\n",
       "    <tr>\n",
       "      <th>hot</th>\n",
       "      <td>icecream</td>\n",
       "      <td>3</td>\n",
       "      <td>1.559945</td>\n",
       "    </tr>\n",
       "  </tbody>\n",
       "</table>\n",
       "</div>"
      ],
      "text/plain": [
       "             Food  Number     Price\n",
       "Weather                            \n",
       "cold         soup       6  0.580836\n",
       "hot      icecream       3  1.559945"
      ]
     },
     "execution_count": 32,
     "metadata": {},
     "output_type": "execute_result"
    }
   ],
   "source": [
    "weather_group.last()"
   ]
  },
  {
   "cell_type": "code",
   "execution_count": 33,
   "metadata": {},
   "outputs": [
    {
     "data": {
      "text/html": [
       "<div>\n",
       "<table border=\"1\" class=\"dataframe\">\n",
       "  <thead>\n",
       "    <tr style=\"text-align: right;\">\n",
       "      <th></th>\n",
       "      <th>Number</th>\n",
       "      <th>Price</th>\n",
       "    </tr>\n",
       "    <tr>\n",
       "      <th>Weather</th>\n",
       "      <th></th>\n",
       "      <th></th>\n",
       "    </tr>\n",
       "  </thead>\n",
       "  <tbody>\n",
       "    <tr>\n",
       "      <th>cold</th>\n",
       "      <td>6.500000</td>\n",
       "      <td>3.301591</td>\n",
       "    </tr>\n",
       "    <tr>\n",
       "      <th>hot</th>\n",
       "      <td>5.333333</td>\n",
       "      <td>5.684558</td>\n",
       "    </tr>\n",
       "  </tbody>\n",
       "</table>\n",
       "</div>"
      ],
      "text/plain": [
       "           Number     Price\n",
       "Weather                    \n",
       "cold     6.500000  3.301591\n",
       "hot      5.333333  5.684558"
      ]
     },
     "execution_count": 33,
     "metadata": {},
     "output_type": "execute_result"
    }
   ],
   "source": [
    "weather_group.mean()"
   ]
  },
  {
   "cell_type": "code",
   "execution_count": 34,
   "metadata": {},
   "outputs": [
    {
     "data": {
      "text/plain": [
       "{('cold', 'icecream'): Int64Index([2, 4], dtype='int64'),\n",
       " ('cold', 'soup'): Int64Index([0, 6], dtype='int64'),\n",
       " ('hot', 'chocolate'): Int64Index([3], dtype='int64'),\n",
       " ('hot', 'icecream'): Int64Index([5], dtype='int64'),\n",
       " ('hot', 'soup'): Int64Index([1], dtype='int64')}"
      ]
     },
     "execution_count": 34,
     "metadata": {},
     "output_type": "execute_result"
    }
   ],
   "source": [
    "wf_groups = df.groupby(['Weather', 'Food'])\n",
    "wf_groups.groups"
   ]
  },
  {
   "cell_type": "markdown",
   "metadata": {},
   "source": [
    "### aggregate 聚合"
   ]
  },
  {
   "cell_type": "code",
   "execution_count": 35,
   "metadata": {},
   "outputs": [
    {
     "data": {
      "text/html": [
       "<div>\n",
       "<table border=\"1\" class=\"dataframe\">\n",
       "  <thead>\n",
       "    <tr>\n",
       "      <th></th>\n",
       "      <th></th>\n",
       "      <th colspan=\"2\" halign=\"left\">Number</th>\n",
       "      <th colspan=\"2\" halign=\"left\">Price</th>\n",
       "    </tr>\n",
       "    <tr>\n",
       "      <th></th>\n",
       "      <th></th>\n",
       "      <th>mean</th>\n",
       "      <th>median</th>\n",
       "      <th>mean</th>\n",
       "      <th>median</th>\n",
       "    </tr>\n",
       "    <tr>\n",
       "      <th>Weather</th>\n",
       "      <th>Food</th>\n",
       "      <th></th>\n",
       "      <th></th>\n",
       "      <th></th>\n",
       "      <th></th>\n",
       "    </tr>\n",
       "  </thead>\n",
       "  <tbody>\n",
       "    <tr>\n",
       "      <th rowspan=\"2\" valign=\"top\">cold</th>\n",
       "      <th>icecream</th>\n",
       "      <td>6</td>\n",
       "      <td>6</td>\n",
       "      <td>4.440063</td>\n",
       "      <td>4.440063</td>\n",
       "    </tr>\n",
       "    <tr>\n",
       "      <th>soup</th>\n",
       "      <td>7</td>\n",
       "      <td>7</td>\n",
       "      <td>2.163119</td>\n",
       "      <td>2.163119</td>\n",
       "    </tr>\n",
       "    <tr>\n",
       "      <th rowspan=\"3\" valign=\"top\">hot</th>\n",
       "      <th>chocolate</th>\n",
       "      <td>8</td>\n",
       "      <td>8</td>\n",
       "      <td>5.986585</td>\n",
       "      <td>5.986585</td>\n",
       "    </tr>\n",
       "    <tr>\n",
       "      <th>icecream</th>\n",
       "      <td>3</td>\n",
       "      <td>3</td>\n",
       "      <td>1.559945</td>\n",
       "      <td>1.559945</td>\n",
       "    </tr>\n",
       "    <tr>\n",
       "      <th>soup</th>\n",
       "      <td>5</td>\n",
       "      <td>5</td>\n",
       "      <td>9.507143</td>\n",
       "      <td>9.507143</td>\n",
       "    </tr>\n",
       "  </tbody>\n",
       "</table>\n",
       "</div>"
      ],
      "text/plain": [
       "                  Number            Price          \n",
       "                    mean median      mean    median\n",
       "Weather Food                                       \n",
       "cold    icecream       6      6  4.440063  4.440063\n",
       "        soup           7      7  2.163119  2.163119\n",
       "hot     chocolate      8      8  5.986585  5.986585\n",
       "        icecream       3      3  1.559945  1.559945\n",
       "        soup           5      5  9.507143  9.507143"
      ]
     },
     "execution_count": 35,
     "metadata": {},
     "output_type": "execute_result"
    }
   ],
   "source": [
    "# aggregate 聚合\n",
    "\n",
    "wf_groups.agg([np.mean, np.median])"
   ]
  },
  {
   "cell_type": "markdown",
   "metadata": {},
   "source": [
    "## 4.7 DataFrame 的串聯與附加操作"
   ]
  },
  {
   "cell_type": "code",
   "execution_count": 36,
   "metadata": {},
   "outputs": [
    {
     "data": {
      "text/html": [
       "<div>\n",
       "<table border=\"1\" class=\"dataframe\">\n",
       "  <thead>\n",
       "    <tr style=\"text-align: right;\">\n",
       "      <th></th>\n",
       "      <th>Food</th>\n",
       "      <th>Number</th>\n",
       "      <th>Price</th>\n",
       "      <th>Weather</th>\n",
       "    </tr>\n",
       "  </thead>\n",
       "  <tbody>\n",
       "    <tr>\n",
       "      <th>0</th>\n",
       "      <td>soup</td>\n",
       "      <td>8</td>\n",
       "      <td>3.745401</td>\n",
       "      <td>cold</td>\n",
       "    </tr>\n",
       "    <tr>\n",
       "      <th>1</th>\n",
       "      <td>soup</td>\n",
       "      <td>5</td>\n",
       "      <td>9.507143</td>\n",
       "      <td>hot</td>\n",
       "    </tr>\n",
       "    <tr>\n",
       "      <th>2</th>\n",
       "      <td>icecream</td>\n",
       "      <td>4</td>\n",
       "      <td>7.319939</td>\n",
       "      <td>cold</td>\n",
       "    </tr>\n",
       "    <tr>\n",
       "      <th>3</th>\n",
       "      <td>chocolate</td>\n",
       "      <td>8</td>\n",
       "      <td>5.986585</td>\n",
       "      <td>hot</td>\n",
       "    </tr>\n",
       "    <tr>\n",
       "      <th>4</th>\n",
       "      <td>icecream</td>\n",
       "      <td>8</td>\n",
       "      <td>1.560186</td>\n",
       "      <td>cold</td>\n",
       "    </tr>\n",
       "    <tr>\n",
       "      <th>5</th>\n",
       "      <td>icecream</td>\n",
       "      <td>3</td>\n",
       "      <td>1.559945</td>\n",
       "      <td>hot</td>\n",
       "    </tr>\n",
       "    <tr>\n",
       "      <th>6</th>\n",
       "      <td>soup</td>\n",
       "      <td>6</td>\n",
       "      <td>0.580836</td>\n",
       "      <td>cold</td>\n",
       "    </tr>\n",
       "  </tbody>\n",
       "</table>\n",
       "</div>"
      ],
      "text/plain": [
       "        Food  Number     Price Weather\n",
       "0       soup       8  3.745401    cold\n",
       "1       soup       5  9.507143     hot\n",
       "2   icecream       4  7.319939    cold\n",
       "3  chocolate       8  5.986585     hot\n",
       "4   icecream       8  1.560186    cold\n",
       "5   icecream       3  1.559945     hot\n",
       "6       soup       6  0.580836    cold"
      ]
     },
     "execution_count": 36,
     "metadata": {},
     "output_type": "execute_result"
    }
   ],
   "source": [
    "df"
   ]
  },
  {
   "cell_type": "code",
   "execution_count": 37,
   "metadata": {},
   "outputs": [
    {
     "data": {
      "text/html": [
       "<div>\n",
       "<table border=\"1\" class=\"dataframe\">\n",
       "  <thead>\n",
       "    <tr style=\"text-align: right;\">\n",
       "      <th></th>\n",
       "      <th>Food</th>\n",
       "      <th>Number</th>\n",
       "      <th>Price</th>\n",
       "      <th>Weather</th>\n",
       "    </tr>\n",
       "  </thead>\n",
       "  <tbody>\n",
       "    <tr>\n",
       "      <th>0</th>\n",
       "      <td>soup</td>\n",
       "      <td>8</td>\n",
       "      <td>3.745401</td>\n",
       "      <td>cold</td>\n",
       "    </tr>\n",
       "    <tr>\n",
       "      <th>1</th>\n",
       "      <td>soup</td>\n",
       "      <td>5</td>\n",
       "      <td>9.507143</td>\n",
       "      <td>hot</td>\n",
       "    </tr>\n",
       "    <tr>\n",
       "      <th>2</th>\n",
       "      <td>icecream</td>\n",
       "      <td>4</td>\n",
       "      <td>7.319939</td>\n",
       "      <td>cold</td>\n",
       "    </tr>\n",
       "  </tbody>\n",
       "</table>\n",
       "</div>"
      ],
      "text/plain": [
       "       Food  Number     Price Weather\n",
       "0      soup       8  3.745401    cold\n",
       "1      soup       5  9.507143     hot\n",
       "2  icecream       4  7.319939    cold"
      ]
     },
     "execution_count": 37,
     "metadata": {},
     "output_type": "execute_result"
    }
   ],
   "source": [
    "df[:3]"
   ]
  },
  {
   "cell_type": "code",
   "execution_count": 38,
   "metadata": {},
   "outputs": [
    {
     "data": {
      "text/html": [
       "<div>\n",
       "<table border=\"1\" class=\"dataframe\">\n",
       "  <thead>\n",
       "    <tr style=\"text-align: right;\">\n",
       "      <th></th>\n",
       "      <th>Food</th>\n",
       "      <th>Number</th>\n",
       "      <th>Price</th>\n",
       "      <th>Weather</th>\n",
       "    </tr>\n",
       "  </thead>\n",
       "  <tbody>\n",
       "    <tr>\n",
       "      <th>0</th>\n",
       "      <td>soup</td>\n",
       "      <td>8</td>\n",
       "      <td>3.745401</td>\n",
       "      <td>cold</td>\n",
       "    </tr>\n",
       "    <tr>\n",
       "      <th>1</th>\n",
       "      <td>soup</td>\n",
       "      <td>5</td>\n",
       "      <td>9.507143</td>\n",
       "      <td>hot</td>\n",
       "    </tr>\n",
       "    <tr>\n",
       "      <th>2</th>\n",
       "      <td>icecream</td>\n",
       "      <td>4</td>\n",
       "      <td>7.319939</td>\n",
       "      <td>cold</td>\n",
       "    </tr>\n",
       "    <tr>\n",
       "      <th>3</th>\n",
       "      <td>chocolate</td>\n",
       "      <td>8</td>\n",
       "      <td>5.986585</td>\n",
       "      <td>hot</td>\n",
       "    </tr>\n",
       "    <tr>\n",
       "      <th>4</th>\n",
       "      <td>icecream</td>\n",
       "      <td>8</td>\n",
       "      <td>1.560186</td>\n",
       "      <td>cold</td>\n",
       "    </tr>\n",
       "    <tr>\n",
       "      <th>5</th>\n",
       "      <td>icecream</td>\n",
       "      <td>3</td>\n",
       "      <td>1.559945</td>\n",
       "      <td>hot</td>\n",
       "    </tr>\n",
       "    <tr>\n",
       "      <th>6</th>\n",
       "      <td>soup</td>\n",
       "      <td>6</td>\n",
       "      <td>0.580836</td>\n",
       "      <td>cold</td>\n",
       "    </tr>\n",
       "  </tbody>\n",
       "</table>\n",
       "</div>"
      ],
      "text/plain": [
       "        Food  Number     Price Weather\n",
       "0       soup       8  3.745401    cold\n",
       "1       soup       5  9.507143     hot\n",
       "2   icecream       4  7.319939    cold\n",
       "3  chocolate       8  5.986585     hot\n",
       "4   icecream       8  1.560186    cold\n",
       "5   icecream       3  1.559945     hot\n",
       "6       soup       6  0.580836    cold"
      ]
     },
     "execution_count": 38,
     "metadata": {},
     "output_type": "execute_result"
    }
   ],
   "source": [
    "# concat\n",
    "pd.concat([df[:3], df[3:]])"
   ]
  },
  {
   "cell_type": "code",
   "execution_count": 39,
   "metadata": {},
   "outputs": [
    {
     "data": {
      "text/html": [
       "<div>\n",
       "<table border=\"1\" class=\"dataframe\">\n",
       "  <thead>\n",
       "    <tr style=\"text-align: right;\">\n",
       "      <th></th>\n",
       "      <th>Food</th>\n",
       "      <th>Number</th>\n",
       "      <th>Price</th>\n",
       "      <th>Weather</th>\n",
       "    </tr>\n",
       "  </thead>\n",
       "  <tbody>\n",
       "    <tr>\n",
       "      <th>0</th>\n",
       "      <td>soup</td>\n",
       "      <td>8</td>\n",
       "      <td>3.745401</td>\n",
       "      <td>cold</td>\n",
       "    </tr>\n",
       "    <tr>\n",
       "      <th>1</th>\n",
       "      <td>soup</td>\n",
       "      <td>5</td>\n",
       "      <td>9.507143</td>\n",
       "      <td>hot</td>\n",
       "    </tr>\n",
       "    <tr>\n",
       "      <th>2</th>\n",
       "      <td>icecream</td>\n",
       "      <td>4</td>\n",
       "      <td>7.319939</td>\n",
       "      <td>cold</td>\n",
       "    </tr>\n",
       "    <tr>\n",
       "      <th>5</th>\n",
       "      <td>icecream</td>\n",
       "      <td>3</td>\n",
       "      <td>1.559945</td>\n",
       "      <td>hot</td>\n",
       "    </tr>\n",
       "    <tr>\n",
       "      <th>6</th>\n",
       "      <td>soup</td>\n",
       "      <td>6</td>\n",
       "      <td>0.580836</td>\n",
       "      <td>cold</td>\n",
       "    </tr>\n",
       "  </tbody>\n",
       "</table>\n",
       "</div>"
      ],
      "text/plain": [
       "       Food  Number     Price Weather\n",
       "0      soup       8  3.745401    cold\n",
       "1      soup       5  9.507143     hot\n",
       "2  icecream       4  7.319939    cold\n",
       "5  icecream       3  1.559945     hot\n",
       "6      soup       6  0.580836    cold"
      ]
     },
     "execution_count": 39,
     "metadata": {},
     "output_type": "execute_result"
    }
   ],
   "source": [
    "# append\n",
    "df[:3].append(df[5:])"
   ]
  },
  {
   "cell_type": "markdown",
   "metadata": {},
   "source": [
    "## 4.8 連接 DataFrames"
   ]
  },
  {
   "cell_type": "code",
   "execution_count": 40,
   "metadata": {},
   "outputs": [
    {
     "data": {
      "text/html": [
       "<div>\n",
       "<table border=\"1\" class=\"dataframe\">\n",
       "  <thead>\n",
       "    <tr style=\"text-align: right;\">\n",
       "      <th></th>\n",
       "      <th>EmpNr</th>\n",
       "      <th>Dest</th>\n",
       "    </tr>\n",
       "  </thead>\n",
       "  <tbody>\n",
       "    <tr>\n",
       "      <th>0</th>\n",
       "      <td>5</td>\n",
       "      <td>The Hague</td>\n",
       "    </tr>\n",
       "    <tr>\n",
       "      <th>1</th>\n",
       "      <td>3</td>\n",
       "      <td>Amsterdam</td>\n",
       "    </tr>\n",
       "    <tr>\n",
       "      <th>2</th>\n",
       "      <td>9</td>\n",
       "      <td>Rotterdam</td>\n",
       "    </tr>\n",
       "  </tbody>\n",
       "</table>\n",
       "</div>"
      ],
      "text/plain": [
       "   EmpNr       Dest\n",
       "0      5  The Hague\n",
       "1      3  Amsterdam\n",
       "2      9  Rotterdam"
      ]
     },
     "execution_count": 40,
     "metadata": {},
     "output_type": "execute_result"
    }
   ],
   "source": [
    "dests = pd.read_csv('dest.csv')\n",
    "dests"
   ]
  },
  {
   "cell_type": "code",
   "execution_count": 41,
   "metadata": {},
   "outputs": [
    {
     "data": {
      "text/html": [
       "<div>\n",
       "<table border=\"1\" class=\"dataframe\">\n",
       "  <thead>\n",
       "    <tr style=\"text-align: right;\">\n",
       "      <th></th>\n",
       "      <th>EmpNr</th>\n",
       "      <th>Amount</th>\n",
       "    </tr>\n",
       "  </thead>\n",
       "  <tbody>\n",
       "    <tr>\n",
       "      <th>0</th>\n",
       "      <td>5</td>\n",
       "      <td>10.0</td>\n",
       "    </tr>\n",
       "    <tr>\n",
       "      <th>1</th>\n",
       "      <td>9</td>\n",
       "      <td>5.0</td>\n",
       "    </tr>\n",
       "    <tr>\n",
       "      <th>2</th>\n",
       "      <td>7</td>\n",
       "      <td>2.5</td>\n",
       "    </tr>\n",
       "  </tbody>\n",
       "</table>\n",
       "</div>"
      ],
      "text/plain": [
       "   EmpNr  Amount\n",
       "0      5    10.0\n",
       "1      9     5.0\n",
       "2      7     2.5"
      ]
     },
     "execution_count": 41,
     "metadata": {},
     "output_type": "execute_result"
    }
   ],
   "source": [
    "tips = pd.read_csv('tips.csv')\n",
    "tips"
   ]
  },
  {
   "cell_type": "code",
   "execution_count": 42,
   "metadata": {},
   "outputs": [
    {
     "data": {
      "text/html": [
       "<div>\n",
       "<table border=\"1\" class=\"dataframe\">\n",
       "  <thead>\n",
       "    <tr style=\"text-align: right;\">\n",
       "      <th></th>\n",
       "      <th>EmpNr</th>\n",
       "      <th>Dest</th>\n",
       "      <th>Amount</th>\n",
       "    </tr>\n",
       "  </thead>\n",
       "  <tbody>\n",
       "    <tr>\n",
       "      <th>0</th>\n",
       "      <td>5</td>\n",
       "      <td>The Hague</td>\n",
       "      <td>10.0</td>\n",
       "    </tr>\n",
       "    <tr>\n",
       "      <th>1</th>\n",
       "      <td>9</td>\n",
       "      <td>Rotterdam</td>\n",
       "      <td>5.0</td>\n",
       "    </tr>\n",
       "  </tbody>\n",
       "</table>\n",
       "</div>"
      ],
      "text/plain": [
       "   EmpNr       Dest  Amount\n",
       "0      5  The Hague    10.0\n",
       "1      9  Rotterdam     5.0"
      ]
     },
     "execution_count": 42,
     "metadata": {},
     "output_type": "execute_result"
    }
   ],
   "source": [
    "# merge\n",
    "# print(\"Merge() on key\\n\", pd.merge(dests, tips, on='EmpNr'))\n",
    "pd.merge(dests, tips, on='EmpNr')"
   ]
  },
  {
   "cell_type": "code",
   "execution_count": 43,
   "metadata": {},
   "outputs": [
    {
     "data": {
      "text/html": [
       "<div>\n",
       "<table border=\"1\" class=\"dataframe\">\n",
       "  <thead>\n",
       "    <tr style=\"text-align: right;\">\n",
       "      <th></th>\n",
       "      <th>EmpNrDest</th>\n",
       "      <th>Dest</th>\n",
       "      <th>EmpNrTips</th>\n",
       "      <th>Amount</th>\n",
       "    </tr>\n",
       "  </thead>\n",
       "  <tbody>\n",
       "    <tr>\n",
       "      <th>0</th>\n",
       "      <td>5</td>\n",
       "      <td>The Hague</td>\n",
       "      <td>5</td>\n",
       "      <td>10.0</td>\n",
       "    </tr>\n",
       "    <tr>\n",
       "      <th>1</th>\n",
       "      <td>3</td>\n",
       "      <td>Amsterdam</td>\n",
       "      <td>9</td>\n",
       "      <td>5.0</td>\n",
       "    </tr>\n",
       "    <tr>\n",
       "      <th>2</th>\n",
       "      <td>9</td>\n",
       "      <td>Rotterdam</td>\n",
       "      <td>7</td>\n",
       "      <td>2.5</td>\n",
       "    </tr>\n",
       "  </tbody>\n",
       "</table>\n",
       "</div>"
      ],
      "text/plain": [
       "   EmpNrDest       Dest  EmpNrTips  Amount\n",
       "0          5  The Hague          5    10.0\n",
       "1          3  Amsterdam          9     5.0\n",
       "2          9  Rotterdam          7     2.5"
      ]
     },
     "execution_count": 43,
     "metadata": {},
     "output_type": "execute_result"
    }
   ],
   "source": [
    "# print(\"Dests join() tips\\n\", dests.join(tips, lsuffix='Dest', rsuffix='Tips'))\n",
    "dests.join(tips,  lsuffix='Dest', rsuffix='Tips')\n",
    "\n",
    "# 這個結果很奇怪，看起來是 根本就對不起來，但其實他們是依據兩方的 index 來關聯"
   ]
  },
  {
   "cell_type": "code",
   "execution_count": 44,
   "metadata": {},
   "outputs": [
    {
     "data": {
      "text/html": [
       "<div>\n",
       "<table border=\"1\" class=\"dataframe\">\n",
       "  <thead>\n",
       "    <tr style=\"text-align: right;\">\n",
       "      <th></th>\n",
       "      <th>EmpNr</th>\n",
       "      <th>Dest</th>\n",
       "      <th>Amount</th>\n",
       "    </tr>\n",
       "  </thead>\n",
       "  <tbody>\n",
       "    <tr>\n",
       "      <th>0</th>\n",
       "      <td>5</td>\n",
       "      <td>The Hague</td>\n",
       "      <td>10.0</td>\n",
       "    </tr>\n",
       "    <tr>\n",
       "      <th>1</th>\n",
       "      <td>9</td>\n",
       "      <td>Rotterdam</td>\n",
       "      <td>5.0</td>\n",
       "    </tr>\n",
       "  </tbody>\n",
       "</table>\n",
       "</div>"
      ],
      "text/plain": [
       "   EmpNr       Dest  Amount\n",
       "0      5  The Hague    10.0\n",
       "1      9  Rotterdam     5.0"
      ]
     },
     "execution_count": 44,
     "metadata": {},
     "output_type": "execute_result"
    }
   ],
   "source": [
    "# print(\"Inner join with merge()\\n\", pd.merge(dests, tips, how='inner'))\n",
    "pd.merge(dests, tips, how='inner')"
   ]
  },
  {
   "cell_type": "code",
   "execution_count": 45,
   "metadata": {},
   "outputs": [
    {
     "data": {
      "text/html": [
       "<div>\n",
       "<table border=\"1\" class=\"dataframe\">\n",
       "  <thead>\n",
       "    <tr style=\"text-align: right;\">\n",
       "      <th></th>\n",
       "      <th>EmpNr</th>\n",
       "      <th>Dest</th>\n",
       "      <th>Amount</th>\n",
       "    </tr>\n",
       "  </thead>\n",
       "  <tbody>\n",
       "    <tr>\n",
       "      <th>0</th>\n",
       "      <td>5</td>\n",
       "      <td>The Hague</td>\n",
       "      <td>10.0</td>\n",
       "    </tr>\n",
       "    <tr>\n",
       "      <th>1</th>\n",
       "      <td>3</td>\n",
       "      <td>Amsterdam</td>\n",
       "      <td>NaN</td>\n",
       "    </tr>\n",
       "    <tr>\n",
       "      <th>2</th>\n",
       "      <td>9</td>\n",
       "      <td>Rotterdam</td>\n",
       "      <td>5.0</td>\n",
       "    </tr>\n",
       "    <tr>\n",
       "      <th>3</th>\n",
       "      <td>7</td>\n",
       "      <td>NaN</td>\n",
       "      <td>2.5</td>\n",
       "    </tr>\n",
       "  </tbody>\n",
       "</table>\n",
       "</div>"
      ],
      "text/plain": [
       "   EmpNr       Dest  Amount\n",
       "0      5  The Hague    10.0\n",
       "1      3  Amsterdam     NaN\n",
       "2      9  Rotterdam     5.0\n",
       "3      7        NaN     2.5"
      ]
     },
     "execution_count": 45,
     "metadata": {},
     "output_type": "execute_result"
    }
   ],
   "source": [
    "# print(\"Outer join\\n\", pd.merge(dests, tips, how='outer'))\n",
    "pd.merge(dests, tips, how='outer')"
   ]
  },
  {
   "cell_type": "markdown",
   "metadata": {},
   "source": [
    "## 4.9 處理缺失數據的問題"
   ]
  },
  {
   "cell_type": "code",
   "execution_count": 46,
   "metadata": {},
   "outputs": [
    {
     "data": {
      "text/html": [
       "<div>\n",
       "<table border=\"1\" class=\"dataframe\">\n",
       "  <thead>\n",
       "    <tr style=\"text-align: right;\">\n",
       "      <th></th>\n",
       "      <th>Country</th>\n",
       "      <th>CountryID</th>\n",
       "      <th>Continent</th>\n",
       "      <th>Adolescent fertility rate (%)</th>\n",
       "      <th>Adult literacy rate (%)</th>\n",
       "      <th>Gross national income per capita (PPP international $)</th>\n",
       "      <th>Net primary school enrolment ratio female (%)</th>\n",
       "      <th>Net primary school enrolment ratio male (%)</th>\n",
       "      <th>Population (in thousands) total</th>\n",
       "    </tr>\n",
       "  </thead>\n",
       "  <tbody>\n",
       "    <tr>\n",
       "      <th>197</th>\n",
       "      <td>Vietnam</td>\n",
       "      <td>198</td>\n",
       "      <td>6</td>\n",
       "      <td>25.0</td>\n",
       "      <td>90.3</td>\n",
       "      <td>2310.0</td>\n",
       "      <td>91.0</td>\n",
       "      <td>96.0</td>\n",
       "      <td>86206.0</td>\n",
       "    </tr>\n",
       "    <tr>\n",
       "      <th>198</th>\n",
       "      <td>West Bank and Gaza</td>\n",
       "      <td>199</td>\n",
       "      <td>1</td>\n",
       "      <td>NaN</td>\n",
       "      <td>NaN</td>\n",
       "      <td>NaN</td>\n",
       "      <td>NaN</td>\n",
       "      <td>NaN</td>\n",
       "      <td>NaN</td>\n",
       "    </tr>\n",
       "    <tr>\n",
       "      <th>199</th>\n",
       "      <td>Yemen</td>\n",
       "      <td>200</td>\n",
       "      <td>1</td>\n",
       "      <td>83.0</td>\n",
       "      <td>54.1</td>\n",
       "      <td>2090.0</td>\n",
       "      <td>65.0</td>\n",
       "      <td>85.0</td>\n",
       "      <td>21732.0</td>\n",
       "    </tr>\n",
       "    <tr>\n",
       "      <th>200</th>\n",
       "      <td>Zambia</td>\n",
       "      <td>201</td>\n",
       "      <td>3</td>\n",
       "      <td>161.0</td>\n",
       "      <td>68.0</td>\n",
       "      <td>1140.0</td>\n",
       "      <td>94.0</td>\n",
       "      <td>90.0</td>\n",
       "      <td>11696.0</td>\n",
       "    </tr>\n",
       "    <tr>\n",
       "      <th>201</th>\n",
       "      <td>Zimbabwe</td>\n",
       "      <td>202</td>\n",
       "      <td>3</td>\n",
       "      <td>101.0</td>\n",
       "      <td>89.5</td>\n",
       "      <td>NaN</td>\n",
       "      <td>88.0</td>\n",
       "      <td>87.0</td>\n",
       "      <td>13228.0</td>\n",
       "    </tr>\n",
       "  </tbody>\n",
       "</table>\n",
       "</div>"
      ],
      "text/plain": [
       "                Country  CountryID  Continent  Adolescent fertility rate (%)  \\\n",
       "197             Vietnam        198          6                           25.0   \n",
       "198  West Bank and Gaza        199          1                            NaN   \n",
       "199               Yemen        200          1                           83.0   \n",
       "200              Zambia        201          3                          161.0   \n",
       "201            Zimbabwe        202          3                          101.0   \n",
       "\n",
       "     Adult literacy rate (%)  \\\n",
       "197                     90.3   \n",
       "198                      NaN   \n",
       "199                     54.1   \n",
       "200                     68.0   \n",
       "201                     89.5   \n",
       "\n",
       "     Gross national income per capita (PPP international $)  \\\n",
       "197                                             2310.0        \n",
       "198                                                NaN        \n",
       "199                                             2090.0        \n",
       "200                                             1140.0        \n",
       "201                                                NaN        \n",
       "\n",
       "     Net primary school enrolment ratio female (%)  \\\n",
       "197                                           91.0   \n",
       "198                                            NaN   \n",
       "199                                           65.0   \n",
       "200                                           94.0   \n",
       "201                                           88.0   \n",
       "\n",
       "     Net primary school enrolment ratio male (%)  \\\n",
       "197                                         96.0   \n",
       "198                                          NaN   \n",
       "199                                         85.0   \n",
       "200                                         90.0   \n",
       "201                                         87.0   \n",
       "\n",
       "     Population (in thousands) total  \n",
       "197                          86206.0  \n",
       "198                              NaN  \n",
       "199                          21732.0  \n",
       "200                          11696.0  \n",
       "201                          13228.0  "
      ]
     },
     "execution_count": 46,
     "metadata": {},
     "output_type": "execute_result"
    }
   ],
   "source": [
    "from pandas.io.parsers import read_csv\n",
    "import numpy as np\n",
    "\n",
    "df = read_csv(\"WHO_first9cols.csv\")\n",
    "df.tail()"
   ]
  },
  {
   "cell_type": "code",
   "execution_count": 47,
   "metadata": {},
   "outputs": [
    {
     "data": {
      "text/html": [
       "<div>\n",
       "<table border=\"1\" class=\"dataframe\">\n",
       "  <thead>\n",
       "    <tr style=\"text-align: right;\">\n",
       "      <th></th>\n",
       "      <th>Country</th>\n",
       "      <th>Net primary school enrolment ratio male (%)</th>\n",
       "    </tr>\n",
       "  </thead>\n",
       "  <tbody>\n",
       "    <tr>\n",
       "      <th>0</th>\n",
       "      <td>Afghanistan</td>\n",
       "      <td>NaN</td>\n",
       "    </tr>\n",
       "    <tr>\n",
       "      <th>1</th>\n",
       "      <td>Albania</td>\n",
       "      <td>94.0</td>\n",
       "    </tr>\n",
       "  </tbody>\n",
       "</table>\n",
       "</div>"
      ],
      "text/plain": [
       "       Country  Net primary school enrolment ratio male (%)\n",
       "0  Afghanistan                                          NaN\n",
       "1      Albania                                         94.0"
      ]
     },
     "execution_count": 47,
     "metadata": {},
     "output_type": "execute_result"
    }
   ],
   "source": [
    "import pandas as pd\n",
    "import numpy as np\n",
    "\n",
    "df = pd.read_csv('WHO_first9cols.csv')\n",
    "\n",
    "# Select first 3 rows of country and Net primary school enrolment ratio male (%)\n",
    "df = df[['Country', df.columns[-2]]][:2]\n",
    "df"
   ]
  },
  {
   "cell_type": "code",
   "execution_count": 48,
   "metadata": {},
   "outputs": [
    {
     "data": {
      "text/html": [
       "<div>\n",
       "<table border=\"1\" class=\"dataframe\">\n",
       "  <thead>\n",
       "    <tr style=\"text-align: right;\">\n",
       "      <th></th>\n",
       "      <th>Country</th>\n",
       "      <th>Net primary school enrolment ratio male (%)</th>\n",
       "    </tr>\n",
       "  </thead>\n",
       "  <tbody>\n",
       "    <tr>\n",
       "      <th>0</th>\n",
       "      <td>False</td>\n",
       "      <td>True</td>\n",
       "    </tr>\n",
       "    <tr>\n",
       "      <th>1</th>\n",
       "      <td>False</td>\n",
       "      <td>False</td>\n",
       "    </tr>\n",
       "  </tbody>\n",
       "</table>\n",
       "</div>"
      ],
      "text/plain": [
       "  Country Net primary school enrolment ratio male (%)\n",
       "0   False                                        True\n",
       "1   False                                       False"
      ]
     },
     "execution_count": 48,
     "metadata": {},
     "output_type": "execute_result"
    }
   ],
   "source": [
    "# print(\"Null Values\\n\", pd.isnull(df))\n",
    "pd.isnull(df)"
   ]
  },
  {
   "cell_type": "code",
   "execution_count": 49,
   "metadata": {},
   "outputs": [
    {
     "name": "stdout",
     "output_type": "stream",
     "text": [
      "Total Null Values\n",
      " Country                                        0\n",
      "Net primary school enrolment ratio male (%)    1\n",
      "dtype: int64\n"
     ]
    }
   ],
   "source": [
    "print(\"Total Null Values\\n\", pd.isnull(df).sum())\n",
    "# pd.isnull(df).sum()"
   ]
  },
  {
   "cell_type": "code",
   "execution_count": 50,
   "metadata": {},
   "outputs": [
    {
     "data": {
      "text/html": [
       "<div>\n",
       "<table border=\"1\" class=\"dataframe\">\n",
       "  <thead>\n",
       "    <tr style=\"text-align: right;\">\n",
       "      <th></th>\n",
       "      <th>Country</th>\n",
       "      <th>Net primary school enrolment ratio male (%)</th>\n",
       "    </tr>\n",
       "  </thead>\n",
       "  <tbody>\n",
       "    <tr>\n",
       "      <th>0</th>\n",
       "      <td>True</td>\n",
       "      <td>False</td>\n",
       "    </tr>\n",
       "    <tr>\n",
       "      <th>1</th>\n",
       "      <td>True</td>\n",
       "      <td>True</td>\n",
       "    </tr>\n",
       "  </tbody>\n",
       "</table>\n",
       "</div>"
      ],
      "text/plain": [
       "  Country Net primary school enrolment ratio male (%)\n",
       "0    True                                       False\n",
       "1    True                                        True"
      ]
     },
     "execution_count": 50,
     "metadata": {},
     "output_type": "execute_result"
    }
   ],
   "source": [
    "# print(\"Not Null Values\\n\", df.notnull())\n",
    "df.notnull()"
   ]
  },
  {
   "cell_type": "code",
   "execution_count": 51,
   "metadata": {},
   "outputs": [
    {
     "data": {
      "text/plain": [
       "0      NaN\n",
       "1    188.0\n",
       "Name: Net primary school enrolment ratio male (%), dtype: float64"
      ]
     },
     "execution_count": 51,
     "metadata": {},
     "output_type": "execute_result"
    }
   ],
   "source": [
    "# print(\"Last Column Doubled\\n\", 2 * df[df.columns[-1]])\n",
    "2 * df[df.columns[-1]]"
   ]
  },
  {
   "cell_type": "code",
   "execution_count": 52,
   "metadata": {},
   "outputs": [
    {
     "data": {
      "text/plain": [
       "0   NaN\n",
       "1   NaN\n",
       "Name: Net primary school enrolment ratio male (%), dtype: float64"
      ]
     },
     "execution_count": 52,
     "metadata": {},
     "output_type": "execute_result"
    }
   ],
   "source": [
    "# print(\"Last Column plus NaN\\n\", df[df.columns[-1]] + np.nan)\n",
    "df[df.columns[-1]] + np.nan"
   ]
  },
  {
   "cell_type": "code",
   "execution_count": 53,
   "metadata": {},
   "outputs": [
    {
     "data": {
      "text/html": [
       "<div>\n",
       "<table border=\"1\" class=\"dataframe\">\n",
       "  <thead>\n",
       "    <tr style=\"text-align: right;\">\n",
       "      <th></th>\n",
       "      <th>Country</th>\n",
       "      <th>Net primary school enrolment ratio male (%)</th>\n",
       "    </tr>\n",
       "  </thead>\n",
       "  <tbody>\n",
       "    <tr>\n",
       "      <th>0</th>\n",
       "      <td>Afghanistan</td>\n",
       "      <td>0.0</td>\n",
       "    </tr>\n",
       "    <tr>\n",
       "      <th>1</th>\n",
       "      <td>Albania</td>\n",
       "      <td>94.0</td>\n",
       "    </tr>\n",
       "  </tbody>\n",
       "</table>\n",
       "</div>"
      ],
      "text/plain": [
       "       Country  Net primary school enrolment ratio male (%)\n",
       "0  Afghanistan                                          0.0\n",
       "1      Albania                                         94.0"
      ]
     },
     "execution_count": 53,
     "metadata": {},
     "output_type": "execute_result"
    }
   ],
   "source": [
    "# print(\"Zero filled\\n\", df.fillna(0))\n",
    "df.fillna(0)"
   ]
  },
  {
   "cell_type": "markdown",
   "metadata": {},
   "source": [
    "## 4.10 處理日期數據"
   ]
  },
  {
   "cell_type": "code",
   "execution_count": 54,
   "metadata": {},
   "outputs": [
    {
     "data": {
      "text/plain": [
       "DatetimeIndex(['1900-01-01', '1900-01-02', '1900-01-03', '1900-01-04',\n",
       "               '1900-01-05', '1900-01-06', '1900-01-07', '1900-01-08',\n",
       "               '1900-01-09', '1900-01-10', '1900-01-11', '1900-01-12',\n",
       "               '1900-01-13', '1900-01-14', '1900-01-15', '1900-01-16',\n",
       "               '1900-01-17', '1900-01-18', '1900-01-19', '1900-01-20',\n",
       "               '1900-01-21', '1900-01-22', '1900-01-23', '1900-01-24',\n",
       "               '1900-01-25', '1900-01-26', '1900-01-27', '1900-01-28',\n",
       "               '1900-01-29', '1900-01-30', '1900-01-31', '1900-02-01',\n",
       "               '1900-02-02', '1900-02-03', '1900-02-04', '1900-02-05',\n",
       "               '1900-02-06', '1900-02-07', '1900-02-08', '1900-02-09',\n",
       "               '1900-02-10', '1900-02-11'],\n",
       "              dtype='datetime64[ns]', freq='D')"
      ]
     },
     "execution_count": 54,
     "metadata": {},
     "output_type": "execute_result"
    }
   ],
   "source": [
    "import pandas as pd\n",
    "from pandas.tseries.offsets import DateOffset\n",
    "import sys\n",
    "\n",
    "# print(\"Date range\", pd.date_range('1/1/1900', periods=42, freq='D'))\n",
    "dr = pd.date_range('1/1/1900', periods=42, freq='D')\n",
    "dr"
   ]
  },
  {
   "cell_type": "code",
   "execution_count": 55,
   "metadata": {},
   "outputs": [
    {
     "data": {
      "text/plain": [
       "pandas.tseries.index.DatetimeIndex"
      ]
     },
     "execution_count": 55,
     "metadata": {},
     "output_type": "execute_result"
    }
   ],
   "source": [
    "type(dr)"
   ]
  },
  {
   "cell_type": "code",
   "execution_count": 56,
   "metadata": {},
   "outputs": [
    {
     "name": "stdout",
     "output_type": "stream",
     "text": [
      "Error encountered <class 'pandas.tslib.OutOfBoundsDatetime'> Out of bounds nanosecond timestamp: 1677-01-01 00:00:00\n"
     ]
    }
   ],
   "source": [
    "# Pandas 無法接受 1/1/1677\n",
    "try:\n",
    "    print(\"Date range\", pd.date_range('1/1/1677', periods=4, freq='D'))\n",
    "except:\n",
    "    etype, value, _ = sys.exc_info()\n",
    "    print(\"Error encountered\", etype, value)"
   ]
  },
  {
   "cell_type": "code",
   "execution_count": 57,
   "metadata": {},
   "outputs": [
    {
     "name": "stdout",
     "output_type": "stream",
     "text": [
      "Date range DatetimeIndex(['1677-09-30', '1677-10-01', '1677-10-02', '1677-10-03'], dtype='datetime64[ns]', freq='D')\n"
     ]
    }
   ],
   "source": [
    "# 最早可以接受 9/30/1677\n",
    "\n",
    "try:\n",
    "    print(\"Date range\", pd.date_range('9/30/1677', periods=4, freq='D'))\n",
    "except:\n",
    "    etype, value, _ = sys.exc_info()\n",
    "    print(\"Error encountered\", etype, value)"
   ]
  },
  {
   "cell_type": "code",
   "execution_count": 58,
   "metadata": {},
   "outputs": [
    {
     "name": "stdout",
     "output_type": "stream",
     "text": [
      "Start valid range 1967-09-20 00:00:05.962072\n"
     ]
    }
   ],
   "source": [
    "seconds = 2 ** 56/10 ** 9\n",
    "offset = DateOffset(seconds=seconds)\n",
    "mid = pd.to_datetime('1/1/1970')\n",
    "print(\"Start valid range\", mid - offset)"
   ]
  },
  {
   "cell_type": "code",
   "execution_count": 59,
   "metadata": {},
   "outputs": [
    {
     "name": "stdout",
     "output_type": "stream",
     "text": [
      "End valid range 1972-04-13 23:59:54.037928\n"
     ]
    }
   ],
   "source": [
    "print(\"End valid range\", mid + offset)"
   ]
  },
  {
   "cell_type": "code",
   "execution_count": 60,
   "metadata": {},
   "outputs": [
    {
     "data": {
      "text/plain": [
       "DatetimeIndex(['1900-01-01', '1901-12-11'], dtype='datetime64[ns]', freq=None)"
      ]
     },
     "execution_count": 60,
     "metadata": {},
     "output_type": "execute_result"
    }
   ],
   "source": [
    "# print(pd.to_datetime(['1900/1/1', '1901.12.11']))\n",
    "pd.to_datetime(['1900/1/1', '1901.12.11'])"
   ]
  },
  {
   "cell_type": "code",
   "execution_count": 61,
   "metadata": {},
   "outputs": [
    {
     "data": {
      "text/plain": [
       "DatetimeIndex(['1902-11-12', '1903-12-30'], dtype='datetime64[ns]', freq=None)"
      ]
     },
     "execution_count": 61,
     "metadata": {},
     "output_type": "execute_result"
    }
   ],
   "source": [
    "# print(\"With format\", pd.to_datetime(['19021112', '19031230'], format='%Y%m%d'))\n",
    "pd.to_datetime(['19021112', '19031230'], format='%Y%m%d')"
   ]
  },
  {
   "cell_type": "code",
   "execution_count": 62,
   "metadata": {},
   "outputs": [],
   "source": [
    "# print(\"Illegal date\", pd.to_datetime(['1902-11-12', 'not a date']))\n",
    "# pd.to_datetime(['1902-11-12', 'not a date'])"
   ]
  },
  {
   "cell_type": "code",
   "execution_count": 63,
   "metadata": {},
   "outputs": [
    {
     "data": {
      "text/plain": [
       "DatetimeIndex(['1902-11-12', 'NaT'], dtype='datetime64[ns]', freq=None)"
      ]
     },
     "execution_count": 63,
     "metadata": {},
     "output_type": "execute_result"
    }
   ],
   "source": [
    "# print(\"Illegal date coerced\", pd.to_datetime(['1902-11-12', 'not a date'], coerce=True))\n",
    "pd.to_datetime(['1902-11-12', 'not a date'], errors='coerce')"
   ]
  },
  {
   "cell_type": "markdown",
   "metadata": {},
   "source": [
    "## 4.11 數據透視表"
   ]
  },
  {
   "cell_type": "code",
   "execution_count": 64,
   "metadata": {},
   "outputs": [
    {
     "data": {
      "text/html": [
       "<div>\n",
       "<table border=\"1\" class=\"dataframe\">\n",
       "  <thead>\n",
       "    <tr style=\"text-align: right;\">\n",
       "      <th></th>\n",
       "      <th>Food</th>\n",
       "      <th>Number</th>\n",
       "      <th>Price</th>\n",
       "      <th>Weather</th>\n",
       "    </tr>\n",
       "  </thead>\n",
       "  <tbody>\n",
       "    <tr>\n",
       "      <th>0</th>\n",
       "      <td>soup</td>\n",
       "      <td>8</td>\n",
       "      <td>3.745401</td>\n",
       "      <td>cold</td>\n",
       "    </tr>\n",
       "    <tr>\n",
       "      <th>1</th>\n",
       "      <td>soup</td>\n",
       "      <td>5</td>\n",
       "      <td>9.507143</td>\n",
       "      <td>hot</td>\n",
       "    </tr>\n",
       "    <tr>\n",
       "      <th>2</th>\n",
       "      <td>icecream</td>\n",
       "      <td>4</td>\n",
       "      <td>7.319939</td>\n",
       "      <td>cold</td>\n",
       "    </tr>\n",
       "    <tr>\n",
       "      <th>3</th>\n",
       "      <td>chocolate</td>\n",
       "      <td>8</td>\n",
       "      <td>5.986585</td>\n",
       "      <td>hot</td>\n",
       "    </tr>\n",
       "    <tr>\n",
       "      <th>4</th>\n",
       "      <td>icecream</td>\n",
       "      <td>8</td>\n",
       "      <td>1.560186</td>\n",
       "      <td>cold</td>\n",
       "    </tr>\n",
       "    <tr>\n",
       "      <th>5</th>\n",
       "      <td>icecream</td>\n",
       "      <td>3</td>\n",
       "      <td>1.559945</td>\n",
       "      <td>hot</td>\n",
       "    </tr>\n",
       "    <tr>\n",
       "      <th>6</th>\n",
       "      <td>soup</td>\n",
       "      <td>6</td>\n",
       "      <td>0.580836</td>\n",
       "      <td>cold</td>\n",
       "    </tr>\n",
       "  </tbody>\n",
       "</table>\n",
       "</div>"
      ],
      "text/plain": [
       "        Food  Number     Price Weather\n",
       "0       soup       8  3.745401    cold\n",
       "1       soup       5  9.507143     hot\n",
       "2   icecream       4  7.319939    cold\n",
       "3  chocolate       8  5.986585     hot\n",
       "4   icecream       8  1.560186    cold\n",
       "5   icecream       3  1.559945     hot\n",
       "6       soup       6  0.580836    cold"
      ]
     },
     "execution_count": 64,
     "metadata": {},
     "output_type": "execute_result"
    }
   ],
   "source": [
    "import pandas as pd\n",
    "from numpy.random import seed\n",
    "from numpy.random import rand\n",
    "from numpy.random import randint\n",
    "import numpy as np\n",
    "\n",
    "seed(42)\n",
    "N = 7\n",
    "df = pd.DataFrame({\n",
    "   'Weather' : ['cold', 'hot', 'cold', 'hot',\n",
    "   'cold', 'hot', 'cold'],\n",
    "   'Food' : ['soup', 'soup', 'icecream', 'chocolate',\n",
    "   'icecream', 'icecream', 'soup'],\n",
    "   'Price' : 10 * rand(N), 'Number' : randint(1, 9, size=(N,))})\n",
    "\n",
    "# print(\"DataFrame\\n\", df)\n",
    "df"
   ]
  },
  {
   "cell_type": "code",
   "execution_count": 65,
   "metadata": {},
   "outputs": [
    {
     "data": {
      "text/html": [
       "<div>\n",
       "<table border=\"1\" class=\"dataframe\">\n",
       "  <thead>\n",
       "    <tr style=\"text-align: right;\">\n",
       "      <th>Food</th>\n",
       "      <th>chocolate</th>\n",
       "      <th>icecream</th>\n",
       "      <th>soup</th>\n",
       "    </tr>\n",
       "  </thead>\n",
       "  <tbody>\n",
       "    <tr>\n",
       "      <th>Number</th>\n",
       "      <td>8.000000</td>\n",
       "      <td>15.000000</td>\n",
       "      <td>19.00000</td>\n",
       "    </tr>\n",
       "    <tr>\n",
       "      <th>Price</th>\n",
       "      <td>5.986585</td>\n",
       "      <td>10.440071</td>\n",
       "      <td>13.83338</td>\n",
       "    </tr>\n",
       "  </tbody>\n",
       "</table>\n",
       "</div>"
      ],
      "text/plain": [
       "Food    chocolate   icecream      soup\n",
       "Number   8.000000  15.000000  19.00000\n",
       "Price    5.986585  10.440071  13.83338"
      ]
     },
     "execution_count": 65,
     "metadata": {},
     "output_type": "execute_result"
    }
   ],
   "source": [
    "# print(pd.pivot_table(df, cols=['Food'], aggfunc=np.sum))\n",
    "pd.pivot_table(df, columns=['Food'], aggfunc=np.sum)"
   ]
  },
  {
   "cell_type": "code",
   "execution_count": 66,
   "metadata": {},
   "outputs": [
    {
     "data": {
      "text/html": [
       "<div>\n",
       "<table border=\"1\" class=\"dataframe\">\n",
       "  <thead>\n",
       "    <tr style=\"text-align: right;\">\n",
       "      <th>Food</th>\n",
       "      <th>chocolate</th>\n",
       "      <th>icecream</th>\n",
       "      <th>soup</th>\n",
       "    </tr>\n",
       "  </thead>\n",
       "  <tbody>\n",
       "    <tr>\n",
       "      <th>Number</th>\n",
       "      <td>8.000000</td>\n",
       "      <td>5.000000</td>\n",
       "      <td>6.333333</td>\n",
       "    </tr>\n",
       "    <tr>\n",
       "      <th>Price</th>\n",
       "      <td>5.986585</td>\n",
       "      <td>3.480024</td>\n",
       "      <td>4.611127</td>\n",
       "    </tr>\n",
       "  </tbody>\n",
       "</table>\n",
       "</div>"
      ],
      "text/plain": [
       "Food    chocolate  icecream      soup\n",
       "Number   8.000000  5.000000  6.333333\n",
       "Price    5.986585  3.480024  4.611127"
      ]
     },
     "execution_count": 66,
     "metadata": {},
     "output_type": "execute_result"
    }
   ],
   "source": [
    "pd.pivot_table(df, columns = 'Food', aggfunc = np.mean)"
   ]
  },
  {
   "cell_type": "markdown",
   "metadata": {},
   "source": [
    "## 4.12 訪問遠程數據"
   ]
  },
  {
   "cell_type": "code",
   "execution_count": 67,
   "metadata": {},
   "outputs": [
    {
     "ename": "RemoteDataError",
     "evalue": "Data not available",
     "output_type": "error",
     "traceback": [
      "\u001b[1;31m---------------------------------------------------------------------------\u001b[0m",
      "\u001b[1;31mAttributeError\u001b[0m                            Traceback (most recent call last)",
      "\u001b[1;32mD:\\Python\\lib\\site-packages\\pandas_datareader\\yahoo\\options.py\u001b[0m in \u001b[0;36mexpiry_dates\u001b[1;34m(self)\u001b[0m\n\u001b[0;32m    618\u001b[0m         \u001b[1;32mtry\u001b[0m\u001b[1;33m:\u001b[0m\u001b[1;33m\u001b[0m\u001b[0m\n\u001b[1;32m--> 619\u001b[1;33m             \u001b[0mexpiry_dates\u001b[0m \u001b[1;33m=\u001b[0m \u001b[0mself\u001b[0m\u001b[1;33m.\u001b[0m\u001b[0m_expiry_dates\u001b[0m\u001b[1;33m\u001b[0m\u001b[0m\n\u001b[0m\u001b[0;32m    620\u001b[0m         \u001b[1;32mexcept\u001b[0m \u001b[0mAttributeError\u001b[0m\u001b[1;33m:\u001b[0m\u001b[1;33m\u001b[0m\u001b[0m\n",
      "\u001b[1;31mAttributeError\u001b[0m: 'Options' object has no attribute '_expiry_dates'",
      "\nDuring handling of the above exception, another exception occurred:\n",
      "\u001b[1;31mRemoteDataError\u001b[0m                           Traceback (most recent call last)",
      "\u001b[1;32m<ipython-input-67-259a31759bb5>\u001b[0m in \u001b[0;36m<module>\u001b[1;34m()\u001b[0m\n\u001b[0;32m     21\u001b[0m \u001b[1;33m\u001b[0m\u001b[0m\n\u001b[0;32m     22\u001b[0m \u001b[1;32mif\u001b[0m \u001b[0m__name__\u001b[0m \u001b[1;33m==\u001b[0m \u001b[1;34m\"__main__\"\u001b[0m\u001b[1;33m:\u001b[0m\u001b[1;33m\u001b[0m\u001b[0m\n\u001b[1;32m---> 23\u001b[1;33m     \u001b[0mprint\u001b[0m\u001b[1;33m(\u001b[0m\u001b[0mget_straddle\u001b[0m\u001b[1;33m(\u001b[0m\u001b[1;33m)\u001b[0m\u001b[1;33m)\u001b[0m\u001b[1;33m\u001b[0m\u001b[0m\n\u001b[0m",
      "\u001b[1;32m<ipython-input-67-259a31759bb5>\u001b[0m in \u001b[0;36mget_straddle\u001b[1;34m()\u001b[0m\n\u001b[0;32m     16\u001b[0m \u001b[1;32mdef\u001b[0m \u001b[0mget_straddle\u001b[0m\u001b[1;33m(\u001b[0m\u001b[1;33m)\u001b[0m\u001b[1;33m:\u001b[0m\u001b[1;33m\u001b[0m\u001b[0m\n\u001b[0;32m     17\u001b[0m     \u001b[0moptions\u001b[0m \u001b[1;33m=\u001b[0m \u001b[0mOptions\u001b[0m\u001b[1;33m(\u001b[0m\u001b[1;34m'AAPL'\u001b[0m\u001b[1;33m,\u001b[0m \u001b[1;34m\"yahoo\"\u001b[0m\u001b[1;33m)\u001b[0m\u001b[1;33m\u001b[0m\u001b[0m\n\u001b[1;32m---> 18\u001b[1;33m     \u001b[0mcall\u001b[0m \u001b[1;33m=\u001b[0m  \u001b[0mget_price\u001b[0m\u001b[1;33m(\u001b[0m\u001b[0moptions\u001b[0m\u001b[1;33m,\u001b[0m \u001b[1;32mTrue\u001b[0m\u001b[1;33m,\u001b[0m \u001b[1;32mFalse\u001b[0m\u001b[1;33m)\u001b[0m\u001b[1;33m\u001b[0m\u001b[0m\n\u001b[0m\u001b[0;32m     19\u001b[0m     \u001b[0mput\u001b[0m \u001b[1;33m=\u001b[0m \u001b[0mget_price\u001b[0m\u001b[1;33m(\u001b[0m\u001b[0moptions\u001b[0m\u001b[1;33m,\u001b[0m \u001b[1;32mFalse\u001b[0m\u001b[1;33m,\u001b[0m \u001b[1;32mTrue\u001b[0m\u001b[1;33m)\u001b[0m\u001b[1;33m\u001b[0m\u001b[0m\n\u001b[0;32m     20\u001b[0m     \u001b[1;32mreturn\u001b[0m \u001b[0mcall\u001b[0m \u001b[1;33m+\u001b[0m \u001b[0mput\u001b[0m\u001b[1;33m\u001b[0m\u001b[0m\n",
      "\u001b[1;32m<ipython-input-67-259a31759bb5>\u001b[0m in \u001b[0;36mget_price\u001b[1;34m(options, is_call, is_put)\u001b[0m\n\u001b[0;32m     10\u001b[0m \u001b[1;32mdef\u001b[0m \u001b[0mget_price\u001b[0m\u001b[1;33m(\u001b[0m\u001b[0moptions\u001b[0m\u001b[1;33m,\u001b[0m \u001b[0mis_call\u001b[0m\u001b[1;33m,\u001b[0m \u001b[0mis_put\u001b[0m\u001b[1;33m)\u001b[0m\u001b[1;33m:\u001b[0m\u001b[1;33m\u001b[0m\u001b[0m\n\u001b[0;32m     11\u001b[0m     \u001b[0mfri\u001b[0m \u001b[1;33m=\u001b[0m \u001b[0mnext_friday\u001b[0m\u001b[1;33m(\u001b[0m\u001b[1;33m)\u001b[0m\u001b[1;33m\u001b[0m\u001b[0m\n\u001b[1;32m---> 12\u001b[1;33m     \u001b[0moption_list\u001b[0m \u001b[1;33m=\u001b[0m \u001b[0moptions\u001b[0m\u001b[1;33m.\u001b[0m\u001b[0mget_near_stock_price\u001b[0m\u001b[1;33m(\u001b[0m\u001b[0mabove_below\u001b[0m\u001b[1;33m=\u001b[0m\u001b[1;36m1\u001b[0m\u001b[1;33m,\u001b[0m \u001b[0mcall\u001b[0m\u001b[1;33m=\u001b[0m\u001b[0mis_call\u001b[0m\u001b[1;33m,\u001b[0m \u001b[0mput\u001b[0m\u001b[1;33m=\u001b[0m\u001b[0mis_put\u001b[0m\u001b[1;33m,\u001b[0m \u001b[0mexpiry\u001b[0m\u001b[1;33m=\u001b[0m\u001b[0mfri\u001b[0m\u001b[1;33m)\u001b[0m\u001b[1;33m[\u001b[0m\u001b[1;36m0\u001b[0m\u001b[1;33m]\u001b[0m\u001b[1;33m\u001b[0m\u001b[0m\n\u001b[0m\u001b[0;32m     13\u001b[0m     \u001b[0moption\u001b[0m \u001b[1;33m=\u001b[0m  \u001b[0moption_list\u001b[0m\u001b[1;33m[\u001b[0m\u001b[0moption_list\u001b[0m\u001b[1;33m[\u001b[0m\u001b[1;34m\"Open Int\"\u001b[0m\u001b[1;33m]\u001b[0m \u001b[1;33m==\u001b[0m \u001b[0moption_list\u001b[0m\u001b[1;33m[\u001b[0m\u001b[1;34m\"Open Int\"\u001b[0m\u001b[1;33m]\u001b[0m\u001b[1;33m.\u001b[0m\u001b[0mmax\u001b[0m\u001b[1;33m(\u001b[0m\u001b[1;33m)\u001b[0m\u001b[1;33m]\u001b[0m\u001b[1;33m\u001b[0m\u001b[0m\n\u001b[0;32m     14\u001b[0m     \u001b[1;32mreturn\u001b[0m \u001b[0moption\u001b[0m\u001b[1;33m[\u001b[0m\u001b[1;34m\"Last\"\u001b[0m\u001b[1;33m]\u001b[0m\u001b[1;33m.\u001b[0m\u001b[0mvalues\u001b[0m\u001b[1;33m[\u001b[0m\u001b[1;36m0\u001b[0m\u001b[1;33m]\u001b[0m\u001b[1;33m\u001b[0m\u001b[0m\n",
      "\u001b[1;32mD:\\Python\\lib\\site-packages\\pandas_datareader\\yahoo\\options.py\u001b[0m in \u001b[0;36mget_near_stock_price\u001b[1;34m(self, above_below, call, put, month, year, expiry)\u001b[0m\n\u001b[0;32m    400\u001b[0m \u001b[1;33m\u001b[0m\u001b[0m\n\u001b[0;32m    401\u001b[0m         \"\"\"\n\u001b[1;32m--> 402\u001b[1;33m         \u001b[0mexpiry\u001b[0m \u001b[1;33m=\u001b[0m \u001b[0mself\u001b[0m\u001b[1;33m.\u001b[0m\u001b[0m_try_parse_dates\u001b[0m\u001b[1;33m(\u001b[0m\u001b[0myear\u001b[0m\u001b[1;33m,\u001b[0m \u001b[0mmonth\u001b[0m\u001b[1;33m,\u001b[0m \u001b[0mexpiry\u001b[0m\u001b[1;33m)\u001b[0m\u001b[1;33m\u001b[0m\u001b[0m\n\u001b[0m\u001b[0;32m    403\u001b[0m         \u001b[0mdata\u001b[0m \u001b[1;33m=\u001b[0m \u001b[0mself\u001b[0m\u001b[1;33m.\u001b[0m\u001b[0m_get_data_in_date_range\u001b[0m\u001b[1;33m(\u001b[0m\u001b[0mexpiry\u001b[0m\u001b[1;33m,\u001b[0m \u001b[0mcall\u001b[0m\u001b[1;33m=\u001b[0m\u001b[0mcall\u001b[0m\u001b[1;33m,\u001b[0m \u001b[0mput\u001b[0m\u001b[1;33m=\u001b[0m\u001b[0mput\u001b[0m\u001b[1;33m)\u001b[0m\u001b[1;33m\u001b[0m\u001b[0m\n\u001b[0;32m    404\u001b[0m         \u001b[1;32mreturn\u001b[0m \u001b[0mself\u001b[0m\u001b[1;33m.\u001b[0m\u001b[0mchop_data\u001b[0m\u001b[1;33m(\u001b[0m\u001b[0mdata\u001b[0m\u001b[1;33m,\u001b[0m \u001b[0mabove_below\u001b[0m\u001b[1;33m,\u001b[0m \u001b[0mself\u001b[0m\u001b[1;33m.\u001b[0m\u001b[0munderlying_price\u001b[0m\u001b[1;33m)\u001b[0m\u001b[1;33m\u001b[0m\u001b[0m\n",
      "\u001b[1;32mD:\\Python\\lib\\site-packages\\pandas_datareader\\yahoo\\options.py\u001b[0m in \u001b[0;36m_try_parse_dates\u001b[1;34m(self, year, month, expiry)\u001b[0m\n\u001b[0;32m    456\u001b[0m                 \u001b[0mexpiry\u001b[0m \u001b[1;33m=\u001b[0m \u001b[1;33m[\u001b[0m\u001b[0mself\u001b[0m\u001b[1;33m.\u001b[0m\u001b[0m_validate_expiry\u001b[0m\u001b[1;33m(\u001b[0m\u001b[0mexp\u001b[0m\u001b[1;33m)\u001b[0m \u001b[1;32mfor\u001b[0m \u001b[0mexp\u001b[0m \u001b[1;32min\u001b[0m \u001b[0mexpiry\u001b[0m\u001b[1;33m]\u001b[0m\u001b[1;33m\u001b[0m\u001b[0m\n\u001b[0;32m    457\u001b[0m             \u001b[1;32melse\u001b[0m\u001b[1;33m:\u001b[0m\u001b[1;33m\u001b[0m\u001b[0m\n\u001b[1;32m--> 458\u001b[1;33m                 \u001b[0mexpiry\u001b[0m \u001b[1;33m=\u001b[0m \u001b[1;33m[\u001b[0m\u001b[0mself\u001b[0m\u001b[1;33m.\u001b[0m\u001b[0m_validate_expiry\u001b[0m\u001b[1;33m(\u001b[0m\u001b[0mexpiry\u001b[0m\u001b[1;33m)\u001b[0m\u001b[1;33m]\u001b[0m\u001b[1;33m\u001b[0m\u001b[0m\n\u001b[0m\u001b[0;32m    459\u001b[0m \u001b[1;33m\u001b[0m\u001b[0m\n\u001b[0;32m    460\u001b[0m             \u001b[1;32mif\u001b[0m \u001b[0mlen\u001b[0m\u001b[1;33m(\u001b[0m\u001b[0mexpiry\u001b[0m\u001b[1;33m)\u001b[0m \u001b[1;33m==\u001b[0m \u001b[1;36m0\u001b[0m\u001b[1;33m:\u001b[0m\u001b[1;33m\u001b[0m\u001b[0m\n",
      "\u001b[1;32mD:\\Python\\lib\\site-packages\\pandas_datareader\\yahoo\\options.py\u001b[0m in \u001b[0;36m_validate_expiry\u001b[1;34m(self, expiry)\u001b[0m\n\u001b[0;32m    480\u001b[0m         If the expiry date does not have options that expire on that day, return next expiry\"\"\"\n\u001b[0;32m    481\u001b[0m \u001b[1;33m\u001b[0m\u001b[0m\n\u001b[1;32m--> 482\u001b[1;33m         \u001b[0mexpiry_dates\u001b[0m \u001b[1;33m=\u001b[0m \u001b[0mself\u001b[0m\u001b[1;33m.\u001b[0m\u001b[0mexpiry_dates\u001b[0m\u001b[1;33m\u001b[0m\u001b[0m\n\u001b[0m\u001b[0;32m    483\u001b[0m         \u001b[0mexpiry\u001b[0m \u001b[1;33m=\u001b[0m \u001b[0mto_datetime\u001b[0m\u001b[1;33m(\u001b[0m\u001b[0mexpiry\u001b[0m\u001b[1;33m)\u001b[0m\u001b[1;33m\u001b[0m\u001b[0m\n\u001b[0;32m    484\u001b[0m         \u001b[1;32mif\u001b[0m \u001b[0mhasattr\u001b[0m\u001b[1;33m(\u001b[0m\u001b[0mexpiry\u001b[0m\u001b[1;33m,\u001b[0m \u001b[1;34m'date'\u001b[0m\u001b[1;33m)\u001b[0m\u001b[1;33m:\u001b[0m\u001b[1;33m\u001b[0m\u001b[0m\n",
      "\u001b[1;32mD:\\Python\\lib\\site-packages\\pandas_datareader\\yahoo\\options.py\u001b[0m in \u001b[0;36mexpiry_dates\u001b[1;34m(self)\u001b[0m\n\u001b[0;32m    619\u001b[0m             \u001b[0mexpiry_dates\u001b[0m \u001b[1;33m=\u001b[0m \u001b[0mself\u001b[0m\u001b[1;33m.\u001b[0m\u001b[0m_expiry_dates\u001b[0m\u001b[1;33m\u001b[0m\u001b[0m\n\u001b[0;32m    620\u001b[0m         \u001b[1;32mexcept\u001b[0m \u001b[0mAttributeError\u001b[0m\u001b[1;33m:\u001b[0m\u001b[1;33m\u001b[0m\u001b[0m\n\u001b[1;32m--> 621\u001b[1;33m             \u001b[0mexpiry_dates\u001b[0m\u001b[1;33m,\u001b[0m \u001b[0m_\u001b[0m \u001b[1;33m=\u001b[0m \u001b[0mself\u001b[0m\u001b[1;33m.\u001b[0m\u001b[0m_get_expiry_dates_and_links\u001b[0m\u001b[1;33m(\u001b[0m\u001b[1;33m)\u001b[0m\u001b[1;33m\u001b[0m\u001b[0m\n\u001b[0m\u001b[0;32m    622\u001b[0m         \u001b[1;32mreturn\u001b[0m \u001b[0mexpiry_dates\u001b[0m\u001b[1;33m\u001b[0m\u001b[0m\n\u001b[0;32m    623\u001b[0m \u001b[1;33m\u001b[0m\u001b[0m\n",
      "\u001b[1;32mD:\\Python\\lib\\site-packages\\pandas_datareader\\yahoo\\options.py\u001b[0m in \u001b[0;36m_get_expiry_dates_and_links\u001b[1;34m(self)\u001b[0m\n\u001b[0;32m    645\u001b[0m \u001b[1;33m\u001b[0m\u001b[0m\n\u001b[0;32m    646\u001b[0m         \u001b[1;32mif\u001b[0m \u001b[0mlen\u001b[0m\u001b[1;33m(\u001b[0m\u001b[0mexpiry_dates\u001b[0m\u001b[1;33m)\u001b[0m \u001b[1;33m==\u001b[0m \u001b[1;36m0\u001b[0m\u001b[1;33m:\u001b[0m\u001b[1;33m\u001b[0m\u001b[0m\n\u001b[1;32m--> 647\u001b[1;33m             \u001b[1;32mraise\u001b[0m \u001b[0mRemoteDataError\u001b[0m\u001b[1;33m(\u001b[0m\u001b[1;34m'Data not available'\u001b[0m\u001b[1;33m)\u001b[0m \u001b[1;31m# pragma: no cover\u001b[0m\u001b[1;33m\u001b[0m\u001b[0m\n\u001b[0m\u001b[0;32m    648\u001b[0m \u001b[1;33m\u001b[0m\u001b[0m\n\u001b[0;32m    649\u001b[0m         \u001b[0mexpiry_links\u001b[0m \u001b[1;33m=\u001b[0m \u001b[0mdict\u001b[0m\u001b[1;33m(\u001b[0m\u001b[0mzip\u001b[0m\u001b[1;33m(\u001b[0m\u001b[0mexpiry_dates\u001b[0m\u001b[1;33m,\u001b[0m \u001b[0mlinks\u001b[0m\u001b[1;33m)\u001b[0m\u001b[1;33m)\u001b[0m\u001b[1;33m\u001b[0m\u001b[0m\n",
      "\u001b[1;31mRemoteDataError\u001b[0m: Data not available"
     ]
    }
   ],
   "source": [
    "# from pandas.io.data import Options\n",
    "from pandas_datareader.data import Options\n",
    "import datetime\n",
    "\n",
    "\n",
    "def next_friday():\n",
    "    today = datetime.date.today()\n",
    "    return today + datetime.timedelta( (4-today.weekday()) % 7 )\n",
    "\n",
    "def get_price(options, is_call, is_put):\n",
    "    fri = next_friday()\n",
    "    option_list = options.get_near_stock_price(above_below=1, call=is_call, put=is_put, expiry=fri)[0]\n",
    "    option =  option_list[option_list[\"Open Int\"] == option_list[\"Open Int\"].max()]    \n",
    "    return option[\"Last\"].values[0]\n",
    "\n",
    "def get_straddle():\n",
    "    options = Options('AAPL', \"yahoo\")\n",
    "    call =  get_price(options, True, False)\n",
    "    put = get_price(options, False, True)\n",
    "    return call + put\n",
    "\n",
    "if __name__ == \"__main__\":\n",
    "    print(get_straddle())"
   ]
  }
 ],
 "metadata": {
  "kernelspec": {
   "display_name": "Python 3",
   "language": "python",
   "name": "python3"
  },
  "language_info": {
   "codemirror_mode": {
    "name": "ipython",
    "version": 3
   },
   "file_extension": ".py",
   "mimetype": "text/x-python",
   "name": "python",
   "nbconvert_exporter": "python",
   "pygments_lexer": "ipython3",
   "version": "3.5.3"
  }
 },
 "nbformat": 4,
 "nbformat_minor": 2
}
